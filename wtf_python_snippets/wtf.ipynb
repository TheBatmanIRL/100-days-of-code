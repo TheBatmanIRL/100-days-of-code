{
  "cells": [
    {
      "cell_type": "markdown",
      "metadata": {
        "id": "view-in-github",
        "colab_type": "text"
      },
      "source": [
        "<a href=\"https://colab.research.google.com/github/TheBatmanIRL/100-days-of-code/blob/master/wtf_python_snippets/wtf.ipynb\" target=\"_parent\"><img src=\"https://colab.research.google.com/assets/colab-badge.svg\" alt=\"Open In Colab\"/></a>"
      ]
    },
    {
      "cell_type": "markdown",
      "metadata": {
        "id": "krHQtwbczRog"
      },
      "source": [
        "<p align=\"center\"><img src=\"/images/logo.png\" alt=\"\"></p>\n",
        "<h1 align=\"center\">What the f*ck Python! 😱</h1>\n",
        "<p align=\"center\">Exploring and understanding Python through surprising snippets.</p>\n",
        "\n",
        "Translations: [Chinese 中文](https://github.com/leisurelicht/wtfpython-cn) | [Vietnamese Tiếng Việt](https://github.com/vuduclyunitn/wtfptyhon-vi) | [Add translation](https://github.com/satwikkansal/wtfpython/issues/new?title=Add%20translation%20for%20[LANGUAGE]&body=Expected%20time%20to%20finish:%20[X]%20weeks.%20I%27ll%20start%20working%20on%20it%20from%20[Y].)\n",
        "\n",
        "Other modes: [Interactive](https://colab.research.google.com/github/satwikkansal/wtfpython/blob/master/irrelevant/wtf.ipynb) | [CLI](https://pypi.python.org/pypi/wtfpython)\n",
        "\n",
        "Python, being a beautifully designed high-level and interpreter-based programming language, provides us with many features for the programmer's comfort. But sometimes, the outcomes of a Python snippet may not seem obvious at first sight.\n",
        "\n",
        "Here's a fun project attempting to explain what exactly is happening under the hood for some counter-intuitive snippets and lesser-known features in Python.\n",
        "\n",
        "While some of the examples you see below may not be WTFs in the truest sense, but they'll reveal some of the interesting parts of Python that you might be unaware of. I find it a nice way to learn the internals of a programming language, and I believe that you'll find it interesting too!\n",
        "\n",
        "If you're an experienced Python programmer, you can take it as a challenge to get most of them right in the first attempt. You may have already experienced some of them before, and I might be able to revive sweet old memories of yours! :sweat_smile:\n",
        "\n",
        "PS: If you're a returning reader, you can learn about the new modifications [here](https://github.com/satwikkansal/wtfpython/releases/) (the examples marked with asterisk are the ones added in the latest major revision). \n",
        "\n",
        "So, here we go...\n",
        "\n",
        "\n",
        "# Structure of the Examples\n",
        "\n",
        "All the examples are structured like below:\n",
        "\n",
        "> ### ▶ Some fancy Title\n",
        ">\n",
        "> ```py\n",
        "> # Set up the code.\n",
        "> # Preparation for the magic...\n",
        "> ```\n",
        ">\n",
        "> **Output (Python version(s)):**\n",
        ">\n",
        "> ```py\n",
        "> >>> triggering_statement\n",
        "> Some unexpected output\n",
        "> ```\n",
        "> (Optional): One line describing the unexpected output.\n",
        ">\n",
        ">\n",
        "> #### 💡 Explanation:\n",
        ">\n",
        "> * Brief explanation of what's happening and why is it happening.\n",
        "> ```py\n",
        "> # Set up code\n",
        "> # More examples for further clarification (if necessary)\n",
        "> ```\n",
        "> **Output (Python version(s)):**\n",
        ">\n",
        "> ```py\n",
        "> >>> trigger # some example that makes it easy to unveil the magic\n",
        "> # some justified output\n",
        "> ```\n",
        "\n",
        "**Note:** All the examples are tested on Python 3.5.2 interactive interpreter, and they should work for all the Python versions unless explicitly specified before the output.\n",
        "\n",
        "# Usage\n",
        "\n",
        "A nice way to get the most out of these examples, in my opinion, is to read them chronologically, and for every example:\n",
        "- Carefully read the initial code for setting up the example. If you're an experienced Python programmer, you'll successfully anticipate what's going to happen next most of the time.\n",
        "- Read the output snippets and,\n",
        "  + Check if the outputs are the same as you'd expect.\n",
        "  + Make sure if you know the exact reason behind the output being the way it is.\n",
        "    - If the answer is no (which is perfectly okay), take a deep breath, and read the explanation (and if you still don't understand, shout out! and create an issue [here](https://github.com/satwikkansal/wtfpython/issues/new)).\n",
        "    - If yes, give a gentle pat on your back, and you may skip to the next example.\n",
        "\n",
        "PS: You can also read WTFPython at the command line using the [pypi package](https://pypi.python.org/pypi/wtfpython),\n",
        "```sh\n",
        "$ pip install wtfpython -U\n",
        "$ wtfpython\n",
        "```\n",
        "---\n",
        "\n",
        "# 👀 Examples\n",
        "\n",
        "\n",
        "\n",
        "## Hosted notebook instructions\n",
        "\n",
        "This is just an experimental attempt of browsing wtfpython through jupyter notebooks. Some examples are read-only because, \n",
        "- they either require a version of Python that's not supported in the hosted runtime.\n",
        "- or they can't be reproduced in the notebook envrinonment.\n",
        "\n",
        "The expected outputs are already present in collapsed cells following the code cells. The Google colab provides Python2 (2.7) and Python3 (3.6, default) runtimes. You can switch among these for Python2 specific examples. For examples specific to other minor versions, you can simply refer to collapsed outputs (it's not possible to control the minor version in hosted notebooks as of now). You can check the active version using\n",
        "\n",
        "```py\n",
        ">>> import sys\n",
        ">>> sys.version\n",
        "# Prints out Python version here.\n",
        "```\n",
        "\n",
        "That being said, most of the examples do work as expected. If you face any trouble, feel free to consult the original content on wtfpython and create an issue in the repo. Have fun!\n",
        "\n",
        "---\n"
      ]
    },
    {
      "cell_type": "markdown",
      "metadata": {
        "id": "5V2K3jyizRok"
      },
      "source": [
        "### ▶ Strings can be tricky sometimes\n",
        "1\\.\n",
        "\n"
      ]
    },
    {
      "cell_type": "code",
      "execution_count": null,
      "metadata": {
        "collapsed": true,
        "id": "d1MmCfb9zRol",
        "outputId": "f407b529-4d9f-4481-bb43-04bf1c3b2309"
      },
      "outputs": [
        {
          "data": {
            "text/plain": [
              "140420665652016\n"
            ]
          },
          "output_type": "execute_result",
          "metadata": {},
          "execution_count": null
        }
      ],
      "source": [
        "a = \"some_string\"\n",
        "id(a)\n"
      ]
    },
    {
      "cell_type": "code",
      "execution_count": null,
      "metadata": {
        "collapsed": true,
        "id": "7QuiABWWzRom",
        "outputId": "0e3166fc-777e-4c25-8082-e6b6b202129e"
      },
      "outputs": [
        {
          "data": {
            "text/plain": [
              "140420665652016\n"
            ]
          },
          "output_type": "execute_result",
          "metadata": {},
          "execution_count": null
        }
      ],
      "source": [
        "id(\"some\" + \"_\" + \"string\") # Notice that both the ids are same.\n"
      ]
    },
    {
      "cell_type": "markdown",
      "metadata": {
        "id": "ltgOUjmLzRon"
      },
      "source": [
        "\n",
        "2\\.\n"
      ]
    },
    {
      "cell_type": "code",
      "execution_count": null,
      "metadata": {
        "collapsed": true,
        "id": "8r1flbjszRon",
        "outputId": "8404dbfc-71ba-44c8-ea37-d3fd8fe8094f"
      },
      "outputs": [
        {
          "data": {
            "text/plain": [
              "True\n",
              "\n"
            ]
          },
          "output_type": "execute_result",
          "metadata": {},
          "execution_count": null
        }
      ],
      "source": [
        "a = \"wtf\"\n",
        "b = \"wtf\"\n",
        "a is b\n"
      ]
    },
    {
      "cell_type": "code",
      "execution_count": null,
      "metadata": {
        "collapsed": true,
        "id": "bJG_A8q4zRos",
        "outputId": "6d967865-19fc-4d51-cf09-b802a1415fd8"
      },
      "outputs": [
        {
          "data": {
            "text/plain": [
              "False\n",
              "\n"
            ]
          },
          "output_type": "execute_result",
          "metadata": {},
          "execution_count": null
        }
      ],
      "source": [
        "a = \"wtf!\"\n",
        "b = \"wtf!\"\n",
        "a is b\n"
      ]
    },
    {
      "cell_type": "markdown",
      "metadata": {
        "id": "9RZU99MWzRot"
      },
      "source": [
        "\n",
        "3\\.\n",
        "\n"
      ]
    },
    {
      "cell_type": "code",
      "execution_count": null,
      "metadata": {
        "collapsed": true,
        "id": "65UNFsIyzRot",
        "outputId": "502f2e13-0ef1-43a0-b762-4f3e6b0e2708"
      },
      "outputs": [
        {
          "data": {
            "text/plain": [
              "True\n",
              "\n"
            ]
          },
          "output_type": "execute_result",
          "metadata": {},
          "execution_count": null
        }
      ],
      "source": [
        "a, b = \"wtf!\", \"wtf!\"\n",
        "a is b # All versions except 3.7.x\n"
      ]
    },
    {
      "cell_type": "code",
      "execution_count": null,
      "metadata": {
        "collapsed": true,
        "id": "6BDS69w0zRou",
        "outputId": "d41f18fd-2697-4d49-aa37-69ab0934e852"
      },
      "outputs": [
        {
          "data": {
            "text/plain": [
              "False\n"
            ]
          },
          "output_type": "execute_result",
          "metadata": {},
          "execution_count": null
        }
      ],
      "source": [
        "a = \"wtf!\"; b = \"wtf!\"\n",
        "a is b # This will print True or False depending on where you're invoking it (python shell / ipython / as a script)\n"
      ]
    },
    {
      "cell_type": "markdown",
      "metadata": {
        "id": "1C_NN4BAzRou"
      },
      "source": [
        "\n"
      ]
    },
    {
      "cell_type": "code",
      "metadata": {
        "collapsed": true,
        "id": "DsmOJ2ZIzRov",
        "outputId": "71dd2095-b930-4e60-8be4-8d029a00e7d0"
      },
      "execution_count": null,
      "outputs": [
        {
          "name": "stdout",
          "output_type": "stream",
          "text": []
        }
      ],
      "source": [
        "# This time in file some_file.py\n",
        "a = \"wtf!\"\n",
        "b = \"wtf!\"\n",
        "print(a is b)\n",
        "\n",
        "# prints True when the module is invoked!\n"
      ]
    },
    {
      "cell_type": "markdown",
      "metadata": {
        "id": "ZEnHzslLzRov"
      },
      "source": [
        "\n",
        "4\\.\n",
        "\n",
        "**Output (< Python3.7 )**\n",
        "\n"
      ]
    },
    {
      "cell_type": "code",
      "execution_count": null,
      "metadata": {
        "collapsed": true,
        "id": "yUWWjV62zRov",
        "outputId": "23b08368-add3-4046-f084-e46e610c1ee4"
      },
      "outputs": [
        {
          "data": {
            "text/plain": [
              "True\n"
            ]
          },
          "output_type": "execute_result",
          "metadata": {},
          "execution_count": null
        }
      ],
      "source": [
        "'a' * 20 is 'aaaaaaaaaaaaaaaaaaaa'\n"
      ]
    },
    {
      "cell_type": "code",
      "execution_count": null,
      "metadata": {
        "collapsed": true,
        "id": "eWVDl7WpzRow",
        "outputId": "4e33e9d6-1cdb-46fa-a733-8e25e05cd19e"
      },
      "outputs": [
        {
          "data": {
            "text/plain": [
              "False\n"
            ]
          },
          "output_type": "execute_result",
          "metadata": {},
          "execution_count": null
        }
      ],
      "source": [
        "'a' * 21 is 'aaaaaaaaaaaaaaaaaaaaa'\n"
      ]
    },
    {
      "cell_type": "markdown",
      "metadata": {
        "id": "MA3CyzGwzRow"
      },
      "source": [
        "\n",
        "Makes sense, right?\n",
        "\n"
      ]
    },
    {
      "cell_type": "markdown",
      "metadata": {
        "id": "DaLPkbw-zRow"
      },
      "source": [
        "#### 💡 Explanation:\n",
        "+ The behavior in first and second snippets is due to a CPython optimization (called string interning) that tries to use existing immutable objects in some cases rather than creating a new object every time.\n",
        "+ After being \"interned,\" many variables may reference the same string object in memory (saving memory thereby).\n",
        "+ In the snippets above, strings are implicitly interned. The decision of when to implicitly intern a string is implementation-dependent. There are some rules that can be used to guess if a string will be interned or not:\n",
        "  * All length 0 and length 1 strings are interned.\n",
        "  * Strings are interned at compile time (`'wtf'` will be interned but `''.join(['w', 't', 'f'])` will not be interned)\n",
        "  * Strings that are not composed of ASCII letters, digits or underscores, are not interned. This explains why `'wtf!'` was not interned due to `!`. CPython implementation of this rule can be found [here](https://github.com/python/cpython/blob/3.6/Objects/codeobject.c#L19)\n",
        "  ![image](/images/string-intern/string_intern.png)\n",
        "+ When `a` and `b` are set to `\"wtf!\"` in the same line, the Python interpreter creates a new object, then references the second variable at the same time. If you do it on separate lines, it doesn't \"know\" that there's already `\"wtf!\"` as an object (because `\"wtf!\"` is not implicitly interned as per the facts mentioned above). It's a compile-time optimization. This optimization doesn't apply to 3.7.x versions of CPython (check this [issue](https://github.com/satwikkansal/wtfpython/issues/100) for more discussion).\n",
        "+ A compile unit in an interactive environment like IPython consists of a single statement, whereas it consists of the entire module in case of modules. `a, b = \"wtf!\", \"wtf!\"` is single statement, whereas `a = \"wtf!\"; b = \"wtf!\"` are two statements in a single line. This explains why the identities are different in `a = \"wtf!\"; b = \"wtf!\"`, and also explain why they are same when invoked in `some_file.py`\n",
        "+ The abrupt change in the output of the fourth snippet is due to a [peephole optimization](https://en.wikipedia.org/wiki/Peephole_optimization) technique known as Constant folding. This means the expression `'a'*20` is replaced by `'aaaaaaaaaaaaaaaaaaaa'` during compilation to save a  few clock cycles during runtime. Constant folding only occurs for strings having a length of less than 21. (Why? Imagine the size of `.pyc` file generated as a result of the expression `'a'*10**10`). [Here's](https://github.com/python/cpython/blob/3.6/Python/peephole.c#L288) the implementation source for the same.\n",
        "+ Note: In Python 3.7, Constant folding was moved out from peephole optimizer to the new AST optimizer with some change in logic as well, so the fourth snippet doesn't work for Python 3.7. You can read more about the change [here](https://bugs.python.org/issue11549). \n",
        "\n"
      ]
    },
    {
      "cell_type": "markdown",
      "metadata": {
        "id": "j9kcfX0szRox"
      },
      "source": [
        "### ▶ Be careful with chained operations\n"
      ]
    },
    {
      "cell_type": "code",
      "execution_count": null,
      "metadata": {
        "collapsed": true,
        "id": "pv6kpkXHzRox",
        "outputId": "34f84776-b528-417f-c76a-81c419a461f1"
      },
      "outputs": [
        {
          "data": {
            "text/plain": [
              "False\n"
            ]
          },
          "output_type": "execute_result",
          "metadata": {},
          "execution_count": null
        }
      ],
      "source": [
        "(False == False) in [False] # makes sense\n"
      ]
    },
    {
      "cell_type": "code",
      "execution_count": null,
      "metadata": {
        "collapsed": true,
        "id": "bG039XJqzRox",
        "outputId": "e3a5fa68-a811-4c8d-a7e7-7d83c81f3fd0"
      },
      "outputs": [
        {
          "data": {
            "text/plain": [
              "False\n"
            ]
          },
          "output_type": "execute_result",
          "metadata": {},
          "execution_count": null
        }
      ],
      "source": [
        "False == (False in [False]) # makes sense\n"
      ]
    },
    {
      "cell_type": "code",
      "execution_count": null,
      "metadata": {
        "collapsed": true,
        "id": "M7znHhsjzRox",
        "outputId": "29c93cbf-bf88-4e10-805c-d74c0a5d8c61"
      },
      "outputs": [
        {
          "data": {
            "text/plain": [
              "True\n",
              "\n"
            ]
          },
          "output_type": "execute_result",
          "metadata": {},
          "execution_count": null
        }
      ],
      "source": [
        "False == False in [False] # now what?\n"
      ]
    },
    {
      "cell_type": "code",
      "execution_count": null,
      "metadata": {
        "collapsed": true,
        "id": "HBmVlLUDzRox",
        "outputId": "5d8ab3fc-487d-4ee7-f173-01785f483fc8"
      },
      "outputs": [
        {
          "data": {
            "text/plain": [
              "False\n"
            ]
          },
          "output_type": "execute_result",
          "metadata": {},
          "execution_count": null
        }
      ],
      "source": [
        "True is False == False\n"
      ]
    },
    {
      "cell_type": "code",
      "execution_count": null,
      "metadata": {
        "collapsed": true,
        "id": "2aZi7VrszRoy",
        "outputId": "158429e7-99a2-4971-c839-1f4e801724f1"
      },
      "outputs": [
        {
          "data": {
            "text/plain": [
              "True\n",
              "\n"
            ]
          },
          "output_type": "execute_result",
          "metadata": {},
          "execution_count": null
        }
      ],
      "source": [
        "False is False is False\n"
      ]
    },
    {
      "cell_type": "code",
      "execution_count": null,
      "metadata": {
        "collapsed": true,
        "id": "_TKdCaKQzRoy",
        "outputId": "a2fdd263-3e4b-4da2-f8e7-71ccd0c830bc"
      },
      "outputs": [
        {
          "data": {
            "text/plain": [
              "True\n"
            ]
          },
          "output_type": "execute_result",
          "metadata": {},
          "execution_count": null
        }
      ],
      "source": [
        "1 > 0 < 1\n"
      ]
    },
    {
      "cell_type": "code",
      "execution_count": null,
      "metadata": {
        "collapsed": true,
        "id": "HVqPGbQXzRoy",
        "outputId": "f6a3f739-72dd-431d-ce8b-3bb88cb3fc5f"
      },
      "outputs": [
        {
          "data": {
            "text/plain": [
              "False\n"
            ]
          },
          "output_type": "execute_result",
          "metadata": {},
          "execution_count": null
        }
      ],
      "source": [
        "(1 > 0) < 1\n"
      ]
    },
    {
      "cell_type": "code",
      "execution_count": null,
      "metadata": {
        "collapsed": true,
        "id": "vyadK-y7zRoy",
        "outputId": "0f96638f-6f48-490f-fac1-637a97f1816d"
      },
      "outputs": [
        {
          "data": {
            "text/plain": [
              "False\n"
            ]
          },
          "output_type": "execute_result",
          "metadata": {},
          "execution_count": null
        }
      ],
      "source": [
        "1 > (0 < 1)\n"
      ]
    },
    {
      "cell_type": "markdown",
      "metadata": {
        "id": "taywNF9ZzRoy"
      },
      "source": [
        "\n"
      ]
    },
    {
      "cell_type": "markdown",
      "metadata": {
        "id": "hNoxCdgMzRoz"
      },
      "source": [
        "#### 💡 Explanation:\n",
        "\n",
        "As per https://docs.python.org/3/reference/expressions.html#membership-test-operations\n",
        "\n",
        "> Formally, if a, b, c, ..., y, z are expressions and op1, op2, ..., opN are comparison operators, then a op1 b op2 c ... y opN z is equivalent to a op1 b and b op2 c and ... y opN z, except that each expression is evaluated at most once.\n",
        "\n",
        "While such behavior might seem silly to you in the above examples, it's fantastic with stuff like `a == b == c` and `0 <= x <= 100`.\n",
        "\n",
        "* `False is False is False` is equivalent to `(False is False) and (False is False)`\n",
        "* `True is False == False` is equivalent to `True is False and False == False` and since the first part of the statement (`True is False`) evaluates to `False`, the overall expression evaluates to `False`.\n",
        "* `1 > 0 < 1` is equivalent to `1 > 0 and 0 < 1` which evaluates to `True`.\n",
        "* The expression `(1 > 0) < 1` is equivalent to `True < 1` and\n"
      ]
    },
    {
      "cell_type": "code",
      "execution_count": null,
      "metadata": {
        "collapsed": true,
        "id": "orddY_s8zRoz",
        "outputId": "0acc1cbd-dad0-4e16-e2e7-4f51473ac91e"
      },
      "outputs": [
        {
          "data": {
            "text/plain": [
              "  1\n"
            ]
          },
          "output_type": "execute_result",
          "metadata": {},
          "execution_count": null
        }
      ],
      "source": [
        "  int(True)\n"
      ]
    },
    {
      "cell_type": "code",
      "execution_count": null,
      "metadata": {
        "collapsed": true,
        "id": "d_CzLOVKzRoz",
        "outputId": "38e66def-214c-4196-d0ae-c2fb68b662ee"
      },
      "outputs": [
        {
          "data": {
            "text/plain": [
              "  2\n"
            ]
          },
          "output_type": "execute_result",
          "metadata": {},
          "execution_count": null
        }
      ],
      "source": [
        "  True + 1 #not relevant for this example, but just for fun\n"
      ]
    },
    {
      "cell_type": "markdown",
      "metadata": {
        "id": "4n_x_w6azRoz"
      },
      "source": [
        "  So, `1 < 1` evaluates to `False`\n",
        "\n"
      ]
    },
    {
      "cell_type": "markdown",
      "metadata": {
        "id": "sJHT29-7zRoz"
      },
      "source": [
        "### ▶ How not to use `is` operator\n",
        "The following is a very famous example present all over the internet.\n",
        "\n",
        "1\\.\n",
        "\n"
      ]
    },
    {
      "cell_type": "code",
      "execution_count": null,
      "metadata": {
        "collapsed": true,
        "id": "tVmVq8BazRoz",
        "outputId": "dd7afaf6-138d-45f6-d902-0cb7988238f4"
      },
      "outputs": [
        {
          "data": {
            "text/plain": [
              "True\n",
              "\n"
            ]
          },
          "output_type": "execute_result",
          "metadata": {},
          "execution_count": null
        }
      ],
      "source": [
        "a = 256\n",
        "b = 256\n",
        "a is b\n"
      ]
    },
    {
      "cell_type": "code",
      "execution_count": null,
      "metadata": {
        "collapsed": true,
        "id": "NnNDcf04zRo0",
        "outputId": "af967643-2d02-4ea7-d688-37dcfac011d7"
      },
      "outputs": [
        {
          "data": {
            "text/plain": [
              "False\n"
            ]
          },
          "output_type": "execute_result",
          "metadata": {},
          "execution_count": null
        }
      ],
      "source": [
        "a = 257\n",
        "b = 257\n",
        "a is b\n"
      ]
    },
    {
      "cell_type": "markdown",
      "metadata": {
        "id": "hROLaNngzRo0"
      },
      "source": [
        "\n",
        "2\\.\n",
        "\n"
      ]
    },
    {
      "cell_type": "code",
      "execution_count": null,
      "metadata": {
        "collapsed": true,
        "id": "D-njUD5zzRo0",
        "outputId": "786f39dc-8d51-40ff-845e-cb0383083253"
      },
      "outputs": [
        {
          "data": {
            "text/plain": [
              "False\n",
              "\n"
            ]
          },
          "output_type": "execute_result",
          "metadata": {},
          "execution_count": null
        }
      ],
      "source": [
        "a = []\n",
        "b = []\n",
        "a is b\n"
      ]
    },
    {
      "cell_type": "code",
      "execution_count": null,
      "metadata": {
        "collapsed": true,
        "id": "kkPhwZg9zRo0",
        "outputId": "85a563b5-9d5a-4163-8ff1-c3b2359a6b7c"
      },
      "outputs": [
        {
          "data": {
            "text/plain": [
              "True\n"
            ]
          },
          "output_type": "execute_result",
          "metadata": {},
          "execution_count": null
        }
      ],
      "source": [
        "a = tuple()\n",
        "b = tuple()\n",
        "a is b\n"
      ]
    },
    {
      "cell_type": "markdown",
      "metadata": {
        "id": "PPWO2Sz-zRo0"
      },
      "source": [
        "\n",
        "3\\.\n",
        "**Output**\n",
        "\n"
      ]
    },
    {
      "cell_type": "code",
      "execution_count": null,
      "metadata": {
        "collapsed": true,
        "id": "iK4DZkjOzRo0",
        "outputId": "f1ef7e2b-ab04-4df4-d67d-f4689e9f0da1"
      },
      "outputs": [
        {
          "data": {
            "text/plain": [
              "True\n"
            ]
          },
          "output_type": "execute_result",
          "metadata": {},
          "execution_count": null
        }
      ],
      "source": [
        "a, b = 257, 257\n",
        "a is b\n"
      ]
    },
    {
      "cell_type": "markdown",
      "metadata": {
        "id": "46D_4HUjzRo0"
      },
      "source": [
        "\n",
        "**Output (Python 3.7.x specifically)**\n",
        "\n"
      ]
    },
    {
      "cell_type": "code",
      "execution_count": null,
      "metadata": {
        "collapsed": true,
        "id": "qgai00kkzRo1",
        "outputId": "59dff14a-42b9-434b-f1d4-68ba6951ca38"
      },
      "outputs": [
        {
          "data": {
            "text/plain": [
              ">> a is b\n",
              "False\n"
            ]
          },
          "output_type": "execute_result",
          "metadata": {},
          "execution_count": null
        }
      ],
      "source": [
        "a, b = 257, 257\n"
      ]
    },
    {
      "cell_type": "markdown",
      "metadata": {
        "id": "NTZySLTIzRo1"
      },
      "source": [
        "\n"
      ]
    },
    {
      "cell_type": "markdown",
      "metadata": {
        "id": "TNJQn7_jzRo1"
      },
      "source": [
        "#### 💡 Explanation:\n",
        "\n",
        "**The difference between `is` and `==`**\n",
        "\n",
        "* `is` operator checks if both the operands refer to the same object (i.e., it checks if the identity of the operands matches or not).\n",
        "* `==` operator compares the values of both the operands and checks if they are the same.\n",
        "* So `is` is for reference equality and `==` is for value equality. An example to clear things up,\n"
      ]
    },
    {
      "cell_type": "code",
      "execution_count": null,
      "metadata": {
        "collapsed": true,
        "id": "NuT37wWnzRo1",
        "outputId": "945465e3-6788-489c-e215-a793fd6657af"
      },
      "outputs": [
        {
          "data": {
            "text/plain": [
              "  False\n"
            ]
          },
          "output_type": "execute_result",
          "metadata": {},
          "execution_count": null
        }
      ],
      "source": [
        "  class A: pass\n",
        "  A() is A() # These are two empty objects at two different memory locations.\n"
      ]
    },
    {
      "cell_type": "markdown",
      "metadata": {
        "id": "brn1WObAzRo1"
      },
      "source": [
        "\n",
        "**`256` is an existing object but `257` isn't**\n",
        "\n",
        "When you start up python the numbers from `-5` to `256` will be allocated. These numbers are used a lot, so it makes sense just to have them ready.\n",
        "\n",
        "Quoting from https://docs.python.org/3/c-api/long.html\n",
        "> The current implementation keeps an array of integer objects for all integers between -5 and 256, when you create an int in that range you just get back a reference to the existing object. So it should be possible to change the value of 1. I suspect the behavior of Python, in this case, is undefined. :-)\n",
        "\n"
      ]
    },
    {
      "cell_type": "code",
      "execution_count": null,
      "metadata": {
        "collapsed": true,
        "id": "rf1HsLbQzRo1",
        "outputId": "3cbfcee7-326a-4e75-d68e-a8473a45e42a"
      },
      "outputs": [
        {
          "data": {
            "text/plain": [
              "10922528\n"
            ]
          },
          "output_type": "execute_result",
          "metadata": {},
          "execution_count": null
        }
      ],
      "source": [
        "id(256)\n"
      ]
    },
    {
      "cell_type": "code",
      "execution_count": null,
      "metadata": {
        "collapsed": true,
        "id": "tTj3j0gwzRo2",
        "outputId": "7c733871-268f-47e5-b1f3-ad878890c7e2"
      },
      "outputs": [
        {
          "data": {
            "text/plain": [
              "10922528\n"
            ]
          },
          "output_type": "execute_result",
          "metadata": {},
          "execution_count": null
        }
      ],
      "source": [
        "a = 256\n",
        "b = 256\n",
        "id(a)\n"
      ]
    },
    {
      "cell_type": "code",
      "execution_count": null,
      "metadata": {
        "collapsed": true,
        "id": "rf-a9vzmzRo2",
        "outputId": "3df2a09b-7a71-4133-c75d-930031b9cde2"
      },
      "outputs": [
        {
          "data": {
            "text/plain": [
              "10922528\n"
            ]
          },
          "output_type": "execute_result",
          "metadata": {},
          "execution_count": null
        }
      ],
      "source": [
        "id(b)\n"
      ]
    },
    {
      "cell_type": "code",
      "execution_count": null,
      "metadata": {
        "collapsed": true,
        "id": "BeLvaofSzRo2",
        "outputId": "fc828ea9-12be-4266-df64-671a21728a1b"
      },
      "outputs": [
        {
          "data": {
            "text/plain": [
              "140084850247312\n"
            ]
          },
          "output_type": "execute_result",
          "metadata": {},
          "execution_count": null
        }
      ],
      "source": [
        "id(257)\n"
      ]
    },
    {
      "cell_type": "code",
      "execution_count": null,
      "metadata": {
        "collapsed": true,
        "id": "qrTTcwTQzRo2",
        "outputId": "f13d124c-c9a8-4f49-c4d0-03748bb191f7"
      },
      "outputs": [
        {
          "data": {
            "text/plain": [
              "140084850247440\n"
            ]
          },
          "output_type": "execute_result",
          "metadata": {},
          "execution_count": null
        }
      ],
      "source": [
        "x = 257\n",
        "y = 257\n",
        "id(x)\n"
      ]
    },
    {
      "cell_type": "code",
      "execution_count": null,
      "metadata": {
        "collapsed": true,
        "id": "NgdZM3JAzRo2",
        "outputId": "514d4484-ce65-407c-8d62-9f06c396c5e6"
      },
      "outputs": [
        {
          "data": {
            "text/plain": [
              "140084850247344\n"
            ]
          },
          "output_type": "execute_result",
          "metadata": {},
          "execution_count": null
        }
      ],
      "source": [
        "id(y)\n"
      ]
    },
    {
      "cell_type": "markdown",
      "metadata": {
        "id": "DJRW1xCAzRo2"
      },
      "source": [
        "\n",
        "Here the interpreter isn't smart enough while executing `y = 257` to recognize that we've already created an integer of the value `257,` and so it goes on to create another object in the memory.\n",
        "\n",
        "Similar optimization applies to other **immutable** objects like empty tuples as well. Since lists are mutable, that's why `[] is []` will return `False` and `() is ()` will return `True`. This explains our second snippet. Let's move on to the third one, \n",
        "\n",
        "**Both `a` and `b` refer to the same object when initialized with same value in the same line.**\n",
        "\n",
        "**Output**\n",
        "\n"
      ]
    },
    {
      "cell_type": "code",
      "execution_count": null,
      "metadata": {
        "collapsed": true,
        "id": "S6nqTBtbzRo3",
        "outputId": "90bc7360-0d0f-4365-ec68-e2786f6417e4"
      },
      "outputs": [
        {
          "data": {
            "text/plain": [
              "140640774013296\n"
            ]
          },
          "output_type": "execute_result",
          "metadata": {},
          "execution_count": null
        }
      ],
      "source": [
        "a, b = 257, 257\n",
        "id(a)\n"
      ]
    },
    {
      "cell_type": "code",
      "execution_count": null,
      "metadata": {
        "collapsed": true,
        "id": "4zROHfHezRo4",
        "outputId": "3ceb6ea9-7b62-4d4f-f1eb-279231e25366"
      },
      "outputs": [
        {
          "data": {
            "text/plain": [
              "140640774013296\n"
            ]
          },
          "output_type": "execute_result",
          "metadata": {},
          "execution_count": null
        }
      ],
      "source": [
        "id(b)\n"
      ]
    },
    {
      "cell_type": "code",
      "execution_count": null,
      "metadata": {
        "collapsed": true,
        "id": "rnAaTiHXzRo4",
        "outputId": "2690c82e-0f95-42aa-8185-af8b5209cb64"
      },
      "outputs": [
        {
          "data": {
            "text/plain": [
              "140640774013392\n"
            ]
          },
          "output_type": "execute_result",
          "metadata": {},
          "execution_count": null
        }
      ],
      "source": [
        "a = 257\n",
        "b = 257\n",
        "id(a)\n"
      ]
    },
    {
      "cell_type": "code",
      "execution_count": null,
      "metadata": {
        "collapsed": true,
        "id": "PuaeMGU1zRo4",
        "outputId": "632f0167-b9bf-456f-cc83-832acae265e5"
      },
      "outputs": [
        {
          "data": {
            "text/plain": [
              "140640774013488\n"
            ]
          },
          "output_type": "execute_result",
          "metadata": {},
          "execution_count": null
        }
      ],
      "source": [
        "id(b)\n"
      ]
    },
    {
      "cell_type": "markdown",
      "metadata": {
        "id": "MYIU-3rszRo4"
      },
      "source": [
        "\n",
        "* When a and b are set to `257` in the same line, the Python interpreter creates a new object, then references the second variable at the same time. If you do it on separate lines, it doesn't \"know\" that there's already `257` as an object.\n",
        "\n",
        "* It's a compiler optimization and specifically applies to the interactive environment. When you enter two lines in a live interpreter, they're compiled separately, therefore optimized separately. If you were to try this example in a `.py` file, you would not see the same behavior, because the file is compiled all at once. This optimization is not limited to integers, it works for other immutable data types like strings (check the \"Strings are tricky example\") and floats as well,\n",
        "\n"
      ]
    },
    {
      "cell_type": "code",
      "execution_count": null,
      "metadata": {
        "collapsed": true,
        "id": "JybNxXVCzRo4",
        "outputId": "438fc9ab-27a1-45ad-c885-c12b8e18049b"
      },
      "outputs": [
        {
          "data": {
            "text/plain": [
              "  True\n"
            ]
          },
          "output_type": "execute_result",
          "metadata": {},
          "execution_count": null
        }
      ],
      "source": [
        "  a, b = 257.0, 257.0\n",
        "  a is b\n"
      ]
    },
    {
      "cell_type": "markdown",
      "metadata": {
        "id": "jTzahDfHzRo4"
      },
      "source": [
        "\n",
        "* Why didn't this work for Python 3.7? The abstract reason is because such compiler optimizations are implementation specific (i.e. may change with version, OS, etc). I'm still figuring out what exact implementation change cause the issue, you can check out this [issue](https://github.com/satwikkansal/wtfpython/issues/100) for updates.\n",
        "\n"
      ]
    },
    {
      "cell_type": "markdown",
      "metadata": {
        "id": "7LYpGDvszRo4"
      },
      "source": [
        "### ▶ Hash brownies\n",
        "1\\.\n"
      ]
    },
    {
      "cell_type": "code",
      "execution_count": null,
      "metadata": {
        "collapsed": true,
        "id": "XHKhfFF0zRo5",
        "outputId": "d6c9a2cf-8140-4e5f-ab68-678700ad39f6"
      },
      "outputs": [
        {
          "data": {
            "text/plain": []
          },
          "output_type": "execute_result",
          "metadata": {},
          "execution_count": null
        }
      ],
      "source": [
        "some_dict = {}\n",
        "some_dict[5.5] = \"JavaScript\"\n",
        "some_dict[5.0] = \"Ruby\"\n",
        "some_dict[5] = \"Python\"\n"
      ]
    },
    {
      "cell_type": "markdown",
      "metadata": {
        "id": "4_rY5mp_zRo5"
      },
      "source": [
        "\n",
        "**Output:**\n",
        "\n"
      ]
    },
    {
      "cell_type": "code",
      "execution_count": null,
      "metadata": {
        "collapsed": true,
        "id": "nVXs-wn0zRo5",
        "outputId": "dc216f8b-816e-4dd6-be3d-816d325b3e24"
      },
      "outputs": [
        {
          "data": {
            "text/plain": [
              "\"JavaScript\"\n"
            ]
          },
          "output_type": "execute_result",
          "metadata": {},
          "execution_count": null
        }
      ],
      "source": [
        "some_dict[5.5]\n"
      ]
    },
    {
      "cell_type": "code",
      "execution_count": null,
      "metadata": {
        "collapsed": true,
        "id": "f1kot5mNzRo5",
        "outputId": "157b60c8-40d4-4887-8e8f-8f6f3c143891"
      },
      "outputs": [
        {
          "data": {
            "text/plain": [
              "\"Python\"\n"
            ]
          },
          "output_type": "execute_result",
          "metadata": {},
          "execution_count": null
        }
      ],
      "source": [
        "some_dict[5.0] # \"Python\" destroyed the existence of \"Ruby\"?\n"
      ]
    },
    {
      "cell_type": "code",
      "execution_count": null,
      "metadata": {
        "collapsed": true,
        "id": "6dK3Jam_zRo5",
        "outputId": "ccd2fa10-730a-43c9-c618-ac426e38af1c"
      },
      "outputs": [
        {
          "data": {
            "text/plain": [
              "\"Python\"\n",
              "\n"
            ]
          },
          "output_type": "execute_result",
          "metadata": {},
          "execution_count": null
        }
      ],
      "source": [
        "some_dict[5] \n"
      ]
    },
    {
      "cell_type": "code",
      "execution_count": null,
      "metadata": {
        "collapsed": true,
        "id": "Sf8UkVXEzRo5",
        "outputId": "08b3cc8d-9483-45a7-dc58-c308437796d4"
      },
      "outputs": [
        {
          "data": {
            "text/plain": [
              "complex\n"
            ]
          },
          "output_type": "execute_result",
          "metadata": {},
          "execution_count": null
        }
      ],
      "source": [
        "complex_five = 5 + 0j\n",
        "type(complex_five)\n"
      ]
    },
    {
      "cell_type": "code",
      "execution_count": null,
      "metadata": {
        "collapsed": true,
        "id": "P-IFiE0pzRo5",
        "outputId": "4c4bfc0a-a8e7-4eb8-e93b-feb76e918d4a"
      },
      "outputs": [
        {
          "data": {
            "text/plain": [
              "\"Python\"\n"
            ]
          },
          "output_type": "execute_result",
          "metadata": {},
          "execution_count": null
        }
      ],
      "source": [
        "some_dict[complex_five]\n"
      ]
    },
    {
      "cell_type": "markdown",
      "metadata": {
        "id": "G2lvLak8zRo6"
      },
      "source": [
        "\n",
        "So, why is Python all over the place?\n",
        "\n",
        "\n"
      ]
    },
    {
      "cell_type": "markdown",
      "metadata": {
        "id": "DikW2bJzzRo6"
      },
      "source": [
        "#### 💡 Explanation\n",
        "\n",
        "* Uniqueness of keys in a Python dictionary is by *equivalence*, not identity. So even though `5`, `5.0`, and `5 + 0j` are distinct objects of different types, since they're equal, they can't both be in the same `dict` (or `set`). As soon as you insert any one of them, attempting to look up any distinct but equivalent key will succeed with the original mapped value (rather than failing with a `KeyError`):\n"
      ]
    },
    {
      "cell_type": "code",
      "execution_count": null,
      "metadata": {
        "collapsed": true,
        "id": "H-T2atA4zRo6",
        "outputId": "1d59b34e-5cb6-4eaf-db4a-09687f565409"
      },
      "outputs": [
        {
          "data": {
            "text/plain": [
              "  True\n"
            ]
          },
          "output_type": "execute_result",
          "metadata": {},
          "execution_count": null
        }
      ],
      "source": [
        "  5 == 5.0 == 5 + 0j\n"
      ]
    },
    {
      "cell_type": "code",
      "execution_count": null,
      "metadata": {
        "collapsed": true,
        "id": "ZqbmEPS7zRo6",
        "outputId": "3bc9abb0-89e9-4898-e17c-cdd2186d25bc"
      },
      "outputs": [
        {
          "data": {
            "text/plain": [
              "  True\n"
            ]
          },
          "output_type": "execute_result",
          "metadata": {},
          "execution_count": null
        }
      ],
      "source": [
        "  5 is not 5.0 is not 5 + 0j\n"
      ]
    },
    {
      "cell_type": "code",
      "execution_count": null,
      "metadata": {
        "collapsed": true,
        "id": "Y1cmda-MzRo6",
        "outputId": "1493bffb-1208-4c59-80fd-4e0344591b4a"
      },
      "outputs": [
        {
          "data": {
            "text/plain": [
              "  True\n"
            ]
          },
          "output_type": "execute_result",
          "metadata": {},
          "execution_count": null
        }
      ],
      "source": [
        "  some_dict = {}\n",
        "  some_dict[5.0] = \"Ruby\"\n",
        "  5.0 in some_dict\n"
      ]
    },
    {
      "cell_type": "code",
      "execution_count": null,
      "metadata": {
        "collapsed": true,
        "id": "zgZ2_JbZzRo6",
        "outputId": "11cb88d2-541d-44a3-92d4-791850488b02"
      },
      "outputs": [
        {
          "data": {
            "text/plain": [
              "  True\n"
            ]
          },
          "output_type": "execute_result",
          "metadata": {},
          "execution_count": null
        }
      ],
      "source": [
        "  (5 in some_dict) and (5 + 0j in some_dict)\n"
      ]
    },
    {
      "cell_type": "markdown",
      "metadata": {
        "id": "tcKqIGElzRo6"
      },
      "source": [
        "* This applies when setting an item as well. So when you do `some_dict[5] = \"Python\"`, Python finds the existing item with equivalent key `5.0 -> \"Ruby\"`, overwrites its value in place, and leaves the original key alone.\n"
      ]
    },
    {
      "cell_type": "code",
      "execution_count": null,
      "metadata": {
        "collapsed": true,
        "id": "qquGej6ezRo7",
        "outputId": "a5a39979-0156-48b5-f465-35ef4c11823c"
      },
      "outputs": [
        {
          "data": {
            "text/plain": [
              "  {5.0: 'Ruby'}\n"
            ]
          },
          "output_type": "execute_result",
          "metadata": {},
          "execution_count": null
        }
      ],
      "source": [
        "  some_dict\n"
      ]
    },
    {
      "cell_type": "code",
      "execution_count": null,
      "metadata": {
        "collapsed": true,
        "id": "8j0TfgUEzRo7",
        "outputId": "af863c42-bd62-471a-ca92-ffcbb8da84a2"
      },
      "outputs": [
        {
          "data": {
            "text/plain": [
              "  {5.0: 'Python'}\n"
            ]
          },
          "output_type": "execute_result",
          "metadata": {},
          "execution_count": null
        }
      ],
      "source": [
        "  some_dict[5] = \"Python\"\n",
        "  some_dict\n"
      ]
    },
    {
      "cell_type": "markdown",
      "metadata": {
        "id": "1tjREOkrzRo7"
      },
      "source": [
        "* So how can we update the key to `5` (instead of `5.0`)? We can't actually do this update in place, but what we can do is first delete the key (`del some_dict[5.0]`), and then set it (`some_dict[5]`) to get the integer `5` as the key instead of floating `5.0`, though this should be needed in rare cases.\n",
        "\n",
        "* How did Python find `5` in a dictionary containing `5.0`? Python does this in constant time without having to scan through every item by using hash functions. When Python looks up a key `foo` in a dict, it first computes `hash(foo)` (which runs in constant-time). Since in Python it is required that objects that compare equal also have the same hash value ([docs](https://docs.python.org/3/reference/datamodel.html#object.__hash__) here), `5`, `5.0`, and `5 + 0j` have the same hash value.\n"
      ]
    },
    {
      "cell_type": "code",
      "execution_count": null,
      "metadata": {
        "collapsed": true,
        "id": "ApFi35zmzRo7",
        "outputId": "00aef0a5-c03a-449f-abc8-84a35b9f6f0f"
      },
      "outputs": [
        {
          "data": {
            "text/plain": [
              "  True\n"
            ]
          },
          "output_type": "execute_result",
          "metadata": {},
          "execution_count": null
        }
      ],
      "source": [
        "  5 == 5.0 == 5 + 0j\n"
      ]
    },
    {
      "cell_type": "code",
      "execution_count": null,
      "metadata": {
        "collapsed": true,
        "id": "2JJNSlgAzRo7",
        "outputId": "2213b6da-9a8b-4965-9149-9f6dbda8e7ba"
      },
      "outputs": [
        {
          "data": {
            "text/plain": [
              "  True\n"
            ]
          },
          "output_type": "execute_result",
          "metadata": {},
          "execution_count": null
        }
      ],
      "source": [
        "  hash(5) == hash(5.0) == hash(5 + 0j)\n"
      ]
    },
    {
      "cell_type": "markdown",
      "metadata": {
        "id": "FYGW2OD-zRo7"
      },
      "source": [
        "  **Note:** The inverse is not necessarily true: Objects with equal hash values may themselves be unequal. (This causes what's known as a [hash collision](https://en.wikipedia.org/wiki/Collision_(computer_science)), and degrades the constant-time performance that hashing usually provides.)\n",
        "\n"
      ]
    },
    {
      "cell_type": "markdown",
      "metadata": {
        "id": "iOgQ_C-JzRo8"
      },
      "source": [
        "### ▶ Deep down, we're all the same.\n"
      ]
    },
    {
      "cell_type": "code",
      "execution_count": null,
      "metadata": {
        "collapsed": true,
        "id": "TXNeoOOMzRo8",
        "outputId": "ea61c363-9698-44e3-8615-ea6df9f93fc7"
      },
      "outputs": [
        {
          "data": {
            "text/plain": []
          },
          "output_type": "execute_result",
          "metadata": {},
          "execution_count": null
        }
      ],
      "source": [
        "class WTF:\n",
        "  pass\n"
      ]
    },
    {
      "cell_type": "markdown",
      "metadata": {
        "id": "NfydubD0zRo8"
      },
      "source": [
        "\n",
        "**Output:**\n"
      ]
    },
    {
      "cell_type": "code",
      "execution_count": null,
      "metadata": {
        "collapsed": true,
        "id": "U_jt3UXWzRo8",
        "outputId": "c2de46a5-ddb6-4dce-edf5-97b1965344cc"
      },
      "outputs": [
        {
          "data": {
            "text/plain": [
              "False\n"
            ]
          },
          "output_type": "execute_result",
          "metadata": {},
          "execution_count": null
        }
      ],
      "source": [
        "WTF() == WTF() # two different instances can't be equal\n"
      ]
    },
    {
      "cell_type": "code",
      "execution_count": null,
      "metadata": {
        "collapsed": true,
        "id": "5Wko4SuJzRo8",
        "outputId": "a8e272ef-7a44-4103-857d-d122e7cdb953"
      },
      "outputs": [
        {
          "data": {
            "text/plain": [
              "False\n"
            ]
          },
          "output_type": "execute_result",
          "metadata": {},
          "execution_count": null
        }
      ],
      "source": [
        "WTF() is WTF() # identities are also different\n"
      ]
    },
    {
      "cell_type": "code",
      "execution_count": null,
      "metadata": {
        "collapsed": true,
        "id": "gABcxPNuzRo8",
        "outputId": "1d1cf716-f01b-4d9a-8d17-6084fcb6c9b6"
      },
      "outputs": [
        {
          "data": {
            "text/plain": [
              "True\n"
            ]
          },
          "output_type": "execute_result",
          "metadata": {},
          "execution_count": null
        }
      ],
      "source": [
        "hash(WTF()) == hash(WTF()) # hashes _should_ be different as well\n"
      ]
    },
    {
      "cell_type": "code",
      "execution_count": null,
      "metadata": {
        "collapsed": true,
        "id": "-yH2bix2zRo8",
        "outputId": "ad55e00e-45d0-46a9-a4e7-8f17061840e5"
      },
      "outputs": [
        {
          "data": {
            "text/plain": [
              "True\n"
            ]
          },
          "output_type": "execute_result",
          "metadata": {},
          "execution_count": null
        }
      ],
      "source": [
        "id(WTF()) == id(WTF())\n"
      ]
    },
    {
      "cell_type": "markdown",
      "metadata": {
        "id": "7aKWTcfJzRo9"
      },
      "source": [
        "\n"
      ]
    },
    {
      "cell_type": "markdown",
      "metadata": {
        "id": "g1FOaK-QzRo9"
      },
      "source": [
        "#### 💡 Explanation:\n",
        "\n",
        "* When `id` was called, Python created a `WTF` class object and passed it to the `id` function. The `id` function takes its `id` (its memory location), and throws away the object. The object is destroyed.\n",
        "* When we do this twice in succession, Python allocates the same memory location to this second object as well. Since (in CPython) `id` uses the memory location as the object id, the id of the two objects is the same.\n",
        "* So, the object's id is unique only for the lifetime of the object. After the object is destroyed, or before it is created, something else can have the same id.\n",
        "* But why did the `is` operator evaluated to `False`? Let's see with this snippet.\n"
      ]
    },
    {
      "cell_type": "code",
      "execution_count": null,
      "metadata": {
        "collapsed": true,
        "id": "tiUBDY0HzRo9",
        "outputId": "711db706-9da0-4aa6-b506-786335e4b23c"
      },
      "outputs": [
        {
          "data": {
            "text/plain": []
          },
          "output_type": "execute_result",
          "metadata": {},
          "execution_count": null
        }
      ],
      "source": [
        "  class WTF(object):\n",
        "    def __init__(self): print(\"I\")\n",
        "    def __del__(self): print(\"D\")\n"
      ]
    },
    {
      "cell_type": "markdown",
      "metadata": {
        "id": "xjpwhNwUzRo9"
      },
      "source": [
        "\n",
        "  **Output:**\n"
      ]
    },
    {
      "cell_type": "code",
      "execution_count": null,
      "metadata": {
        "collapsed": true,
        "id": "NZ0Yree2zRo9",
        "outputId": "f2e37675-51b7-44a8-b378-6431a1b4145a"
      },
      "outputs": [
        {
          "data": {
            "text/plain": [
              "  I\n",
              "  I\n",
              "  D\n",
              "  D\n",
              "  False\n"
            ]
          },
          "output_type": "execute_result",
          "metadata": {},
          "execution_count": null
        }
      ],
      "source": [
        "  WTF() is WTF()\n"
      ]
    },
    {
      "cell_type": "code",
      "execution_count": null,
      "metadata": {
        "collapsed": true,
        "id": "NvsDxAqrzRo9",
        "outputId": "b57344e7-c88e-4a48-c0bd-8eced4ca2e56"
      },
      "outputs": [
        {
          "data": {
            "text/plain": [
              "  I\n",
              "  D\n",
              "  I\n",
              "  D\n",
              "  True\n"
            ]
          },
          "output_type": "execute_result",
          "metadata": {},
          "execution_count": null
        }
      ],
      "source": [
        "  id(WTF()) == id(WTF())\n"
      ]
    },
    {
      "cell_type": "markdown",
      "metadata": {
        "id": "ROtO9JUuzRo9"
      },
      "source": [
        "  As you may observe, the order in which the objects are destroyed is what made all the difference here.\n",
        "\n"
      ]
    },
    {
      "cell_type": "markdown",
      "metadata": {
        "id": "CBqvT4CozRo-"
      },
      "source": [
        "### ▶ Disorder within order *\n"
      ]
    },
    {
      "cell_type": "code",
      "execution_count": null,
      "metadata": {
        "collapsed": true,
        "id": "WFBotZJHzRo-",
        "outputId": "56eafd64-4a31-45dd-9ba4-a6fc676dbda0"
      },
      "outputs": [
        {
          "data": {
            "text/plain": []
          },
          "output_type": "execute_result",
          "metadata": {},
          "execution_count": null
        }
      ],
      "source": [
        "from collections import OrderedDict\n",
        "\n",
        "dictionary = dict()\n",
        "dictionary[1] = 'a'; dictionary[2] = 'b';\n",
        "\n",
        "ordered_dict = OrderedDict()\n",
        "ordered_dict[1] = 'a'; ordered_dict[2] = 'b';\n",
        "\n",
        "another_ordered_dict = OrderedDict()\n",
        "another_ordered_dict[2] = 'b'; another_ordered_dict[1] = 'a';\n",
        "\n",
        "class DictWithHash(dict):\n",
        "    \"\"\"\n",
        "    A dict that also implements __hash__ magic.\n",
        "    \"\"\"\n",
        "    __hash__ = lambda self: 0\n",
        "\n",
        "class OrderedDictWithHash(OrderedDict):\n",
        "    \"\"\"\n",
        "    An OrderedDict that also implements __hash__ magic.\n",
        "    \"\"\"\n",
        "    __hash__ = lambda self: 0\n"
      ]
    },
    {
      "cell_type": "markdown",
      "metadata": {
        "id": "_5gwhL5MzRo-"
      },
      "source": [
        "\n",
        "**Output**\n"
      ]
    },
    {
      "cell_type": "code",
      "execution_count": null,
      "metadata": {
        "collapsed": true,
        "id": "uIKIR5zhzRo-",
        "outputId": "333f6741-527f-45d7-b831-7b5da13630ff"
      },
      "outputs": [
        {
          "data": {
            "text/plain": [
              "True\n"
            ]
          },
          "output_type": "execute_result",
          "metadata": {},
          "execution_count": null
        }
      ],
      "source": [
        "dictionary == ordered_dict # If a == b\n"
      ]
    },
    {
      "cell_type": "code",
      "execution_count": null,
      "metadata": {
        "collapsed": true,
        "id": "CrCrA_mFzRo-",
        "outputId": "5e37e9d5-3a68-4edb-dbfa-67bdea3dc7ed"
      },
      "outputs": [
        {
          "data": {
            "text/plain": [
              "True\n"
            ]
          },
          "output_type": "execute_result",
          "metadata": {},
          "execution_count": null
        }
      ],
      "source": [
        "dictionary == another_ordered_dict # and b == c\n"
      ]
    },
    {
      "cell_type": "code",
      "execution_count": null,
      "metadata": {
        "collapsed": true,
        "id": "pdNXvWL3zRo-",
        "outputId": "940e5149-4876-49c0-bcdb-894ec80cfc10"
      },
      "outputs": [
        {
          "data": {
            "text/plain": [
              "False\n",
              "\n",
              "# We all know that a set consists of only unique elements,\n",
              "# let's try making a set of these dictionaries and see what happens...\n",
              "\n"
            ]
          },
          "output_type": "execute_result",
          "metadata": {},
          "execution_count": null
        }
      ],
      "source": [
        "ordered_dict == another_ordered_dict # then why isn't c == a ??\n"
      ]
    },
    {
      "cell_type": "code",
      "execution_count": null,
      "metadata": {
        "collapsed": true,
        "id": "mmMQjWAFzRo_",
        "outputId": "d6824a20-d400-4e9d-9756-1a21828a3632"
      },
      "outputs": [
        {
          "data": {
            "text/plain": [
              "Traceback (most recent call last):\n",
              "  File \"<stdin>\", line 1, in <module>\n",
              "TypeError: unhashable type: 'dict'\n",
              "\n",
              "# Makes sense since dict don't have __hash__ implemented, let's use\n",
              "# our wrapper classes.\n"
            ]
          },
          "output_type": "execute_result",
          "metadata": {},
          "execution_count": null
        }
      ],
      "source": [
        "len({dictionary, ordered_dict, another_ordered_dict})\n"
      ]
    },
    {
      "cell_type": "code",
      "execution_count": null,
      "metadata": {
        "collapsed": true,
        "id": "8uvdo2fTzRo_",
        "outputId": "06b87e8e-cdb6-42e7-94bb-f5092ca47214"
      },
      "outputs": [
        {
          "data": {
            "text/plain": [
              "1\n"
            ]
          },
          "output_type": "execute_result",
          "metadata": {},
          "execution_count": null
        }
      ],
      "source": [
        "dictionary = DictWithHash()\n",
        "dictionary[1] = 'a'; dictionary[2] = 'b';\n",
        "ordered_dict = OrderedDictWithHash()\n",
        "ordered_dict[1] = 'a'; ordered_dict[2] = 'b';\n",
        "another_ordered_dict = OrderedDictWithHash()\n",
        "another_ordered_dict[2] = 'b'; another_ordered_dict[1] = 'a';\n",
        "len({dictionary, ordered_dict, another_ordered_dict})\n"
      ]
    },
    {
      "cell_type": "code",
      "execution_count": null,
      "metadata": {
        "collapsed": true,
        "id": "85MXlZqbzRo_",
        "outputId": "af5eb7b0-c23a-4ac6-a2f0-84ea8ffb0f50"
      },
      "outputs": [
        {
          "data": {
            "text/plain": [
              "2\n"
            ]
          },
          "output_type": "execute_result",
          "metadata": {},
          "execution_count": null
        }
      ],
      "source": [
        "len({ordered_dict, another_ordered_dict, dictionary}) # changing the order\n"
      ]
    },
    {
      "cell_type": "markdown",
      "metadata": {
        "id": "ccEnX4VgzRo_"
      },
      "source": [
        "\n",
        "What is going on here?\n",
        "\n"
      ]
    },
    {
      "cell_type": "markdown",
      "metadata": {
        "id": "aVEOZIeczRo_"
      },
      "source": [
        "#### 💡 Explanation:\n",
        "\n",
        "- The reason why intransitive equality didn't hold among `dictionary`, `ordered_dict` and `another_ordered_dict` is because of the way `__eq__` method is implemented in `OrderedDict` class. From the [docs](https://docs.python.org/3/library/collections.html#ordereddict-objects)\n",
        "  \n",
        "    > Equality tests between OrderedDict objects are order-sensitive and are implemented as `list(od1.items())==list(od2.items())`. Equality tests between `OrderedDict` objects and other Mapping objects are order-insensitive like regular dictionaries.\n",
        "- The reason for this equality in behavior is that it allows `OrderedDict` objects to be directly substituted anywhere a regular dictionary is used.\n",
        "- Okay, so why did changing the order affect the length of the generated `set` object? The answer is the lack of intransitive equality only. Since sets are \"unordered\" collections of unique elements, the order in which elements are inserted shouldn't matter. But in this case, it does matter. Let's break it down a bit,\n"
      ]
    },
    {
      "cell_type": "code",
      "execution_count": null,
      "metadata": {
        "collapsed": true,
        "id": "tMH74_8WzRo_",
        "outputId": "33023712-5c8e-4ba7-8d48-eeec8cc5d023"
      },
      "outputs": [
        {
          "data": {
            "text/plain": [
              "    True\n"
            ]
          },
          "output_type": "execute_result",
          "metadata": {},
          "execution_count": null
        }
      ],
      "source": [
        "    some_set = set()\n",
        "    some_set.add(dictionary) # these are the mapping objects from the snippets above\n",
        "    ordered_dict in some_set\n"
      ]
    },
    {
      "cell_type": "code",
      "execution_count": null,
      "metadata": {
        "collapsed": true,
        "id": "e0AjE284zRo_",
        "outputId": "07765cd3-44d0-4744-c364-6fb61a38962e"
      },
      "outputs": [
        {
          "data": {
            "text/plain": [
              "    1\n"
            ]
          },
          "output_type": "execute_result",
          "metadata": {},
          "execution_count": null
        }
      ],
      "source": [
        "    some_set.add(ordered_dict)\n",
        "    len(some_set)\n"
      ]
    },
    {
      "cell_type": "code",
      "execution_count": null,
      "metadata": {
        "collapsed": true,
        "id": "ThtfPOqmzRpA",
        "outputId": "6d7586c1-6b18-4098-b05b-310b0e642caf"
      },
      "outputs": [
        {
          "data": {
            "text/plain": [
              "    True\n"
            ]
          },
          "output_type": "execute_result",
          "metadata": {},
          "execution_count": null
        }
      ],
      "source": [
        "    another_ordered_dict in some_set\n"
      ]
    },
    {
      "cell_type": "code",
      "execution_count": null,
      "metadata": {
        "collapsed": true,
        "id": "EsF7oXHbzRpA",
        "outputId": "3a908f44-962c-4fba-f867-4dec6c953709"
      },
      "outputs": [
        {
          "data": {
            "text/plain": [
              "    1\n",
              "\n"
            ]
          },
          "output_type": "execute_result",
          "metadata": {},
          "execution_count": null
        }
      ],
      "source": [
        "    some_set.add(another_ordered_dict)\n",
        "    len(some_set)\n"
      ]
    },
    {
      "cell_type": "code",
      "execution_count": null,
      "metadata": {
        "collapsed": true,
        "id": "ms1cJXGjzRpA",
        "outputId": "78d71428-b9fb-426b-f8df-d0b577e8a914"
      },
      "outputs": [
        {
          "data": {
            "text/plain": [
              "    False\n"
            ]
          },
          "output_type": "execute_result",
          "metadata": {},
          "execution_count": null
        }
      ],
      "source": [
        "    another_set = set()\n",
        "    another_set.add(ordered_dict)\n",
        "    another_ordered_dict in another_set\n"
      ]
    },
    {
      "cell_type": "code",
      "execution_count": null,
      "metadata": {
        "collapsed": true,
        "id": "XQHrOfJkzRpA",
        "outputId": "24a8101b-4c3a-44a4-d74c-556103f5ae76"
      },
      "outputs": [
        {
          "data": {
            "text/plain": [
              "    2\n"
            ]
          },
          "output_type": "execute_result",
          "metadata": {},
          "execution_count": null
        }
      ],
      "source": [
        "    another_set.add(another_ordered_dict)\n",
        "    len(another_set)\n"
      ]
    },
    {
      "cell_type": "code",
      "execution_count": null,
      "metadata": {
        "collapsed": true,
        "id": "E2Umvu2MzRpA",
        "outputId": "f1d0c7e8-ef26-48eb-dee1-bc7a3b2ffb46"
      },
      "outputs": [
        {
          "data": {
            "text/plain": [
              "    True\n"
            ]
          },
          "output_type": "execute_result",
          "metadata": {},
          "execution_count": null
        }
      ],
      "source": [
        "    dictionary in another_set\n"
      ]
    },
    {
      "cell_type": "code",
      "execution_count": null,
      "metadata": {
        "collapsed": true,
        "id": "JSS5IZIUzRpA",
        "outputId": "cc214710-6208-4646-9d8d-3ab84a89f209"
      },
      "outputs": [
        {
          "data": {
            "text/plain": [
              "    2\n"
            ]
          },
          "output_type": "execute_result",
          "metadata": {},
          "execution_count": null
        }
      ],
      "source": [
        "    another_set.add(another_ordered_dict)\n",
        "    len(another_set)\n"
      ]
    },
    {
      "cell_type": "markdown",
      "metadata": {
        "id": "QHSJLLEKzRpA"
      },
      "source": [
        "    So the inconsistency is due to `another_ordered_dict in another_set` being `False` because `ordered_dict` was already present in `another_set` and as observed before, `ordered_dict == another_ordered_dict` is `False`.\n",
        "\n"
      ]
    },
    {
      "cell_type": "markdown",
      "metadata": {
        "id": "gxTspVTSzRpB"
      },
      "source": [
        "### ▶ Keep trying... *\n"
      ]
    },
    {
      "cell_type": "code",
      "execution_count": null,
      "metadata": {
        "collapsed": true,
        "id": "7x5Epfi_zRpB",
        "outputId": "afd7782c-993b-4685-8999-2c68750eb5c6"
      },
      "outputs": [
        {
          "data": {
            "text/plain": []
          },
          "output_type": "execute_result",
          "metadata": {},
          "execution_count": null
        }
      ],
      "source": [
        "def some_func():\n",
        "    try:\n",
        "        return 'from_try'\n",
        "    finally:\n",
        "        return 'from_finally'\n",
        "\n",
        "def another_func(): \n",
        "    for _ in range(3):\n",
        "        try:\n",
        "            continue\n",
        "        finally:\n",
        "            print(\"Finally!\")\n",
        "\n",
        "def one_more_func(): # A gotcha!\n",
        "    try:\n",
        "        for i in range(3):\n",
        "            try:\n",
        "                1 / i\n",
        "            except ZeroDivisionError:\n",
        "                # Let's throw it here and handle it outside for loop\n",
        "                raise ZeroDivisionError(\"A trivial divide by zero error\")\n",
        "            finally:\n",
        "                print(\"Iteration\", i)\n",
        "                break\n",
        "    except ZeroDivisionError as e:\n",
        "        print(\"Zero division error occurred\", e)\n"
      ]
    },
    {
      "cell_type": "markdown",
      "metadata": {
        "id": "fxjgeui_zRpB"
      },
      "source": [
        "\n",
        "**Output:**\n",
        "\n"
      ]
    },
    {
      "cell_type": "code",
      "execution_count": null,
      "metadata": {
        "collapsed": true,
        "id": "ASoe1ljDzRpB",
        "outputId": "3527f9da-28f0-4b8a-8ffe-4262a7885e29"
      },
      "outputs": [
        {
          "data": {
            "text/plain": [
              "'from_finally'\n",
              "\n"
            ]
          },
          "output_type": "execute_result",
          "metadata": {},
          "execution_count": null
        }
      ],
      "source": [
        "some_func()\n"
      ]
    },
    {
      "cell_type": "code",
      "execution_count": null,
      "metadata": {
        "collapsed": true,
        "id": "JDW3obCyzRpB",
        "outputId": "8d61e5d2-1c0e-4a1e-b9ec-4b7e2b58ac04"
      },
      "outputs": [
        {
          "data": {
            "text/plain": [
              "Finally!\n",
              "Finally!\n",
              "Finally!\n",
              "\n"
            ]
          },
          "output_type": "execute_result",
          "metadata": {},
          "execution_count": null
        }
      ],
      "source": [
        "another_func()\n"
      ]
    },
    {
      "cell_type": "code",
      "execution_count": null,
      "metadata": {
        "collapsed": true,
        "id": "6Ra8y5gnzRpB",
        "outputId": "66518b91-4cd5-4e44-d9d1-663821ae6184"
      },
      "outputs": [
        {
          "data": {
            "text/plain": [
              "Traceback (most recent call last):\n",
              "  File \"<stdin>\", line 1, in <module>\n",
              "ZeroDivisionError: division by zero\n",
              "\n"
            ]
          },
          "output_type": "execute_result",
          "metadata": {},
          "execution_count": null
        }
      ],
      "source": [
        "1 / 0\n"
      ]
    },
    {
      "cell_type": "code",
      "execution_count": null,
      "metadata": {
        "collapsed": true,
        "id": "XSdpFw7VzRpC",
        "outputId": "7cd21be2-cbca-4610-d50d-4455a94b1704"
      },
      "outputs": [
        {
          "data": {
            "text/plain": [
              "Iteration 0\n",
              "\n"
            ]
          },
          "output_type": "execute_result",
          "metadata": {},
          "execution_count": null
        }
      ],
      "source": [
        "one_more_func()\n"
      ]
    },
    {
      "cell_type": "markdown",
      "metadata": {
        "id": "4CiD2FVezRpC"
      },
      "source": [
        "\n"
      ]
    },
    {
      "cell_type": "markdown",
      "metadata": {
        "id": "qioPhS3JzRpC"
      },
      "source": [
        "#### 💡 Explanation:\n",
        "\n",
        "- When a `return`, `break` or `continue` statement is executed in the `try` suite of a \"try…finally\" statement, the `finally` clause is also executed on the way out.\n",
        "- The return value of a function is determined by the last `return` statement executed. Since the `finally` clause always executes, a `return` statement executed in the `finally` clause will always be the last one executed.\n",
        "- The caveat here is, if the finally clause executes a `return` or `break` statement, the temporarily saved exception is discarded.\n",
        "\n"
      ]
    },
    {
      "cell_type": "markdown",
      "metadata": {
        "id": "0i9hHWMszRpC"
      },
      "source": [
        "### ▶ For what?\n"
      ]
    },
    {
      "cell_type": "code",
      "execution_count": null,
      "metadata": {
        "collapsed": true,
        "id": "7tCJimfxzRpC",
        "outputId": "8053ba70-0544-4f37-abdd-863dc62d48f2"
      },
      "outputs": [
        {
          "data": {
            "text/plain": []
          },
          "output_type": "execute_result",
          "metadata": {},
          "execution_count": null
        }
      ],
      "source": [
        "some_string = \"wtf\"\n",
        "some_dict = {}\n",
        "for i, some_dict[i] in enumerate(some_string):\n",
        "    i = 10\n"
      ]
    },
    {
      "cell_type": "markdown",
      "metadata": {
        "id": "mEpZ_hGjzRpC"
      },
      "source": [
        "\n",
        "**Output:**\n"
      ]
    },
    {
      "cell_type": "code",
      "execution_count": null,
      "metadata": {
        "collapsed": true,
        "id": "4RnlbcgpzRpD",
        "outputId": "b3e0ee93-d3d8-4cd3-aba3-5c90fe6a6350"
      },
      "outputs": [
        {
          "data": {
            "text/plain": [
              "{0: 'w', 1: 't', 2: 'f'}\n"
            ]
          },
          "output_type": "execute_result",
          "metadata": {},
          "execution_count": null
        }
      ],
      "source": [
        "some_dict # An indexed dict appears.\n"
      ]
    },
    {
      "cell_type": "markdown",
      "metadata": {
        "id": "oB_h4tcozRpE"
      },
      "source": [
        "\n"
      ]
    },
    {
      "cell_type": "markdown",
      "metadata": {
        "id": "ES-535TazRpE"
      },
      "source": [
        "####  💡 Explanation:\n",
        "\n",
        "* A `for` statement is defined in the [Python grammar](https://docs.python.org/3/reference/grammar.html) as:\n",
        "  ```\n",
        "  for_stmt: 'for' exprlist 'in' testlist ':' suite ['else' ':' suite]\n",
        "  ```\n",
        "  Where `exprlist` is the assignment target. This means that the equivalent of `{exprlist} = {next_value}` is **executed for each item** in the iterable.\n",
        "  An interesting example that illustrates this:\n"
      ]
    },
    {
      "cell_type": "code",
      "execution_count": null,
      "metadata": {
        "collapsed": true,
        "id": "gsZ0lavvzRpE",
        "outputId": "42148b11-8fac-4a3e-bb91-3d88e3e322fd"
      },
      "outputs": [
        {
          "data": {
            "text/plain": []
          },
          "output_type": "execute_result",
          "metadata": {},
          "execution_count": null
        }
      ],
      "source": [
        "  for i in range(4):\n",
        "      print(i)\n",
        "      i = 10\n"
      ]
    },
    {
      "cell_type": "markdown",
      "metadata": {
        "id": "EMK9bMFrzRpE"
      },
      "source": [
        "\n",
        "  **Output:**\n",
        "  ```\n",
        "  0\n",
        "  1\n",
        "  2\n",
        "  3\n",
        "  ```\n",
        "\n",
        "  Did you expect the loop to run just once?\n",
        "\n",
        "  **💡 Explanation:**\n",
        "\n",
        "  - The assignment statement `i = 10` never affects the iterations of the loop because of the way for loops work in Python. Before the beginning of every iteration, the next item provided by the iterator (`range(4)` in this case) is unpacked and assigned the target list variables (`i` in this case).\n",
        "\n",
        "* The `enumerate(some_string)` function yields a new value `i` (a counter going up) and a character from the `some_string` in each iteration. It then sets the (just assigned) `i` key of the dictionary `some_dict` to that character. The unrolling of the loop can be simplified as:\n"
      ]
    },
    {
      "cell_type": "code",
      "execution_count": null,
      "metadata": {
        "collapsed": true,
        "id": "RJA-8jo4zRpE",
        "outputId": "76893c96-4e0c-4745-dc9a-6e5bac58532b"
      },
      "outputs": [
        {
          "data": {
            "text/plain": []
          },
          "output_type": "execute_result",
          "metadata": {},
          "execution_count": null
        }
      ],
      "source": [
        "  i, some_dict[i] = (0, 'w')\n",
        "  i, some_dict[i] = (1, 't')\n",
        "  i, some_dict[i] = (2, 'f')\n",
        "  some_dict\n"
      ]
    },
    {
      "cell_type": "markdown",
      "metadata": {
        "id": "vtFDRWBezRpE"
      },
      "source": [
        "\n"
      ]
    },
    {
      "cell_type": "markdown",
      "metadata": {
        "id": "t9ulH7j-zRpE"
      },
      "source": [
        "### ▶ Evaluation time discrepancy\n",
        "1\\.\n"
      ]
    },
    {
      "cell_type": "code",
      "execution_count": null,
      "metadata": {
        "collapsed": true,
        "id": "MSQeME0HzRpF",
        "outputId": "5b446db3-4577-46a9-fc5c-cb141a6b5b01"
      },
      "outputs": [
        {
          "data": {
            "text/plain": []
          },
          "output_type": "execute_result",
          "metadata": {},
          "execution_count": null
        }
      ],
      "source": [
        "array = [1, 8, 15]\n",
        "# A typical generator expression\n",
        "gen = (x for x in array if array.count(x) > 0)\n",
        "array = [2, 8, 22]\n"
      ]
    },
    {
      "cell_type": "markdown",
      "metadata": {
        "id": "qLKT4b87zRpF"
      },
      "source": [
        "\n",
        "**Output:**\n",
        "\n"
      ]
    },
    {
      "cell_type": "code",
      "metadata": {
        "collapsed": true,
        "id": "mqIo0zyazRpF",
        "outputId": "b7f92004-321a-45d7-a24b-0b47e951fd08"
      },
      "execution_count": null,
      "outputs": [
        {
          "name": "stdout",
          "output_type": "stream",
          "text": [
            "[8]\n"
          ]
        }
      ],
      "source": [
        "print(list(gen)) # Where did the other values go?\n"
      ]
    },
    {
      "cell_type": "markdown",
      "metadata": {
        "id": "CPPklUV_zRpF"
      },
      "source": [
        "\n",
        "2\\.\n",
        "\n"
      ]
    },
    {
      "cell_type": "code",
      "execution_count": null,
      "metadata": {
        "collapsed": true,
        "id": "4ZG8yDuvzRpF",
        "outputId": "caf2c6e7-9fed-4629-8869-0fa1ff08058f"
      },
      "outputs": [
        {
          "data": {
            "text/plain": []
          },
          "output_type": "execute_result",
          "metadata": {},
          "execution_count": null
        }
      ],
      "source": [
        "array_1 = [1,2,3,4]\n",
        "gen_1 = (x for x in array_1)\n",
        "array_1 = [1,2,3,4,5]\n",
        "\n",
        "array_2 = [1,2,3,4]\n",
        "gen_2 = (x for x in array_2)\n",
        "array_2[:] = [1,2,3,4,5]\n"
      ]
    },
    {
      "cell_type": "markdown",
      "metadata": {
        "id": "_jaVNrhmzRpF"
      },
      "source": [
        "\n",
        "**Output:**\n"
      ]
    },
    {
      "cell_type": "code",
      "metadata": {
        "collapsed": true,
        "id": "B0nhgwT5zRpF",
        "outputId": "7294c393-3e54-4c8b-e015-d0719853d0ea"
      },
      "execution_count": null,
      "outputs": [
        {
          "name": "stdout",
          "output_type": "stream",
          "text": [
            "[1, 2, 3, 4]\n",
            "\n"
          ]
        }
      ],
      "source": [
        "print(list(gen_1))\n"
      ]
    },
    {
      "cell_type": "code",
      "metadata": {
        "collapsed": true,
        "id": "I3etueYJzRpF",
        "outputId": "f56a0de8-5eba-4a95-8633-7a9c1c880044"
      },
      "execution_count": null,
      "outputs": [
        {
          "name": "stdout",
          "output_type": "stream",
          "text": [
            "[1, 2, 3, 4, 5]\n"
          ]
        }
      ],
      "source": [
        "print(list(gen_2))\n"
      ]
    },
    {
      "cell_type": "markdown",
      "metadata": {
        "id": "xSZDcIJNzRpG"
      },
      "source": [
        "\n",
        "3\\.\n",
        "\n"
      ]
    },
    {
      "cell_type": "code",
      "execution_count": null,
      "metadata": {
        "collapsed": true,
        "id": "zYFXaRubzRpG",
        "outputId": "1ee2b90a-5efc-4341-b333-f640f8adba16"
      },
      "outputs": [
        {
          "data": {
            "text/plain": []
          },
          "output_type": "execute_result",
          "metadata": {},
          "execution_count": null
        }
      ],
      "source": [
        "array_3 = [1, 2, 3]\n",
        "array_4 = [10, 20, 30]\n",
        "gen = (i + j for i in array_3 for j in array_4)\n",
        "\n",
        "array_3 = [4, 5, 6]\n",
        "array_4 = [400, 500, 600]\n"
      ]
    },
    {
      "cell_type": "markdown",
      "metadata": {
        "id": "63CeA-N1zRpG"
      },
      "source": [
        "\n",
        "**Output:**\n"
      ]
    },
    {
      "cell_type": "code",
      "metadata": {
        "collapsed": true,
        "id": "8DSXEEypzRpG",
        "outputId": "c6dc63a9-2289-4a31-f002-bf3d8b7a2dc6"
      },
      "execution_count": null,
      "outputs": [
        {
          "name": "stdout",
          "output_type": "stream",
          "text": [
            "[401, 501, 601, 402, 502, 602, 403, 503, 603]\n"
          ]
        }
      ],
      "source": [
        "print(list(gen))\n"
      ]
    },
    {
      "cell_type": "markdown",
      "metadata": {
        "id": "7vpPHlrZzRpG"
      },
      "source": [
        "\n"
      ]
    },
    {
      "cell_type": "markdown",
      "metadata": {
        "id": "HJeZmYpqzRpG"
      },
      "source": [
        "#### 💡 Explanation\n",
        "\n",
        "- In a [generator](https://wiki.python.org/moin/Generators) expression, the `in` clause is evaluated at declaration time, but the conditional clause is evaluated at runtime.\n",
        "- So before runtime, `array` is re-assigned to the list `[2, 8, 22]`, and since out of `1`, `8` and `15`, only the count of `8` is greater than `0`, the generator only yields `8`.\n",
        "- The differences in the output of `g1` and `g2` in the second part is due the way variables `array_1` and `array_2` are re-assigned values.\n",
        "- In the first case, `array_1` is binded to the new object `[1,2,3,4,5]` and since the `in` clause is evaluated at the declaration time it still refers to the old object `[1,2,3,4]` (which is not destroyed).\n",
        "- In the second case, the slice assignment to `array_2` updates the same old object `[1,2,3,4]` to `[1,2,3,4,5]`. Hence both the `g2` and `array_2` still have reference to the same object (which has now been updated to `[1,2,3,4,5]`).\n",
        "- Okay, going by the logic discussed so far, shouldn't be the value of `list(g)` in the third snippet be `[11, 21, 31, 12, 22, 32, 13, 23, 33]`? (because `array_3` and `array_4` are going to behave just like `array_1`). The reason why (only) `array_4` values got updated is explained in [PEP-289](https://www.python.org/dev/peps/pep-0289/#the-details)\n",
        "  \n",
        "    > Only the outermost for-expression is evaluated immediately, the other expressions are deferred until the generator is run.\n",
        "\n"
      ]
    },
    {
      "cell_type": "markdown",
      "metadata": {
        "id": "gLMsAJNAzRpG"
      },
      "source": [
        "### ▶ `is not ...` is not `is (not ...)`\n"
      ]
    },
    {
      "cell_type": "code",
      "execution_count": null,
      "metadata": {
        "collapsed": true,
        "id": "1mzd8tgWzRpH",
        "outputId": "ef1c6890-1cbc-43fa-e964-ae7b7e8dbdf4"
      },
      "outputs": [
        {
          "data": {
            "text/plain": [
              "True\n"
            ]
          },
          "output_type": "execute_result",
          "metadata": {},
          "execution_count": null
        }
      ],
      "source": [
        "'something' is not None\n"
      ]
    },
    {
      "cell_type": "code",
      "execution_count": null,
      "metadata": {
        "collapsed": true,
        "id": "JQk_RCf_zRpH",
        "outputId": "d2027d2f-7262-4bb4-8239-94bc238a84a6"
      },
      "outputs": [
        {
          "data": {
            "text/plain": [
              "False\n"
            ]
          },
          "output_type": "execute_result",
          "metadata": {},
          "execution_count": null
        }
      ],
      "source": [
        "'something' is (not None)\n"
      ]
    },
    {
      "cell_type": "markdown",
      "metadata": {
        "id": "VqzUktjAzRpH"
      },
      "source": [
        "\n"
      ]
    },
    {
      "cell_type": "markdown",
      "metadata": {
        "id": "IjoEI8RWzRpH"
      },
      "source": [
        "#### 💡 Explanation\n",
        "\n",
        "- `is not` is a single binary operator, and has behavior different than using `is` and `not` separated.\n",
        "- `is not` evaluates to `False` if the variables on either side of the operator point to the same object and `True` otherwise. \n",
        "- In the example, `(not None)` evaluates to `True` since the value `None` is `False` in a boolean context, so the expression becomes `'something' is True`.\n",
        "\n"
      ]
    },
    {
      "cell_type": "markdown",
      "metadata": {
        "id": "GrsYUfrczRpH"
      },
      "source": [
        "### ▶ A tic-tac-toe where X wins in the first attempt!\n"
      ]
    },
    {
      "cell_type": "code",
      "execution_count": null,
      "metadata": {
        "collapsed": true,
        "id": "Bg-hmag2zRpH",
        "outputId": "d56b53b9-1fb5-42a5-8162-3c5dbaf543a8"
      },
      "outputs": [
        {
          "data": {
            "text/plain": []
          },
          "output_type": "execute_result",
          "metadata": {},
          "execution_count": null
        }
      ],
      "source": [
        "# Let's initialize a row\n",
        "row = [\"\"] * 3 #row i['', '', '']\n",
        "# Let's make a board\n",
        "board = [row] * 3\n"
      ]
    },
    {
      "cell_type": "markdown",
      "metadata": {
        "id": "Zbqs0Sc3zRpH"
      },
      "source": [
        "\n",
        "**Output:**\n",
        "\n"
      ]
    },
    {
      "cell_type": "code",
      "execution_count": null,
      "metadata": {
        "collapsed": true,
        "id": "xhAS87VczRpI",
        "outputId": "49181976-8c8c-482f-f7c1-cc39d3a9f1d9"
      },
      "outputs": [
        {
          "data": {
            "text/plain": [
              "[['', '', ''], ['', '', ''], ['', '', '']]\n"
            ]
          },
          "output_type": "execute_result",
          "metadata": {},
          "execution_count": null
        }
      ],
      "source": [
        "board\n"
      ]
    },
    {
      "cell_type": "code",
      "execution_count": null,
      "metadata": {
        "collapsed": true,
        "id": "iu84u6GPzRpI",
        "outputId": "df4ac6ac-dc2e-4680-c9c2-a416a2a2e3e9"
      },
      "outputs": [
        {
          "data": {
            "text/plain": [
              "['', '', '']\n"
            ]
          },
          "output_type": "execute_result",
          "metadata": {},
          "execution_count": null
        }
      ],
      "source": [
        "board[0]\n"
      ]
    },
    {
      "cell_type": "code",
      "execution_count": null,
      "metadata": {
        "collapsed": true,
        "id": "UGIA5huvzRpI",
        "outputId": "1c8f66fe-2c0f-47b3-adbd-104031f40f9e"
      },
      "outputs": [
        {
          "data": {
            "text/plain": [
              "''\n"
            ]
          },
          "output_type": "execute_result",
          "metadata": {},
          "execution_count": null
        }
      ],
      "source": [
        "board[0][0]\n"
      ]
    },
    {
      "cell_type": "code",
      "execution_count": null,
      "metadata": {
        "collapsed": true,
        "id": "0o8vNCkzzRpI",
        "outputId": "97c55309-3c92-4f0b-97f7-6829f5d7e1da"
      },
      "outputs": [
        {
          "data": {
            "text/plain": [
              "[['X', '', ''], ['X', '', ''], ['X', '', '']]\n"
            ]
          },
          "output_type": "execute_result",
          "metadata": {},
          "execution_count": null
        }
      ],
      "source": [
        "board[0][0] = \"X\"\n",
        "board\n"
      ]
    },
    {
      "cell_type": "markdown",
      "metadata": {
        "id": "ySc9s3XWzRpI"
      },
      "source": [
        "\n",
        "We didn't assign three `\"X\"`s, did we?\n",
        "\n"
      ]
    },
    {
      "cell_type": "markdown",
      "metadata": {
        "id": "TZgGjrcTzRpI"
      },
      "source": [
        "#### 💡 Explanation:\n",
        "\n",
        "When we initialize `row` variable, this visualization explains what happens in the memory\n",
        "\n",
        "![image](/images/tic-tac-toe/after_row_initialized.png)\n",
        "\n",
        "And when the `board` is initialized by multiplying the `row`, this is what happens inside the memory (each of the elements `board[0]`, `board[1]` and `board[2]` is a reference to the same list referred by `row`)\n",
        "\n",
        "![image](/images/tic-tac-toe/after_board_initialized.png)\n",
        "\n",
        "We can avoid this scenario here by not using `row` variable to generate `board`. (Asked in [this](https://github.com/satwikkansal/wtfpython/issues/68) issue).\n",
        "\n"
      ]
    },
    {
      "cell_type": "code",
      "execution_count": null,
      "metadata": {
        "collapsed": true,
        "id": "1YMe08J_zRpI",
        "outputId": "e53c9b80-5a38-47e3-c931-fe467cec6d38"
      },
      "outputs": [
        {
          "data": {
            "text/plain": [
              "[['X', '', ''], ['', '', ''], ['', '', '']]\n"
            ]
          },
          "output_type": "execute_result",
          "metadata": {},
          "execution_count": null
        }
      ],
      "source": [
        "board = [['']*3 for _ in range(3)]\n",
        "board[0][0] = \"X\"\n",
        "board\n"
      ]
    },
    {
      "cell_type": "markdown",
      "metadata": {
        "id": "pPZP-ygbzRpJ"
      },
      "source": [
        "\n"
      ]
    },
    {
      "cell_type": "markdown",
      "metadata": {
        "id": "nDBS1DRTzRpJ"
      },
      "source": [
        "### ▶ Schrödinger's variable *\n"
      ]
    },
    {
      "cell_type": "code",
      "execution_count": null,
      "metadata": {
        "collapsed": true,
        "id": "rQtw_EVEzRpJ",
        "outputId": "ae66add4-7ffe-4658-ca99-bc1eff2b9d94"
      },
      "outputs": [
        {
          "data": {
            "text/plain": []
          },
          "output_type": "execute_result",
          "metadata": {},
          "execution_count": null
        }
      ],
      "source": [
        "funcs = []\n",
        "results = []\n",
        "for x in range(7):\n",
        "    def some_func():\n",
        "        return x\n",
        "    funcs.append(some_func)\n",
        "    results.append(some_func())  # note the function call here\n",
        "\n",
        "funcs_results = [func() for func in funcs]\n"
      ]
    },
    {
      "cell_type": "markdown",
      "metadata": {
        "id": "piZ2Lm-izRpJ"
      },
      "source": [
        "\n",
        "**Output (Python version):**\n"
      ]
    },
    {
      "cell_type": "code",
      "execution_count": null,
      "metadata": {
        "collapsed": true,
        "id": "rSrcrn-7zRpJ",
        "outputId": "45dab345-ba83-4fba-d64b-cb8758b803ea"
      },
      "outputs": [
        {
          "data": {
            "text/plain": [
              "[0, 1, 2, 3, 4, 5, 6]\n"
            ]
          },
          "output_type": "execute_result",
          "metadata": {},
          "execution_count": null
        }
      ],
      "source": [
        "results\n"
      ]
    },
    {
      "cell_type": "code",
      "execution_count": null,
      "metadata": {
        "collapsed": true,
        "id": "ZpFa3aJvzRpJ",
        "outputId": "e55760dc-4ba4-4154-bad0-65fadc1e4776"
      },
      "outputs": [
        {
          "data": {
            "text/plain": [
              "[6, 6, 6, 6, 6, 6, 6]\n"
            ]
          },
          "output_type": "execute_result",
          "metadata": {},
          "execution_count": null
        }
      ],
      "source": [
        "funcs_results\n"
      ]
    },
    {
      "cell_type": "markdown",
      "metadata": {
        "id": "pDtrsD-azRpJ"
      },
      "source": [
        "\n",
        "The values of `x` were different in every iteration prior to appending `some_func` to `funcs`, but all the functions return 6 when they're evaluated after the loop completes.\n",
        "\n",
        "2.\n",
        "\n"
      ]
    },
    {
      "cell_type": "code",
      "execution_count": null,
      "metadata": {
        "collapsed": true,
        "id": "Yr3T-5MGzRpJ",
        "outputId": "0b86b2dc-b100-46b7-d18e-c0cc46acbfa4"
      },
      "outputs": [
        {
          "data": {
            "text/plain": [
              "[512, 512, 512, 512, 512, 512, 512, 512, 512, 512]\n"
            ]
          },
          "output_type": "execute_result",
          "metadata": {},
          "execution_count": null
        }
      ],
      "source": [
        "powers_of_x = [lambda x: x**i for i in range(10)]\n",
        "[f(2) for f in powers_of_x]\n"
      ]
    },
    {
      "cell_type": "markdown",
      "metadata": {
        "id": "clqbG6B0zRpJ"
      },
      "source": [
        "\n"
      ]
    },
    {
      "cell_type": "markdown",
      "metadata": {
        "id": "eSG9UIuNzRpK"
      },
      "source": [
        "#### 💡 Explanation:\n",
        "* When defining a function inside a loop that uses the loop variable in its body, the loop function's closure is bound to the *variable*, not its *value*. The function looks up `x` in the surrounding context, rather than using the value of `x` at the time the function is created. So all of the functions use the latest value assigned to the variable for computation. We can see that it's using the `x` from the surrounding context (i.e. *not* a local variable) with:\n"
      ]
    },
    {
      "cell_type": "code",
      "execution_count": null,
      "metadata": {
        "collapsed": true,
        "id": "2ZPn66OlzRpK",
        "outputId": "4a81674f-6ed2-4684-dcbb-25c275c28a25"
      },
      "outputs": [
        {
          "data": {
            "text/plain": [
              "ClosureVars(nonlocals={}, globals={'x': 6}, builtins={}, unbound=set())\n"
            ]
          },
          "output_type": "execute_result",
          "metadata": {},
          "execution_count": null
        }
      ],
      "source": [
        "import inspect\n",
        "inspect.getclosurevals(funcs[0])\n"
      ]
    },
    {
      "cell_type": "markdown",
      "metadata": {
        "id": "enaxFtZozRpK"
      },
      "source": [
        "Since `x` is a global value, we can change the value that the `funcs` will lookup and return by updating `x`:\n",
        "\n"
      ]
    },
    {
      "cell_type": "code",
      "execution_count": null,
      "metadata": {
        "collapsed": true,
        "id": "-jVtPcEOzRpK",
        "outputId": "02928abd-49ff-405a-e82e-6b101b0d20b2"
      },
      "outputs": [
        {
          "data": {
            "text/plain": [
              "[42, 42, 42, 42, 42, 42, 42]\n"
            ]
          },
          "output_type": "execute_result",
          "metadata": {},
          "execution_count": null
        }
      ],
      "source": [
        "x = 42\n",
        "[func() for func in funcs]\n"
      ]
    },
    {
      "cell_type": "markdown",
      "metadata": {
        "id": "RCuj-a_NzRpK"
      },
      "source": [
        "\n",
        "* To get the desired behavior you can pass in the loop variable as a named variable to the function. **Why does this work?** Because this will define the variable *inside* the function's scope. It will no longer go to the surrounding (global) scope to look up the variables value but will create a local variable that stores the value of `x` at that point in time.\n",
        "\n"
      ]
    },
    {
      "cell_type": "code",
      "execution_count": null,
      "metadata": {
        "collapsed": true,
        "id": "ZPC2bUaAzRpK",
        "outputId": "5a9aa17c-8c72-46c1-bfe3-3b9fb89a325f"
      },
      "outputs": [
        {
          "data": {
            "text/plain": []
          },
          "output_type": "execute_result",
          "metadata": {},
          "execution_count": null
        }
      ],
      "source": [
        "funcs = []\n",
        "for x in range(7):\n",
        "    def some_func(x=x):\n",
        "        return x\n",
        "    funcs.append(some_func)\n"
      ]
    },
    {
      "cell_type": "markdown",
      "metadata": {
        "id": "eGqc0usDzRpK"
      },
      "source": [
        "\n",
        "**Output:**\n",
        "\n"
      ]
    },
    {
      "cell_type": "code",
      "execution_count": null,
      "metadata": {
        "collapsed": true,
        "id": "hccyZkhezRpK",
        "outputId": "c6f0f0d0-0b31-4ba9-cd3d-20b64e741595"
      },
      "outputs": [
        {
          "data": {
            "text/plain": [
              "[0, 1, 2, 3, 4, 5, 6]\n"
            ]
          },
          "output_type": "execute_result",
          "metadata": {},
          "execution_count": null
        }
      ],
      "source": [
        "funcs_results = [func() for func in funcs]\n",
        "funcs_results\n"
      ]
    },
    {
      "cell_type": "markdown",
      "metadata": {
        "id": "Gmm92q2zzRpL"
      },
      "source": [
        "\n",
        "It is not longer using the `x` in the global scope:\n",
        "\n"
      ]
    },
    {
      "cell_type": "code",
      "execution_count": null,
      "metadata": {
        "collapsed": true,
        "id": "OTM7M2HSzRpL",
        "outputId": "81415007-5384-4c9b-a7fb-d8dd9e42a999"
      },
      "outputs": [
        {
          "data": {
            "text/plain": [
              "ClosureVars(nonlocals={}, globals={}, builtins={}, unbound=set())\n"
            ]
          },
          "output_type": "execute_result",
          "metadata": {},
          "execution_count": null
        }
      ],
      "source": [
        "inspect.getclosurevars(funcs[0])\n"
      ]
    },
    {
      "cell_type": "markdown",
      "metadata": {
        "id": "fA594pyPzRpL"
      },
      "source": [
        "\n"
      ]
    },
    {
      "cell_type": "markdown",
      "metadata": {
        "id": "OPSFstWIzRpL"
      },
      "source": [
        "### ▶ The chicken-egg problem *\n",
        "1\\.\n"
      ]
    },
    {
      "cell_type": "code",
      "execution_count": null,
      "metadata": {
        "collapsed": true,
        "id": "YR_VQ1MMzRpL",
        "outputId": "3a75f89a-81fb-496f-cb04-f07fb79ce5e4"
      },
      "outputs": [
        {
          "data": {
            "text/plain": [
              "True\n"
            ]
          },
          "output_type": "execute_result",
          "metadata": {},
          "execution_count": null
        }
      ],
      "source": [
        "isinstance(3, int)\n"
      ]
    },
    {
      "cell_type": "code",
      "execution_count": null,
      "metadata": {
        "collapsed": true,
        "id": "XikFOqhHzRpL",
        "outputId": "a09b0dfc-d408-4b30-d12e-4e79abb6de47"
      },
      "outputs": [
        {
          "data": {
            "text/plain": [
              "True\n"
            ]
          },
          "output_type": "execute_result",
          "metadata": {},
          "execution_count": null
        }
      ],
      "source": [
        "isinstance(type, object)\n"
      ]
    },
    {
      "cell_type": "code",
      "execution_count": null,
      "metadata": {
        "collapsed": true,
        "id": "M9bQXzKfzRpL",
        "outputId": "a419f6fe-cbce-4e3c-d2ec-4a98fe8a5f31"
      },
      "outputs": [
        {
          "data": {
            "text/plain": [
              "True\n"
            ]
          },
          "output_type": "execute_result",
          "metadata": {},
          "execution_count": null
        }
      ],
      "source": [
        "isinstance(object, type)\n"
      ]
    },
    {
      "cell_type": "markdown",
      "metadata": {
        "id": "fRi0ipx1zRpL"
      },
      "source": [
        "\n",
        "So which is the \"ultimate\" base class? There's more to the confusion by the way,\n",
        "\n",
        "2\\. \n",
        "\n"
      ]
    },
    {
      "cell_type": "code",
      "execution_count": null,
      "metadata": {
        "collapsed": true,
        "id": "rCFrBZSuzRpM",
        "outputId": "e1f76192-139c-4454-c90f-17bd4ab5b539"
      },
      "outputs": [
        {
          "data": {
            "text/plain": [
              "False\n"
            ]
          },
          "output_type": "execute_result",
          "metadata": {},
          "execution_count": null
        }
      ],
      "source": [
        "class A: pass\n",
        "isinstance(A, A)\n"
      ]
    },
    {
      "cell_type": "code",
      "execution_count": null,
      "metadata": {
        "collapsed": true,
        "id": "BUvYSLJ4zRpM",
        "outputId": "a5b282e8-b5b7-4d2d-c8d8-6e89a3391f42"
      },
      "outputs": [
        {
          "data": {
            "text/plain": [
              "True\n"
            ]
          },
          "output_type": "execute_result",
          "metadata": {},
          "execution_count": null
        }
      ],
      "source": [
        "isinstance(type, type)\n"
      ]
    },
    {
      "cell_type": "code",
      "execution_count": null,
      "metadata": {
        "collapsed": true,
        "id": "Slinc942zRpM",
        "outputId": "4c528cd5-9a94-4349-9c37-7b550429b916"
      },
      "outputs": [
        {
          "data": {
            "text/plain": [
              "True\n"
            ]
          },
          "output_type": "execute_result",
          "metadata": {},
          "execution_count": null
        }
      ],
      "source": [
        "isinstance(object, object)\n"
      ]
    },
    {
      "cell_type": "markdown",
      "metadata": {
        "id": "QmMyBD98zRpM"
      },
      "source": [
        "\n",
        "3\\.\n",
        "\n"
      ]
    },
    {
      "cell_type": "code",
      "execution_count": null,
      "metadata": {
        "collapsed": true,
        "id": "XpCZsPmxzRpM",
        "outputId": "40bc7958-afb6-44b8-d886-d02e3415aaf0"
      },
      "outputs": [
        {
          "data": {
            "text/plain": [
              "True\n"
            ]
          },
          "output_type": "execute_result",
          "metadata": {},
          "execution_count": null
        }
      ],
      "source": [
        "issubclass(int, object)\n"
      ]
    },
    {
      "cell_type": "code",
      "execution_count": null,
      "metadata": {
        "collapsed": true,
        "id": "n0OAZ3J-zRpM",
        "outputId": "5a5a7618-5e8e-49bd-8df7-16ffbad1cbc4"
      },
      "outputs": [
        {
          "data": {
            "text/plain": [
              "True\n"
            ]
          },
          "output_type": "execute_result",
          "metadata": {},
          "execution_count": null
        }
      ],
      "source": [
        "issubclass(type, object)\n"
      ]
    },
    {
      "cell_type": "code",
      "execution_count": null,
      "metadata": {
        "collapsed": true,
        "id": "mq8PqvH1zRpN",
        "outputId": "d6fcee54-caf7-4c1b-c659-5eeb6f32cb85"
      },
      "outputs": [
        {
          "data": {
            "text/plain": [
              "False\n"
            ]
          },
          "output_type": "execute_result",
          "metadata": {},
          "execution_count": null
        }
      ],
      "source": [
        "issubclass(object, type)\n"
      ]
    },
    {
      "cell_type": "markdown",
      "metadata": {
        "id": "1tLH5WvxzRpN"
      },
      "source": [
        "\n",
        "\n"
      ]
    },
    {
      "cell_type": "markdown",
      "metadata": {
        "id": "12pb9bt3zRpN"
      },
      "source": [
        "#### 💡 Explanation\n",
        "\n",
        "- `type` is a [metaclass](https://realpython.com/python-metaclasses/) in Python.\n",
        "- **Everything** is an `object` in Python, which includes classes as well as their objects (instances).\n",
        "- class `type` is the metaclass of class `object`, and every class (including `type`) has inherited directly or indirectly from `object`.\n",
        "- There is no real base class among `object` and `type`. The confusion in the above snippets is arising because we're thinking about these relationships (`issubclass` and `isinstance`) in terms of Python classes. The relationship between `object` and `type` can't be reproduced in pure python. To be more precise the following relationships can't be reproduced in pure Python,\n",
        "    + class A is an instance of class B, and class B is an instance of class A.\n",
        "    + class A is an instance of itself.\n",
        "- These relationships between `object` and `type` (both being instances of each other as well as themselves) exist in Python because of \"cheating\" at the implementation level.\n",
        "\n"
      ]
    },
    {
      "cell_type": "markdown",
      "metadata": {
        "id": "jlcP94wSzRpO"
      },
      "source": [
        "### ▶ Subclass relationships\n",
        "**Output:**\n"
      ]
    },
    {
      "cell_type": "code",
      "execution_count": null,
      "metadata": {
        "collapsed": true,
        "id": "Yl3Ojj95zRpO",
        "outputId": "5432c223-8798-4571-b77d-6b36852a9bb5"
      },
      "outputs": [
        {
          "data": {
            "text/plain": [
              "True\n"
            ]
          },
          "output_type": "execute_result",
          "metadata": {},
          "execution_count": null
        }
      ],
      "source": [
        "from collections import Hashable\n",
        "issubclass(list, object)\n"
      ]
    },
    {
      "cell_type": "code",
      "execution_count": null,
      "metadata": {
        "collapsed": true,
        "id": "5rcsHrxFzRpO",
        "outputId": "ea876404-776d-4197-bf99-25d7c680b22c"
      },
      "outputs": [
        {
          "data": {
            "text/plain": [
              "True\n"
            ]
          },
          "output_type": "execute_result",
          "metadata": {},
          "execution_count": null
        }
      ],
      "source": [
        "issubclass(object, Hashable)\n"
      ]
    },
    {
      "cell_type": "code",
      "execution_count": null,
      "metadata": {
        "collapsed": true,
        "id": "yQ5zj5hUzRpO",
        "outputId": "b77151d1-f53d-453e-b199-5540219851db"
      },
      "outputs": [
        {
          "data": {
            "text/plain": [
              "False\n"
            ]
          },
          "output_type": "execute_result",
          "metadata": {},
          "execution_count": null
        }
      ],
      "source": [
        "issubclass(list, Hashable)\n"
      ]
    },
    {
      "cell_type": "markdown",
      "metadata": {
        "id": "BOdIppTwzRpO"
      },
      "source": [
        "\n",
        "The Subclass relationships were expected to be transitive, right? (i.e., if `A` is a subclass of `B`, and `B` is a subclass of `C`, the `A` _should_ a subclass of `C`)\n",
        "\n"
      ]
    },
    {
      "cell_type": "markdown",
      "metadata": {
        "id": "mzlbz3xtzRpO"
      },
      "source": [
        "#### 💡 Explanation:\n",
        "\n",
        "* Subclass relationships are not necessarily transitive in Python. Anyone is allowed to define their own, arbitrary `__subclasscheck__` in a metaclass.\n",
        "* When `issubclass(cls, Hashable)` is called, it simply looks for non-Falsey \"`__hash__`\" method in `cls` or anything it inherits from.\n",
        "* Since `object` is hashable, but `list` is non-hashable, it breaks the transitivity relation.\n",
        "* More detailed explanation can be found [here](https://www.naftaliharris.com/blog/python-subclass-intransitivity/).\n",
        "\n"
      ]
    },
    {
      "cell_type": "markdown",
      "metadata": {
        "id": "wcpTAbRdzRpO"
      },
      "source": [
        "### ▶ Methods equality and identity\n",
        "1.\n"
      ]
    },
    {
      "cell_type": "code",
      "execution_count": null,
      "metadata": {
        "collapsed": true,
        "id": "0KJ7kKMGzRpP",
        "outputId": "42d58ad6-971a-4a77-fdf7-9cabe5bc044e"
      },
      "outputs": [
        {
          "data": {
            "text/plain": []
          },
          "output_type": "execute_result",
          "metadata": {},
          "execution_count": null
        }
      ],
      "source": [
        "class SomeClass:\n",
        "    def method(self):\n",
        "        pass\n",
        "\n",
        "    @classmethod\n",
        "    def classm(cls):\n",
        "        pass\n",
        "\n",
        "    @staticmethod\n",
        "    def staticm():\n",
        "        pass\n"
      ]
    },
    {
      "cell_type": "markdown",
      "metadata": {
        "id": "LfO7Sb41zRpP"
      },
      "source": [
        "\n",
        "**Output:**\n"
      ]
    },
    {
      "cell_type": "code",
      "metadata": {
        "collapsed": true,
        "id": "ULu-1UXBzRpP",
        "outputId": "319e6d59-4779-4ea6-d1ff-bd3b3678f0fd"
      },
      "execution_count": null,
      "outputs": [
        {
          "name": "stdout",
          "output_type": "stream",
          "text": [
            "True\n"
          ]
        }
      ],
      "source": [
        "print(SomeClass.method is SomeClass.method)\n"
      ]
    },
    {
      "cell_type": "code",
      "metadata": {
        "collapsed": true,
        "id": "-6eKxQFgzRpP",
        "outputId": "9758f5ac-8544-4b88-c205-3c3dfc3d0b7d"
      },
      "execution_count": null,
      "outputs": [
        {
          "name": "stdout",
          "output_type": "stream",
          "text": [
            "False\n"
          ]
        }
      ],
      "source": [
        "print(SomeClass.classm is SomeClass.classm)\n"
      ]
    },
    {
      "cell_type": "code",
      "metadata": {
        "collapsed": true,
        "id": "1SVOydJbzRpP",
        "outputId": "8fb6e297-009f-48bd-f4ba-bb01d84fb36e"
      },
      "execution_count": null,
      "outputs": [
        {
          "name": "stdout",
          "output_type": "stream",
          "text": [
            "True\n"
          ]
        }
      ],
      "source": [
        "print(SomeClass.classm == SomeClass.classm)\n"
      ]
    },
    {
      "cell_type": "code",
      "metadata": {
        "collapsed": true,
        "id": "e3l5h6uIzRpP",
        "outputId": "f666a805-c0a9-491b-d623-aa02c5cadaab"
      },
      "execution_count": null,
      "outputs": [
        {
          "name": "stdout",
          "output_type": "stream",
          "text": [
            "True\n"
          ]
        }
      ],
      "source": [
        "print(SomeClass.staticm is SomeClass.staticm)\n"
      ]
    },
    {
      "cell_type": "markdown",
      "metadata": {
        "id": "94krB7tVzRpP"
      },
      "source": [
        "\n",
        "Accessing `classm` twice, we get an equal object, but not the *same* one? Let's see what happens\n",
        "with instances of `SomeClass`:\n",
        "\n",
        "2.\n"
      ]
    },
    {
      "cell_type": "code",
      "execution_count": null,
      "metadata": {
        "collapsed": true,
        "id": "5K5qesq-zRpP",
        "outputId": "d0300385-240b-4110-8a87-f922a5984920"
      },
      "outputs": [
        {
          "data": {
            "text/plain": []
          },
          "output_type": "execute_result",
          "metadata": {},
          "execution_count": null
        }
      ],
      "source": [
        "o1 = SomeClass()\n",
        "o2 = SomeClass()\n"
      ]
    },
    {
      "cell_type": "markdown",
      "metadata": {
        "id": "aokV-dTuzRpQ"
      },
      "source": [
        "\n",
        "**Output:**\n"
      ]
    },
    {
      "cell_type": "code",
      "metadata": {
        "collapsed": true,
        "id": "xjekYt2yzRpQ",
        "outputId": "0ac9a7ad-6776-4f80-f0b5-2128084554b7"
      },
      "execution_count": null,
      "outputs": [
        {
          "name": "stdout",
          "output_type": "stream",
          "text": [
            "False\n"
          ]
        }
      ],
      "source": [
        "print(o1.method == o2.method)\n"
      ]
    },
    {
      "cell_type": "code",
      "metadata": {
        "collapsed": true,
        "id": "F4pIuy1AzRpQ",
        "outputId": "59dac5f9-9008-44c0-916c-eed5ef60facc"
      },
      "execution_count": null,
      "outputs": [
        {
          "name": "stdout",
          "output_type": "stream",
          "text": [
            "True\n"
          ]
        }
      ],
      "source": [
        "print(o1.method == o1.method)\n"
      ]
    },
    {
      "cell_type": "code",
      "metadata": {
        "collapsed": true,
        "id": "9zZxHKLuzRpQ",
        "outputId": "89d07955-2feb-4e46-9bdf-a11b5710f463"
      },
      "execution_count": null,
      "outputs": [
        {
          "name": "stdout",
          "output_type": "stream",
          "text": [
            "False\n"
          ]
        }
      ],
      "source": [
        "print(o1.method is o1.method)\n"
      ]
    },
    {
      "cell_type": "code",
      "metadata": {
        "collapsed": true,
        "id": "WyDE8-yuzRpQ",
        "outputId": "33d42c11-b718-4559-f2e7-2e55e60e0f30"
      },
      "execution_count": null,
      "outputs": [
        {
          "name": "stdout",
          "output_type": "stream",
          "text": [
            "False\n"
          ]
        }
      ],
      "source": [
        "print(o1.classm is o1.classm)\n"
      ]
    },
    {
      "cell_type": "code",
      "metadata": {
        "collapsed": true,
        "id": "aaF69KxOzRpQ",
        "outputId": "4f98cf38-9da8-4777-91c1-e73e1fd7e40c"
      },
      "execution_count": null,
      "outputs": [
        {
          "name": "stdout",
          "output_type": "stream",
          "text": [
            "True\n"
          ]
        }
      ],
      "source": [
        "print(o1.classm == o1.classm == o2.classm == SomeClass.classm)\n"
      ]
    },
    {
      "cell_type": "code",
      "metadata": {
        "collapsed": true,
        "id": "rqmA6n54zRpQ",
        "outputId": "b016a19b-5533-4c4b-ba1a-8748f471920f"
      },
      "execution_count": null,
      "outputs": [
        {
          "name": "stdout",
          "output_type": "stream",
          "text": [
            "True\n"
          ]
        }
      ],
      "source": [
        "print(o1.staticm is o1.staticm is o2.staticm is SomeClass.staticm)\n"
      ]
    },
    {
      "cell_type": "markdown",
      "metadata": {
        "id": "lWqCinGuzRpQ"
      },
      "source": [
        "\n",
        "Accessing` classm` or `method` twice, creates equal but not *same* objects for the same instance of `SomeClass`.\n",
        "\n"
      ]
    },
    {
      "cell_type": "markdown",
      "metadata": {
        "id": "ZCozed_9zRpR"
      },
      "source": [
        "#### 💡 Explanation\n",
        "* Functions are [descriptors](https://docs.python.org/3/howto/descriptor.html). Whenever a function is accessed as an\n",
        "attribute, the descriptor is invoked, creating a method object which \"binds\" the function with the object owning the\n",
        "attribute. If called, the method calls the function, implicitly passing the bound object as the first argument\n",
        "(this is how we get `self` as the first argument, despite not passing it explicitly).\n"
      ]
    },
    {
      "cell_type": "code",
      "execution_count": null,
      "metadata": {
        "collapsed": true,
        "id": "NEzisvtizRpR",
        "outputId": "85c50a4d-bd01-4cad-ba90-d8b87b7fdbac"
      },
      "outputs": [
        {
          "data": {
            "text/plain": [
              "<bound method SomeClass.method of <__main__.SomeClass object at ...>>\n"
            ]
          },
          "output_type": "execute_result",
          "metadata": {},
          "execution_count": null
        }
      ],
      "source": [
        "o1.method\n"
      ]
    },
    {
      "cell_type": "markdown",
      "metadata": {
        "id": "0u_U_qkvzRpR"
      },
      "source": [
        "* Accessing the attribute multiple times creates a method object every time! Therefore `o1.method is o1.method` is\n",
        "never truthy. Accessing functions as class attributes (as opposed to instance) does not create methods, however; so\n",
        "`SomeClass.method is SomeClass.method` is truthy.\n"
      ]
    },
    {
      "cell_type": "code",
      "execution_count": null,
      "metadata": {
        "collapsed": true,
        "id": "41t4Q79EzRpR",
        "outputId": "1c3e68c1-3234-49d9-d986-c07360d16b48"
      },
      "outputs": [
        {
          "data": {
            "text/plain": [
              "<function SomeClass.method at ...>\n"
            ]
          },
          "output_type": "execute_result",
          "metadata": {},
          "execution_count": null
        }
      ],
      "source": [
        "SomeClass.method\n"
      ]
    },
    {
      "cell_type": "markdown",
      "metadata": {
        "id": "IO9SjWw0zRpR"
      },
      "source": [
        "* `classmethod` transforms functions into class methods. Class methods are descriptors that, when accessed, create\n",
        "a method object which binds the *class* (type) of the object, instead of the object itself.\n"
      ]
    },
    {
      "cell_type": "code",
      "execution_count": null,
      "metadata": {
        "collapsed": true,
        "id": "5FDGv6uHzRpR",
        "outputId": "2b023239-131f-49f4-97d0-e16d2a31c2c6"
      },
      "outputs": [
        {
          "data": {
            "text/plain": [
              "<bound method SomeClass.classm of <class '__main__.SomeClass'>>\n"
            ]
          },
          "output_type": "execute_result",
          "metadata": {},
          "execution_count": null
        }
      ],
      "source": [
        "o1.classm\n"
      ]
    },
    {
      "cell_type": "markdown",
      "metadata": {
        "id": "e7AStzqrzRpR"
      },
      "source": [
        "* Unlike functions, `classmethod`s will create a method also when accessed as class attributes (in which case they\n",
        "bind the class, not to the type of it). So `SomeClass.classm is SomeClass.classm` is falsy.\n"
      ]
    },
    {
      "cell_type": "code",
      "execution_count": null,
      "metadata": {
        "collapsed": true,
        "id": "f8kaS9tdzRpR",
        "outputId": "79190228-ae0e-4015-d843-0913920b13e8"
      },
      "outputs": [
        {
          "data": {
            "text/plain": [
              "<bound method SomeClass.classm of <class '__main__.SomeClass'>>\n"
            ]
          },
          "output_type": "execute_result",
          "metadata": {},
          "execution_count": null
        }
      ],
      "source": [
        "SomeClass.classm\n"
      ]
    },
    {
      "cell_type": "markdown",
      "metadata": {
        "id": "wxIUfR5szRpR"
      },
      "source": [
        "* A method object compares equal when both the functions are equal, and the bound objects are the same. So\n",
        "`o1.method == o1.method` is truthy, although not the same object in memory.\n",
        "* `staticmethod` transforms functions into a \"no-op\" descriptor, which returns the function as-is. No method\n",
        "objects are ever created, so comparison with `is` is truthy.\n"
      ]
    },
    {
      "cell_type": "code",
      "execution_count": null,
      "metadata": {
        "collapsed": true,
        "id": "DS6NHc_NzRpR",
        "outputId": "288e8742-155a-4fea-b777-67ae17692287"
      },
      "outputs": [
        {
          "data": {
            "text/plain": [
              "<function SomeClass.staticm at ...>\n"
            ]
          },
          "output_type": "execute_result",
          "metadata": {},
          "execution_count": null
        }
      ],
      "source": [
        "o1.staticm\n"
      ]
    },
    {
      "cell_type": "code",
      "execution_count": null,
      "metadata": {
        "collapsed": true,
        "id": "kwQb6Z2LzRpS",
        "outputId": "5bb0516b-2648-414f-9b58-ad1ded8ddbf1"
      },
      "outputs": [
        {
          "data": {
            "text/plain": [
              "<function SomeClass.staticm at ...>\n"
            ]
          },
          "output_type": "execute_result",
          "metadata": {},
          "execution_count": null
        }
      ],
      "source": [
        "SomeClass.staticm\n"
      ]
    },
    {
      "cell_type": "markdown",
      "metadata": {
        "id": "u6VdRArkzRpS"
      },
      "source": [
        "* Having to create new \"method\" objects every time Python calls instance methods and having to modify the arguments\n",
        "every time in order to insert `self` affected performance badly.\n",
        "CPython 3.7 [solved it](https://bugs.python.org/issue26110) by introducing new opcodes that deal with calling methods\n",
        "without creating the temporary method objects. This is used only when the accessed function is actually called, so the\n",
        "snippets here are not affected, and still generate methods :)\n",
        "\n"
      ]
    },
    {
      "cell_type": "markdown",
      "metadata": {
        "id": "qqun2fB4zRpS"
      },
      "source": [
        "### ▶ All-true-ation *\n"
      ]
    },
    {
      "cell_type": "code",
      "execution_count": null,
      "metadata": {
        "collapsed": true,
        "id": "VwC-indAzRpS",
        "outputId": "40fc667c-165e-44cc-c81a-1e8b75f4a206"
      },
      "outputs": [
        {
          "data": {
            "text/plain": [
              "True\n"
            ]
          },
          "output_type": "execute_result",
          "metadata": {},
          "execution_count": null
        }
      ],
      "source": [
        "all([True, True, True])\n"
      ]
    },
    {
      "cell_type": "code",
      "execution_count": null,
      "metadata": {
        "collapsed": true,
        "id": "Gq5LKiNUzRpS",
        "outputId": "a3129968-faf9-4cad-8d5e-f14138de6f09"
      },
      "outputs": [
        {
          "data": {
            "text/plain": [
              "False\n",
              "\n"
            ]
          },
          "output_type": "execute_result",
          "metadata": {},
          "execution_count": null
        }
      ],
      "source": [
        "all([True, True, False])\n"
      ]
    },
    {
      "cell_type": "code",
      "execution_count": null,
      "metadata": {
        "collapsed": true,
        "id": "iTxYfbGOzRpS",
        "outputId": "ea6fbc85-4df0-4b9a-9d60-584e818ec4b8"
      },
      "outputs": [
        {
          "data": {
            "text/plain": [
              "True\n"
            ]
          },
          "output_type": "execute_result",
          "metadata": {},
          "execution_count": null
        }
      ],
      "source": [
        "all([])\n"
      ]
    },
    {
      "cell_type": "code",
      "execution_count": null,
      "metadata": {
        "collapsed": true,
        "id": "e-FV8K34zRpS",
        "outputId": "ad9ab205-d89d-45e7-d097-31739bd28c56"
      },
      "outputs": [
        {
          "data": {
            "text/plain": [
              "False\n"
            ]
          },
          "output_type": "execute_result",
          "metadata": {},
          "execution_count": null
        }
      ],
      "source": [
        "all([[]])\n"
      ]
    },
    {
      "cell_type": "code",
      "execution_count": null,
      "metadata": {
        "collapsed": true,
        "id": "HgnD8wPZzRpS",
        "outputId": "ef77ffe0-5373-4add-987e-74b717831c09"
      },
      "outputs": [
        {
          "data": {
            "text/plain": [
              "True\n"
            ]
          },
          "output_type": "execute_result",
          "metadata": {},
          "execution_count": null
        }
      ],
      "source": [
        "all([[[]]])\n"
      ]
    },
    {
      "cell_type": "markdown",
      "metadata": {
        "id": "-w7aOz3CzRpT"
      },
      "source": [
        "\n",
        "Why's this True-False alteration?\n",
        "\n"
      ]
    },
    {
      "cell_type": "markdown",
      "metadata": {
        "id": "B8qmpwMAzRpT"
      },
      "source": [
        "#### 💡 Explanation:\n",
        "\n",
        "- The implementation of `all` function is equivalent to\n",
        "\n",
        "- ```py\n",
        "  def all(iterable):\n",
        "      for element in iterable:\n",
        "          if not element:\n",
        "              return False\n",
        "      return True\n",
        "  ```\n",
        "\n",
        "- `all([])` returns `True` since the iterable is empty. \n",
        "- `all([[]])` returns `False` because `not []` is `True` is equivalent to `not False` as the list inside the iterable is empty.\n",
        "- `all([[[]]])` and higher recursive variants are always `True` since `not [[]]`, `not [[[]]]`, and so on are equivalent to `not True`.\n",
        "\n"
      ]
    },
    {
      "cell_type": "markdown",
      "metadata": {
        "id": "jMrOFCABzRpT"
      },
      "source": [
        "### ▶ The surprising comma\n",
        "**Output (< 3.6):**\n",
        "\n"
      ]
    },
    {
      "cell_type": "code",
      "execution_count": null,
      "metadata": {
        "collapsed": true,
        "id": "ZeIR7ASbzRpT",
        "outputId": "0f73dd02-c53a-4bca-bf62-56ca4ec0d3f3"
      },
      "outputs": [
        {
          "data": {
            "text/plain": [
              "  File \"<stdin>\", line 1\n",
              "    def h(x, **kwargs,):\n",
              "                     ^\n",
              "SyntaxError: invalid syntax\n",
              "\n"
            ]
          },
          "output_type": "execute_result",
          "metadata": {},
          "execution_count": null
        }
      ],
      "source": [
        "def f(x, y,):\n",
        "     print(x, y)\n",
        "\n",
        "def g(x=4, y=5,):\n",
        "     print(x, y)\n",
        "\n",
        "def h(x, **kwargs,):\n"
      ]
    },
    {
      "cell_type": "code",
      "execution_count": null,
      "metadata": {
        "collapsed": true,
        "id": "8ro-cNA2zRpT",
        "outputId": "92c59df8-8e2d-43f0-875b-fefdd1b1eba8"
      },
      "outputs": [
        {
          "data": {
            "text/plain": [
              "  File \"<stdin>\", line 1\n",
              "    def h(*args,):\n",
              "                ^\n",
              "SyntaxError: invalid syntax\n"
            ]
          },
          "output_type": "execute_result",
          "metadata": {},
          "execution_count": null
        }
      ],
      "source": [
        "def h(*args,):\n"
      ]
    },
    {
      "cell_type": "markdown",
      "metadata": {
        "id": "SOaqcDKHzRpT"
      },
      "source": [
        "\n"
      ]
    },
    {
      "cell_type": "markdown",
      "metadata": {
        "id": "_yVRlzf_zRpT"
      },
      "source": [
        "#### 💡 Explanation:\n",
        "\n",
        "- Trailing comma is not always legal in formal parameters list of a Python function.\n",
        "-  In Python, the argument list is defined partially with leading commas and partially with trailing commas. This conflict causes situations where a comma is trapped in the middle, and no rule accepts it.\n",
        "-  **Note:** The trailing comma problem is [fixed in Python 3.6](https://bugs.python.org/issue9232). The remarks in [this](https://bugs.python.org/issue9232#msg248399) post discuss in brief different usages of trailing commas in Python.\n",
        "\n"
      ]
    },
    {
      "cell_type": "markdown",
      "metadata": {
        "id": "C8nIG1KbzRpT"
      },
      "source": [
        "### ▶ Strings and the backslashes\n",
        "**Output:**\n"
      ]
    },
    {
      "cell_type": "code",
      "metadata": {
        "collapsed": true,
        "id": "jFImSmuMzRpT",
        "outputId": "8a9f679d-16d9-4de5-ad28-314ce39d0087"
      },
      "execution_count": null,
      "outputs": [
        {
          "name": "stdout",
          "output_type": "stream",
          "text": [
            "\"\n",
            "\n"
          ]
        }
      ],
      "source": [
        "print(\"\\\"\")\n"
      ]
    },
    {
      "cell_type": "code",
      "metadata": {
        "collapsed": true,
        "id": "FMn289obzRpU",
        "outputId": "17df1cdf-63be-440d-92c9-80ed66404050"
      },
      "execution_count": null,
      "outputs": [
        {
          "name": "stdout",
          "output_type": "stream",
          "text": [
            "\\\"\n",
            "\n"
          ]
        }
      ],
      "source": [
        "print(r\"\\\"\")\n"
      ]
    },
    {
      "cell_type": "code",
      "metadata": {
        "collapsed": true,
        "id": "E1udLu13zRpU",
        "outputId": "4d45c88f-80f6-43f7-8f86-a79f6f652bca"
      },
      "execution_count": null,
      "outputs": [
        {
          "name": "stdout",
          "output_type": "stream",
          "text": [
            "File \"<stdin>\", line 1\n",
            "    print(r\"\\\")\n",
            "              ^\n",
            "SyntaxError: EOL while scanning string literal\n",
            "\n"
          ]
        }
      ],
      "source": [
        "print(r\"\\\")\n"
      ]
    },
    {
      "cell_type": "code",
      "execution_count": null,
      "metadata": {
        "collapsed": true,
        "id": "Vhgk1D23zRpU",
        "outputId": "11a104cd-9c5e-449e-d2ea-60cc0b4975c8"
      },
      "outputs": [
        {
          "data": {
            "text/plain": [
              "True\n"
            ]
          },
          "output_type": "execute_result",
          "metadata": {},
          "execution_count": null
        }
      ],
      "source": [
        "r'\\'' == \"\\\\'\"\n"
      ]
    },
    {
      "cell_type": "markdown",
      "metadata": {
        "id": "4k90BeAezRpU"
      },
      "source": [
        "\n"
      ]
    },
    {
      "cell_type": "markdown",
      "metadata": {
        "id": "HxOZoG_WzRpU"
      },
      "source": [
        "#### 💡 Explanation\n",
        "\n",
        "- In a usual python string, the backslash is used to escape characters that may have a special meaning (like single-quote, double-quote, and the backslash itself).\n"
      ]
    },
    {
      "cell_type": "code",
      "execution_count": null,
      "metadata": {
        "collapsed": true,
        "id": "6hZ0zlEYzRpU",
        "outputId": "d9ce7169-66f3-4d21-f6f1-44872bb6a441"
      },
      "outputs": [
        {
          "data": {
            "text/plain": [
              "    'wt\"f'\n"
            ]
          },
          "output_type": "execute_result",
          "metadata": {},
          "execution_count": null
        }
      ],
      "source": [
        "    \"wt\\\"f\"\n"
      ]
    },
    {
      "cell_type": "markdown",
      "metadata": {
        "id": "QTFnd-vXzRpU"
      },
      "source": [
        "- In a raw string literal (as indicated by the prefix `r`),  the backslashes pass themselves as is along with the behavior of escaping the following character.\n"
      ]
    },
    {
      "cell_type": "code",
      "execution_count": null,
      "metadata": {
        "collapsed": true,
        "id": "zEU4IuHZzRpU",
        "outputId": "94cacca1-337b-4e88-a556-37fa5efaf54a"
      },
      "outputs": [
        {
          "data": {
            "text/plain": [
              "    True\n"
            ]
          },
          "output_type": "execute_result",
          "metadata": {},
          "execution_count": null
        }
      ],
      "source": [
        "    r'wt\\\"f' == 'wt\\\\\"f'\n"
      ]
    },
    {
      "cell_type": "code",
      "execution_count": null,
      "metadata": {
        "collapsed": true,
        "id": "9HLCUu02zRpU",
        "outputId": "82035ffe-57c4-4295-b7a4-26d528afea8f"
      },
      "outputs": [
        {
          "data": {
            "text/plain": [
              "    'wt\\\\\"f'\n",
              "\n"
            ]
          },
          "output_type": "execute_result",
          "metadata": {},
          "execution_count": null
        }
      ],
      "source": [
        "    print(repr(r'wt\\\"f')\n"
      ]
    },
    {
      "cell_type": "code",
      "execution_count": null,
      "metadata": {
        "collapsed": true,
        "id": "oDRLFfOZzRpU",
        "outputId": "428c5c31-cc6e-4835-f011-6a91368e52c8"
      },
      "outputs": [
        {
          "data": {
            "text/plain": [
              "\n"
            ]
          },
          "output_type": "execute_result",
          "metadata": {},
          "execution_count": null
        }
      ],
      "source": [
        "    print(\"\\n\")\n"
      ]
    },
    {
      "cell_type": "code",
      "execution_count": null,
      "metadata": {
        "collapsed": true,
        "id": "rrnbmQkWzRpV",
        "outputId": "c12a6e43-1518-4e44-8c32-11194907c731"
      },
      "outputs": [
        {
          "data": {
            "text/plain": [
              "    '\\\\n'\n"
            ]
          },
          "output_type": "execute_result",
          "metadata": {},
          "execution_count": null
        }
      ],
      "source": [
        "    print(r\"\\\\n\")\n"
      ]
    },
    {
      "cell_type": "markdown",
      "metadata": {
        "id": "iY6XzteYzRpV"
      },
      "source": [
        "- This means when a parser encounters a backslash in a raw string, it expects another character following it. And in our case (`print(r\"\\\")`), the backslash escaped the trailing quote, leaving the parser without a terminating quote (hence the `SyntaxError`). That's why backslashes don't work at the end of a raw string.\n",
        "\n"
      ]
    },
    {
      "cell_type": "markdown",
      "metadata": {
        "id": "paK6VGWMzRpV"
      },
      "source": [
        "### ▶ not knot!\n"
      ]
    },
    {
      "cell_type": "code",
      "execution_count": null,
      "metadata": {
        "collapsed": true,
        "id": "XbxAm0zHzRpV",
        "outputId": "deca4520-6d31-488e-9776-c3d4d778e4dc"
      },
      "outputs": [
        {
          "data": {
            "text/plain": []
          },
          "output_type": "execute_result",
          "metadata": {},
          "execution_count": null
        }
      ],
      "source": [
        "x = True\n",
        "y = False\n"
      ]
    },
    {
      "cell_type": "markdown",
      "metadata": {
        "id": "ci9iNXAMzRpV"
      },
      "source": [
        "\n",
        "**Output:**\n"
      ]
    },
    {
      "cell_type": "code",
      "execution_count": null,
      "metadata": {
        "collapsed": true,
        "id": "i5ipSSuizRpV",
        "outputId": "6cb3c1ce-8e06-49a6-f7c7-506b706e7106"
      },
      "outputs": [
        {
          "data": {
            "text/plain": [
              "True\n"
            ]
          },
          "output_type": "execute_result",
          "metadata": {},
          "execution_count": null
        }
      ],
      "source": [
        "not x == y\n"
      ]
    },
    {
      "cell_type": "code",
      "execution_count": null,
      "metadata": {
        "collapsed": true,
        "id": "PbF8NlcczRpV",
        "outputId": "a6c307cd-6144-4e87-9b29-a95224b1613f"
      },
      "outputs": [
        {
          "data": {
            "text/plain": [
              "  File \"<input>\", line 1\n",
              "    x == not y\n",
              "           ^\n",
              "SyntaxError: invalid syntax\n"
            ]
          },
          "output_type": "execute_result",
          "metadata": {},
          "execution_count": null
        }
      ],
      "source": [
        "x == not y\n"
      ]
    },
    {
      "cell_type": "markdown",
      "metadata": {
        "id": "33Ti5nXWzRpV"
      },
      "source": [
        "\n"
      ]
    },
    {
      "cell_type": "markdown",
      "metadata": {
        "id": "GrQbUU7NzRpW"
      },
      "source": [
        "#### 💡 Explanation:\n",
        "\n",
        "* Operator precedence affects how an expression is evaluated, and `==` operator has higher precedence than `not` operator in Python.\n",
        "* So `not x == y` is equivalent to `not (x == y)` which is equivalent to `not (True == False)` finally evaluating to `True`.\n",
        "* But `x == not y` raises a `SyntaxError` because it can be thought of being equivalent to `(x == not) y` and not `x == (not y)` which you might have expected at first sight.\n",
        "* The parser expected the `not` token to be a part of the `not in` operator (because both `==` and `not in` operators have the same precedence), but after not being able to find an `in` token following the `not` token, it raises a `SyntaxError`.\n",
        "\n"
      ]
    },
    {
      "cell_type": "markdown",
      "metadata": {
        "id": "_kr1guxczRpW"
      },
      "source": [
        "### ▶ Half triple-quoted strings\n",
        "**Output:**\n"
      ]
    },
    {
      "cell_type": "code",
      "metadata": {
        "collapsed": true,
        "id": "_qRfaeVJzRpX",
        "outputId": "282ee229-8367-4d8f-8bea-33a35a6b5798"
      },
      "execution_count": null,
      "outputs": [
        {
          "name": "stdout",
          "output_type": "stream",
          "text": [
            "wtfpython\n"
          ]
        }
      ],
      "source": [
        "print('wtfpython''')\n"
      ]
    },
    {
      "cell_type": "code",
      "metadata": {
        "collapsed": true,
        "id": "AfD4q_aUzRpX",
        "outputId": "2e0c164f-3b8f-4284-853a-6953daf98b1a"
      },
      "execution_count": null,
      "outputs": [
        {
          "name": "stdout",
          "output_type": "stream",
          "text": [
            "wtfpython\n"
          ]
        }
      ],
      "source": [
        "print(\"wtfpython\"\"\")\n"
      ]
    },
    {
      "cell_type": "code",
      "execution_count": null,
      "metadata": {
        "collapsed": true,
        "id": "cwMsc3AwzRpX",
        "outputId": "4dd507c4-f709-43f9-f881-f4bcaa852911"
      },
      "outputs": [
        {
          "data": {
            "text/plain": [
              "  File \"<input>\", line 3\n",
              "    print(\"\"\"wtfpython\")\n",
              "                        ^\n",
              "SyntaxError: EOF while scanning triple-quoted string literal\n"
            ]
          },
          "output_type": "execute_result",
          "metadata": {},
          "execution_count": null
        }
      ],
      "source": [
        "# The following statements raise `SyntaxError`\n",
        "# print('''wtfpython')\n",
        "# print(\"\"\"wtfpython\")\n"
      ]
    },
    {
      "cell_type": "markdown",
      "metadata": {
        "id": "W6whGxiDzRpX"
      },
      "source": [
        "\n"
      ]
    },
    {
      "cell_type": "markdown",
      "metadata": {
        "id": "Upo3hCtLzRpX"
      },
      "source": [
        "#### 💡 Explanation:\n",
        "+ Python supports implicit [string literal concatenation](https://docs.python.org/3/reference/lexical_analysis.html#string-literal-concatenation), Example,\n",
        "  ```\n",
        "  >>> print(\"wtf\" \"python\")\n",
        "  wtfpython\n",
        "  >>> print(\"wtf\" \"\") # or \"wtf\"\"\"\n",
        "  wtf\n",
        "  ```\n",
        "+ `'''` and `\"\"\"` are also string delimiters in Python which causes a SyntaxError because the Python interpreter was expecting a terminating triple quote as delimiter while scanning the currently encountered triple quoted string literal.\n",
        "\n"
      ]
    },
    {
      "cell_type": "markdown",
      "metadata": {
        "id": "rmQD2wCtzRpX"
      },
      "source": [
        "### ▶ What's wrong with booleans?\n",
        "1\\.\n",
        "\n"
      ]
    },
    {
      "cell_type": "code",
      "execution_count": null,
      "metadata": {
        "collapsed": true,
        "id": "K9OxwmO2zRpX",
        "outputId": "acfaf9e8-27d6-4b74-a29f-314807606b21"
      },
      "outputs": [
        {
          "data": {
            "text/plain": []
          },
          "output_type": "execute_result",
          "metadata": {},
          "execution_count": null
        }
      ],
      "source": [
        "# A simple example to count the number of booleans and\n",
        "# integers in an iterable of mixed data types.\n",
        "mixed_list = [False, 1.0, \"some_string\", 3, True, [], False]\n",
        "integers_found_so_far = 0\n",
        "booleans_found_so_far = 0\n",
        "\n",
        "for item in mixed_list:\n",
        "    if isinstance(item, int):\n",
        "        integers_found_so_far += 1\n",
        "    elif isinstance(item, bool):\n",
        "        booleans_found_so_far += 1\n"
      ]
    },
    {
      "cell_type": "markdown",
      "metadata": {
        "id": "gP2n3VRLzRpX"
      },
      "source": [
        "\n",
        "**Output:**\n"
      ]
    },
    {
      "cell_type": "code",
      "execution_count": null,
      "metadata": {
        "collapsed": true,
        "id": "GZz9CboQzRpX",
        "outputId": "a538d4ec-531e-47a3-b318-9ad88a63b969"
      },
      "outputs": [
        {
          "data": {
            "text/plain": [
              "4\n"
            ]
          },
          "output_type": "execute_result",
          "metadata": {},
          "execution_count": null
        }
      ],
      "source": [
        "integers_found_so_far\n"
      ]
    },
    {
      "cell_type": "code",
      "execution_count": null,
      "metadata": {
        "collapsed": true,
        "id": "ZWZbg_WnzRpY",
        "outputId": "ddb8701d-a410-421d-b378-2b44a6a985f0"
      },
      "outputs": [
        {
          "data": {
            "text/plain": [
              "0\n"
            ]
          },
          "output_type": "execute_result",
          "metadata": {},
          "execution_count": null
        }
      ],
      "source": [
        "booleans_found_so_far\n"
      ]
    },
    {
      "cell_type": "markdown",
      "metadata": {
        "id": "NP0hUvsDzRpY"
      },
      "source": [
        "\n",
        "\n",
        "2\\.\n"
      ]
    },
    {
      "cell_type": "code",
      "execution_count": null,
      "metadata": {
        "collapsed": true,
        "id": "2eEihNdTzRpY",
        "outputId": "bcb076d9-3daf-49a6-842a-faf6ba2b17ff"
      },
      "outputs": [
        {
          "data": {
            "text/plain": [
              "'wtf'\n"
            ]
          },
          "output_type": "execute_result",
          "metadata": {},
          "execution_count": null
        }
      ],
      "source": [
        "some_bool = True\n",
        "\"wtf\" * some_bool\n"
      ]
    },
    {
      "cell_type": "code",
      "execution_count": null,
      "metadata": {
        "collapsed": true,
        "id": "i4rTO8aQzRpY",
        "outputId": "89c7656d-4b48-4f0d-c02e-5a237b7bb026"
      },
      "outputs": [
        {
          "data": {
            "text/plain": [
              "''\n"
            ]
          },
          "output_type": "execute_result",
          "metadata": {},
          "execution_count": null
        }
      ],
      "source": [
        "some_bool = False\n",
        "\"wtf\" * some_bool\n"
      ]
    },
    {
      "cell_type": "markdown",
      "metadata": {
        "id": "kco8J2ZozRpY"
      },
      "source": [
        "\n",
        "3\\.\n",
        "\n"
      ]
    },
    {
      "cell_type": "code",
      "execution_count": null,
      "metadata": {
        "collapsed": true,
        "id": "P-GAdkfJzRpY",
        "outputId": "43938ee2-d09b-4cd6-bab5-6a532780ab7e"
      },
      "outputs": [
        {
          "data": {
            "text/plain": []
          },
          "output_type": "execute_result",
          "metadata": {},
          "execution_count": null
        }
      ],
      "source": [
        "def tell_truth():\n",
        "    True = False\n",
        "    if True == False:\n",
        "        print(\"I have lost faith in truth!\")\n"
      ]
    },
    {
      "cell_type": "markdown",
      "metadata": {
        "id": "Mzjmru9RzRpY"
      },
      "source": [
        "\n",
        "**Output (< 3.x):**\n",
        "\n"
      ]
    },
    {
      "cell_type": "code",
      "execution_count": null,
      "metadata": {
        "collapsed": true,
        "id": "3eP6ZWk2zRpY",
        "outputId": "e01d4cdf-e19f-47cb-f0bb-ca5a50921eb2"
      },
      "outputs": [
        {
          "data": {
            "text/plain": [
              "I have lost faith in truth!\n"
            ]
          },
          "output_type": "execute_result",
          "metadata": {},
          "execution_count": null
        }
      ],
      "source": [
        "tell_truth()\n"
      ]
    },
    {
      "cell_type": "markdown",
      "metadata": {
        "id": "JkrqobRBzRpY"
      },
      "source": [
        "\n",
        "\n",
        "\n"
      ]
    },
    {
      "cell_type": "markdown",
      "metadata": {
        "id": "nXkWgmSczRpZ"
      },
      "source": [
        "#### 💡 Explanation:\n",
        "\n",
        "* `bool` is a subclass of `int` in Python\n",
        "    \n"
      ]
    },
    {
      "cell_type": "code",
      "execution_count": null,
      "metadata": {
        "collapsed": true,
        "id": "87Nc90h0zRpZ",
        "outputId": "d07eac4e-9174-46d1-b6fb-174ec45f4afc"
      },
      "outputs": [
        {
          "data": {
            "text/plain": [
              "    True\n"
            ]
          },
          "output_type": "execute_result",
          "metadata": {},
          "execution_count": null
        }
      ],
      "source": [
        "    issubclass(bool, int)\n"
      ]
    },
    {
      "cell_type": "code",
      "execution_count": null,
      "metadata": {
        "collapsed": true,
        "id": "KOKyOMXPzRpZ",
        "outputId": "2b495190-13ca-4fe8-e3fe-fee56d283de6"
      },
      "outputs": [
        {
          "data": {
            "text/plain": [
              "    False\n"
            ]
          },
          "output_type": "execute_result",
          "metadata": {},
          "execution_count": null
        }
      ],
      "source": [
        "    issubclass(int, bool)\n"
      ]
    },
    {
      "cell_type": "markdown",
      "metadata": {
        "id": "ALyLsgymzRpZ"
      },
      "source": [
        "    \n",
        "* And thus, `True` and `False` are instances of `int`\n"
      ]
    },
    {
      "cell_type": "code",
      "execution_count": null,
      "metadata": {
        "collapsed": true,
        "id": "6OspaOdXzRpZ",
        "outputId": "a41e8416-77c3-4659-85b9-83b6258cc9a6"
      },
      "outputs": [
        {
          "data": {
            "text/plain": [
              "  True\n"
            ]
          },
          "output_type": "execute_result",
          "metadata": {},
          "execution_count": null
        }
      ],
      "source": [
        "  isinstance(True, int)\n"
      ]
    },
    {
      "cell_type": "code",
      "execution_count": null,
      "metadata": {
        "collapsed": true,
        "id": "S52MVesLzRpZ",
        "outputId": "5fbf4722-fc41-478d-91e4-f5776466577d"
      },
      "outputs": [
        {
          "data": {
            "text/plain": [
              "  True\n"
            ]
          },
          "output_type": "execute_result",
          "metadata": {},
          "execution_count": null
        }
      ],
      "source": [
        "  isinstance(False, int)\n"
      ]
    },
    {
      "cell_type": "markdown",
      "metadata": {
        "id": "d8Gd3ve0zRpZ"
      },
      "source": [
        "\n",
        "* The integer value of `True` is `1` and that of `False` is `0`.\n"
      ]
    },
    {
      "cell_type": "code",
      "execution_count": null,
      "metadata": {
        "collapsed": true,
        "id": "70sZ01zfzRpZ",
        "outputId": "8ccdc264-29c6-4d78-ded1-0aa34be70e09"
      },
      "outputs": [
        {
          "data": {
            "text/plain": [
              "  1\n"
            ]
          },
          "output_type": "execute_result",
          "metadata": {},
          "execution_count": null
        }
      ],
      "source": [
        "  int(True)\n"
      ]
    },
    {
      "cell_type": "code",
      "execution_count": null,
      "metadata": {
        "collapsed": true,
        "id": "eiT3DKTbzRpZ",
        "outputId": "8f7b2d0f-c251-40ad-b8c8-3e66b4e4c11b"
      },
      "outputs": [
        {
          "data": {
            "text/plain": [
              "  0\n"
            ]
          },
          "output_type": "execute_result",
          "metadata": {},
          "execution_count": null
        }
      ],
      "source": [
        "  int(False)\n"
      ]
    },
    {
      "cell_type": "markdown",
      "metadata": {
        "id": "ceXRZhHhzRpZ"
      },
      "source": [
        "\n",
        "* See this StackOverflow [answer](https://stackoverflow.com/a/8169049/4354153) for the rationale behind it.\n",
        "\n",
        "* Initially, Python used to have no `bool` type (people used 0 for false and non-zero value like 1 for true).  `True`, `False`, and a `bool` type was added in 2.x versions, but, for backward compatibility, `True` and `False` couldn't be made constants. They just were built-in variables, and it was possible to reassign them\n",
        "\n",
        "* Python 3 was backward-incompatible, the issue was finally fixed, and thus the last snippet won't work with Python 3.x!\n",
        "\n"
      ]
    },
    {
      "cell_type": "markdown",
      "metadata": {
        "id": "hSTMb0N6zRpa"
      },
      "source": [
        "### ▶ Class attributes and instance attributes\n",
        "1\\.\n"
      ]
    },
    {
      "cell_type": "code",
      "execution_count": null,
      "metadata": {
        "collapsed": true,
        "id": "czISfbhLzRpa",
        "outputId": "936d09f7-77de-456e-ea95-84d47f71f756"
      },
      "outputs": [
        {
          "data": {
            "text/plain": []
          },
          "output_type": "execute_result",
          "metadata": {},
          "execution_count": null
        }
      ],
      "source": [
        "class A:\n",
        "    x = 1\n",
        "\n",
        "class B(A):\n",
        "    pass\n",
        "\n",
        "class C(A):\n",
        "    pass\n"
      ]
    },
    {
      "cell_type": "markdown",
      "metadata": {
        "id": "dGwH-m_ZzRpa"
      },
      "source": [
        "\n",
        "**Output:**\n"
      ]
    },
    {
      "cell_type": "code",
      "execution_count": null,
      "metadata": {
        "collapsed": true,
        "id": "eGo7m0z_zRpa",
        "outputId": "a48a268e-0232-42d6-c975-3568579285ce"
      },
      "outputs": [
        {
          "data": {
            "text/plain": [
              "(1, 1, 1)\n"
            ]
          },
          "output_type": "execute_result",
          "metadata": {},
          "execution_count": null
        }
      ],
      "source": [
        "A.x, B.x, C.x\n"
      ]
    },
    {
      "cell_type": "code",
      "execution_count": null,
      "metadata": {
        "collapsed": true,
        "id": "I-xqkrIlzRpa",
        "outputId": "1ec33bed-ee21-4d2d-86c4-982aab3ea60f"
      },
      "outputs": [
        {
          "data": {
            "text/plain": [
              "(1, 2, 1)\n"
            ]
          },
          "output_type": "execute_result",
          "metadata": {},
          "execution_count": null
        }
      ],
      "source": [
        "B.x = 2\n",
        "A.x, B.x, C.x\n"
      ]
    },
    {
      "cell_type": "code",
      "execution_count": null,
      "metadata": {
        "collapsed": true,
        "id": "UaWrP4w1zRpa",
        "outputId": "76091090-fb88-45b4-84e4-3d3b99e88efa"
      },
      "outputs": [
        {
          "data": {
            "text/plain": [
              "(3, 2, 3)\n"
            ]
          },
          "output_type": "execute_result",
          "metadata": {},
          "execution_count": null
        }
      ],
      "source": [
        "A.x = 3\n",
        "A.x, B.x, C.x # C.x changed, but B.x didn't\n"
      ]
    },
    {
      "cell_type": "code",
      "execution_count": null,
      "metadata": {
        "collapsed": true,
        "id": "U6SiuirPzRpa",
        "outputId": "9280fb34-66cd-4b82-c78e-aea94ea31942"
      },
      "outputs": [
        {
          "data": {
            "text/plain": [
              "(3, 3)\n"
            ]
          },
          "output_type": "execute_result",
          "metadata": {},
          "execution_count": null
        }
      ],
      "source": [
        "a = A()\n",
        "a.x, A.x\n"
      ]
    },
    {
      "cell_type": "code",
      "execution_count": null,
      "metadata": {
        "collapsed": true,
        "id": "YPhI73omzRpa",
        "outputId": "3d828303-f128-4a84-c21a-1472fa462468"
      },
      "outputs": [
        {
          "data": {
            "text/plain": [
              "(4, 3)\n"
            ]
          },
          "output_type": "execute_result",
          "metadata": {},
          "execution_count": null
        }
      ],
      "source": [
        "a.x += 1\n",
        "a.x, A.x\n"
      ]
    },
    {
      "cell_type": "markdown",
      "metadata": {
        "id": "ss6L3ATXzRpa"
      },
      "source": [
        "\n",
        "2\\.\n"
      ]
    },
    {
      "cell_type": "code",
      "execution_count": null,
      "metadata": {
        "collapsed": true,
        "id": "TayOodVszRpb",
        "outputId": "e5b9adde-6fb4-44f6-e5a3-b482b8832f7b"
      },
      "outputs": [
        {
          "data": {
            "text/plain": []
          },
          "output_type": "execute_result",
          "metadata": {},
          "execution_count": null
        }
      ],
      "source": [
        "class SomeClass:\n",
        "    some_var = 15\n",
        "    some_list = [5]\n",
        "    another_list = [5]\n",
        "    def __init__(self, x):\n",
        "        self.some_var = x + 1\n",
        "        self.some_list = self.some_list + [x]\n",
        "        self.another_list += [x]\n"
      ]
    },
    {
      "cell_type": "markdown",
      "metadata": {
        "id": "HCJyReVBzRpb"
      },
      "source": [
        "\n",
        "**Output:**\n",
        "\n"
      ]
    },
    {
      "cell_type": "code",
      "execution_count": null,
      "metadata": {
        "collapsed": true,
        "id": "9Sb19OfnzRpb",
        "outputId": "b2e3fd6f-2e78-4552-ea23-497389e7fb9a"
      },
      "outputs": [
        {
          "data": {
            "text/plain": [
              "[5, 420]\n"
            ]
          },
          "output_type": "execute_result",
          "metadata": {},
          "execution_count": null
        }
      ],
      "source": [
        "some_obj = SomeClass(420)\n",
        "some_obj.some_list\n"
      ]
    },
    {
      "cell_type": "code",
      "execution_count": null,
      "metadata": {
        "collapsed": true,
        "id": "__HTRhzJzRpb",
        "outputId": "568c5910-ca18-487f-8c3b-e5fd21a78396"
      },
      "outputs": [
        {
          "data": {
            "text/plain": [
              "[5, 420]\n"
            ]
          },
          "output_type": "execute_result",
          "metadata": {},
          "execution_count": null
        }
      ],
      "source": [
        "some_obj.another_list\n"
      ]
    },
    {
      "cell_type": "code",
      "execution_count": null,
      "metadata": {
        "collapsed": true,
        "id": "4u-2D9_lzRpb",
        "outputId": "f42becd9-cad6-4c74-c993-0b2f63b55fe4"
      },
      "outputs": [
        {
          "data": {
            "text/plain": [
              "[5, 111]\n"
            ]
          },
          "output_type": "execute_result",
          "metadata": {},
          "execution_count": null
        }
      ],
      "source": [
        "another_obj = SomeClass(111)\n",
        "another_obj.some_list\n"
      ]
    },
    {
      "cell_type": "code",
      "execution_count": null,
      "metadata": {
        "collapsed": true,
        "id": "XrlLfYv9zRpb",
        "outputId": "36b64f84-d330-4d0e-9e79-b5a1523a44aa"
      },
      "outputs": [
        {
          "data": {
            "text/plain": [
              "[5, 420, 111]\n"
            ]
          },
          "output_type": "execute_result",
          "metadata": {},
          "execution_count": null
        }
      ],
      "source": [
        "another_obj.another_list\n"
      ]
    },
    {
      "cell_type": "code",
      "execution_count": null,
      "metadata": {
        "collapsed": true,
        "id": "2BIiTfsEzRpb",
        "outputId": "12b5818f-4ef1-4526-c850-cb04f895e2ac"
      },
      "outputs": [
        {
          "data": {
            "text/plain": [
              "True\n"
            ]
          },
          "output_type": "execute_result",
          "metadata": {},
          "execution_count": null
        }
      ],
      "source": [
        "another_obj.another_list is SomeClass.another_list\n"
      ]
    },
    {
      "cell_type": "code",
      "execution_count": null,
      "metadata": {
        "collapsed": true,
        "id": "XtssedP0zRpc",
        "outputId": "d5318f32-1983-4ace-e09c-9752c9ac8900"
      },
      "outputs": [
        {
          "data": {
            "text/plain": [
              "True\n"
            ]
          },
          "output_type": "execute_result",
          "metadata": {},
          "execution_count": null
        }
      ],
      "source": [
        "another_obj.another_list is some_obj.another_list\n"
      ]
    },
    {
      "cell_type": "markdown",
      "metadata": {
        "id": "_e-BpX6AzRpc"
      },
      "source": [
        "\n"
      ]
    },
    {
      "cell_type": "markdown",
      "metadata": {
        "id": "J3d_jihnzRpc"
      },
      "source": [
        "#### 💡 Explanation:\n",
        "\n",
        "* Class variables and variables in class instances are internally handled as dictionaries of a class object. If a variable name is not found in the dictionary of the current class, the parent classes are searched for it.\n",
        "* The `+=` operator modifies the mutable object in-place without creating a new object. So changing the attribute of one instance affects the other instances and the class attribute as well.\n",
        "\n"
      ]
    },
    {
      "cell_type": "markdown",
      "metadata": {
        "id": "JAbQQ6dFzRpc"
      },
      "source": [
        "### ▶ yielding None\n"
      ]
    },
    {
      "cell_type": "code",
      "execution_count": null,
      "metadata": {
        "collapsed": true,
        "id": "uAzT88-szRpc",
        "outputId": "5da055b9-7981-4b0e-cefc-e5b88a5ea8f5"
      },
      "outputs": [
        {
          "data": {
            "text/plain": []
          },
          "output_type": "execute_result",
          "metadata": {},
          "execution_count": null
        }
      ],
      "source": [
        "some_iterable = ('a', 'b')\n",
        "\n",
        "def some_func(val):\n",
        "    return \"something\"\n"
      ]
    },
    {
      "cell_type": "markdown",
      "metadata": {
        "id": "BxrwixbRzRpc"
      },
      "source": [
        "\n",
        "**Output (<= 3.7.x):**\n",
        "\n"
      ]
    },
    {
      "cell_type": "code",
      "execution_count": null,
      "metadata": {
        "collapsed": true,
        "id": "eRxoNGsdzRpc",
        "outputId": "cc70e24d-9057-4d2e-80fb-ff5b07f2c64b"
      },
      "outputs": [
        {
          "data": {
            "text/plain": [
              "['a', 'b']\n"
            ]
          },
          "output_type": "execute_result",
          "metadata": {},
          "execution_count": null
        }
      ],
      "source": [
        "[x for x in some_iterable]\n"
      ]
    },
    {
      "cell_type": "code",
      "execution_count": null,
      "metadata": {
        "collapsed": true,
        "id": "Byu1jCyZzRpc",
        "outputId": "a1c05005-6965-4bff-a968-6660f7bb6b68"
      },
      "outputs": [
        {
          "data": {
            "text/plain": [
              "<generator object <listcomp> at 0x7f70b0a4ad58>\n"
            ]
          },
          "output_type": "execute_result",
          "metadata": {},
          "execution_count": null
        }
      ],
      "source": [
        "[(yield x) for x in some_iterable]\n"
      ]
    },
    {
      "cell_type": "code",
      "execution_count": null,
      "metadata": {
        "collapsed": true,
        "id": "B7MsYej5zRpc",
        "outputId": "8c0ad400-c26e-4378-cab0-0ae878fb4eb8"
      },
      "outputs": [
        {
          "data": {
            "text/plain": [
              "['a', 'b']\n"
            ]
          },
          "output_type": "execute_result",
          "metadata": {},
          "execution_count": null
        }
      ],
      "source": [
        "list([(yield x) for x in some_iterable])\n"
      ]
    },
    {
      "cell_type": "code",
      "execution_count": null,
      "metadata": {
        "collapsed": true,
        "id": "CgpssJUlzRpd",
        "outputId": "d2248bd1-0915-43cc-dd6e-f1af75341c60"
      },
      "outputs": [
        {
          "data": {
            "text/plain": [
              "['a', None, 'b', None]\n"
            ]
          },
          "output_type": "execute_result",
          "metadata": {},
          "execution_count": null
        }
      ],
      "source": [
        "list((yield x) for x in some_iterable)\n"
      ]
    },
    {
      "cell_type": "code",
      "execution_count": null,
      "metadata": {
        "collapsed": true,
        "id": "jbYh9TMQzRpd",
        "outputId": "47d82934-16cd-4322-bc2c-d6630f13227e"
      },
      "outputs": [
        {
          "data": {
            "text/plain": [
              "['a', 'something', 'b', 'something']\n"
            ]
          },
          "output_type": "execute_result",
          "metadata": {},
          "execution_count": null
        }
      ],
      "source": [
        "list(some_func((yield x)) for x in some_iterable)\n"
      ]
    },
    {
      "cell_type": "markdown",
      "metadata": {
        "id": "CTRDQkvEzRpd"
      },
      "source": [
        "\n"
      ]
    },
    {
      "cell_type": "markdown",
      "metadata": {
        "id": "UrpWcQEozRpd"
      },
      "source": [
        "#### 💡 Explanation:\n",
        "- This is a bug in CPython's handling of `yield` in generators and comprehensions.\n",
        "- Source and explanation can be found here: https://stackoverflow.com/questions/32139885/yield-in-list-comprehensions-and-generator-expressions\n",
        "- Related bug report: https://bugs.python.org/issue10544\n",
        "- Python 3.8+ no longer allows `yield` inside list comprehension and will throw a `SyntaxError`.\n",
        "\n"
      ]
    },
    {
      "cell_type": "markdown",
      "metadata": {
        "id": "djbAQpMuzRpd"
      },
      "source": [
        "### ▶ Yielding from... return! *\n",
        "1\\.\n",
        "\n"
      ]
    },
    {
      "cell_type": "code",
      "execution_count": null,
      "metadata": {
        "collapsed": true,
        "id": "aS5LERS1zRpd",
        "outputId": "7ab69851-3cab-4202-adc2-75d290559e3b"
      },
      "outputs": [
        {
          "data": {
            "text/plain": []
          },
          "output_type": "execute_result",
          "metadata": {},
          "execution_count": null
        }
      ],
      "source": [
        "def some_func(x):\n",
        "    if x == 3:\n",
        "        return [\"wtf\"]\n",
        "    else:\n",
        "        yield from range(x)\n"
      ]
    },
    {
      "cell_type": "markdown",
      "metadata": {
        "id": "Opq5zQJszRpd"
      },
      "source": [
        "\n",
        "**Output (> 3.3):**\n",
        "\n"
      ]
    },
    {
      "cell_type": "code",
      "execution_count": null,
      "metadata": {
        "collapsed": true,
        "id": "zlaW8B1NzRpd",
        "outputId": "e3daf013-074a-41a1-b8a2-c3502d63b168"
      },
      "outputs": [
        {
          "data": {
            "text/plain": [
              "[]\n"
            ]
          },
          "output_type": "execute_result",
          "metadata": {},
          "execution_count": null
        }
      ],
      "source": [
        "list(some_func(3))\n"
      ]
    },
    {
      "cell_type": "markdown",
      "metadata": {
        "id": "4F9Zc5TpzRpd"
      },
      "source": [
        "\n",
        "Where did the `\"wtf\"` go? Is it due to some special effect of `yield from`? Let's validate that,\n",
        "\n",
        "2\\.\n",
        "\n"
      ]
    },
    {
      "cell_type": "code",
      "execution_count": null,
      "metadata": {
        "collapsed": true,
        "id": "iNb6446NzRpe",
        "outputId": "dd70677e-d276-4b06-8227-82fd7670d611"
      },
      "outputs": [
        {
          "data": {
            "text/plain": []
          },
          "output_type": "execute_result",
          "metadata": {},
          "execution_count": null
        }
      ],
      "source": [
        "def some_func(x):\n",
        "    if x == 3:\n",
        "        return [\"wtf\"]\n",
        "    else:\n",
        "        for i in range(x):\n",
        "          yield i\n"
      ]
    },
    {
      "cell_type": "markdown",
      "metadata": {
        "id": "qn_AOvLOzRpe"
      },
      "source": [
        "\n",
        "**Output:**\n",
        "\n"
      ]
    },
    {
      "cell_type": "code",
      "execution_count": null,
      "metadata": {
        "collapsed": true,
        "id": "BRjGY20JzRpe",
        "outputId": "af96b3a6-a350-41e8-9e25-108f2dfb8f53"
      },
      "outputs": [
        {
          "data": {
            "text/plain": [
              "[]\n"
            ]
          },
          "output_type": "execute_result",
          "metadata": {},
          "execution_count": null
        }
      ],
      "source": [
        "list(some_func(3))\n"
      ]
    },
    {
      "cell_type": "markdown",
      "metadata": {
        "id": "467W9KxrzRpe"
      },
      "source": [
        "\n",
        "The same result, this didn't work either.\n",
        "\n"
      ]
    },
    {
      "cell_type": "markdown",
      "metadata": {
        "id": "F3PpNDxhzRpe"
      },
      "source": [
        "#### 💡 Explanation:\n",
        "\n",
        "+ From Python 3.3 onwards, it became possible to use `return` statement with values inside generators (See [PEP380](https://www.python.org/dev/peps/pep-0380/)). The [official docs](https://www.python.org/dev/peps/pep-0380/#enhancements-to-stopiteration) say that,\n",
        "\n",
        "> \"... `return expr` in a generator causes `StopIteration(expr)` to be raised upon exit from the generator.\"\n",
        "\n",
        "+ In the case of `some_func(3)`, `StopIteration` is raised at the beginning because of `return` statement. The `StopIteration` exception is automatically caught inside the `list(...)` wrapper and the `for` loop. Therefore, the above two snippets result in an empty list.\n",
        "\n",
        "+ To get `[\"wtf\"]` from the generator `some_func` we need to catch the `StopIteration` exception,\n",
        "\n"
      ]
    },
    {
      "cell_type": "code",
      "execution_count": null,
      "metadata": {
        "collapsed": true,
        "id": "jgZkbXEAzRpe",
        "outputId": "8a4a538b-3bd6-414a-c87b-42ee3c784858"
      },
      "outputs": [
        {
          "data": {
            "text/plain": []
          },
          "output_type": "execute_result",
          "metadata": {},
          "execution_count": null
        }
      ],
      "source": [
        "  try:\n",
        "      next(some_func(3))\n",
        "  except StopIteration as e:\n",
        "      some_string = e.value\n"
      ]
    },
    {
      "cell_type": "markdown",
      "metadata": {
        "id": "Lohu1-FdzRpe"
      },
      "source": [
        "\n"
      ]
    },
    {
      "cell_type": "code",
      "execution_count": null,
      "metadata": {
        "collapsed": true,
        "id": "OP6e-HRFzRpe",
        "outputId": "a21bd2d3-fa41-44bf-c7ee-13f06ce08943"
      },
      "outputs": [
        {
          "data": {
            "text/plain": [
              "  [\"wtf\"]\n"
            ]
          },
          "output_type": "execute_result",
          "metadata": {},
          "execution_count": null
        }
      ],
      "source": [
        "  some_string\n"
      ]
    },
    {
      "cell_type": "markdown",
      "metadata": {
        "id": "ekORwCcZzRpe"
      },
      "source": [
        "\n"
      ]
    },
    {
      "cell_type": "markdown",
      "metadata": {
        "id": "Xv8wBxZ9zRpf"
      },
      "source": [
        "### ▶ Nan-reflexivity *\n",
        "1\\.\n",
        "\n"
      ]
    },
    {
      "cell_type": "code",
      "execution_count": null,
      "metadata": {
        "collapsed": true,
        "id": "yiH4eMe8zRpf",
        "outputId": "476bfcef-5220-49c3-998c-e146bfd66cff"
      },
      "outputs": [
        {
          "data": {
            "text/plain": []
          },
          "output_type": "execute_result",
          "metadata": {},
          "execution_count": null
        }
      ],
      "source": [
        "a = float('inf')\n",
        "b = float('nan')\n",
        "c = float('-iNf')  # These strings are case-insensitive\n",
        "d = float('nan')\n"
      ]
    },
    {
      "cell_type": "markdown",
      "metadata": {
        "id": "9dBgTSX8zRpf"
      },
      "source": [
        "\n",
        "**Output:**\n",
        "\n"
      ]
    },
    {
      "cell_type": "code",
      "execution_count": null,
      "metadata": {
        "collapsed": true,
        "id": "5Bx1Rf-6zRpf",
        "outputId": "98c83fcd-a344-4504-bebd-ba18952ed713"
      },
      "outputs": [
        {
          "data": {
            "text/plain": [
              "inf\n"
            ]
          },
          "output_type": "execute_result",
          "metadata": {},
          "execution_count": null
        }
      ],
      "source": [
        "a\n"
      ]
    },
    {
      "cell_type": "code",
      "execution_count": null,
      "metadata": {
        "collapsed": true,
        "id": "wda27tYxzRpf",
        "outputId": "0f7a6a72-1f1b-4e1a-f444-cfdc980e29a9"
      },
      "outputs": [
        {
          "data": {
            "text/plain": [
              "nan\n"
            ]
          },
          "output_type": "execute_result",
          "metadata": {},
          "execution_count": null
        }
      ],
      "source": [
        "b\n"
      ]
    },
    {
      "cell_type": "code",
      "execution_count": null,
      "metadata": {
        "collapsed": true,
        "id": "S_nK5fhMzRpf",
        "outputId": "79ac3d83-dafd-41e3-edb8-e699446d52ad"
      },
      "outputs": [
        {
          "data": {
            "text/plain": [
              "-inf\n"
            ]
          },
          "output_type": "execute_result",
          "metadata": {},
          "execution_count": null
        }
      ],
      "source": [
        "c\n"
      ]
    },
    {
      "cell_type": "code",
      "execution_count": null,
      "metadata": {
        "collapsed": true,
        "id": "_DehHN3QzRpf",
        "outputId": "2083252e-bc81-4ba6-a88a-7aca7dbe27d0"
      },
      "outputs": [
        {
          "data": {
            "text/plain": [
              "ValueError: could not convert string to float: some_other_string\n"
            ]
          },
          "output_type": "execute_result",
          "metadata": {},
          "execution_count": null
        }
      ],
      "source": [
        "float('some_other_string')\n"
      ]
    },
    {
      "cell_type": "code",
      "execution_count": null,
      "metadata": {
        "collapsed": true,
        "id": "sG-hHe2tzRpf",
        "outputId": "16f3eac6-4652-49c5-9b96-09abb1390388"
      },
      "outputs": [
        {
          "data": {
            "text/plain": [
              "True\n"
            ]
          },
          "output_type": "execute_result",
          "metadata": {},
          "execution_count": null
        }
      ],
      "source": [
        "a == -c # inf==inf\n"
      ]
    },
    {
      "cell_type": "code",
      "execution_count": null,
      "metadata": {
        "collapsed": true,
        "id": "_fh-opddzRpg",
        "outputId": "b698a1fe-d6f1-4a8e-f62d-7bb964f8a09b"
      },
      "outputs": [
        {
          "data": {
            "text/plain": [
              "True\n"
            ]
          },
          "output_type": "execute_result",
          "metadata": {},
          "execution_count": null
        }
      ],
      "source": [
        "None == None # None == None\n"
      ]
    },
    {
      "cell_type": "code",
      "execution_count": null,
      "metadata": {
        "collapsed": true,
        "id": "_u5iEt0-zRpg",
        "outputId": "437a9bf4-c280-474d-b79d-dd882d8fbefb"
      },
      "outputs": [
        {
          "data": {
            "text/plain": [
              "False\n"
            ]
          },
          "output_type": "execute_result",
          "metadata": {},
          "execution_count": null
        }
      ],
      "source": [
        "b == d # but nan!=nan\n"
      ]
    },
    {
      "cell_type": "code",
      "execution_count": null,
      "metadata": {
        "collapsed": true,
        "id": "zVnkrJFkzRpg",
        "outputId": "4fc4f433-8886-4607-ef49-0ca40de7ccf3"
      },
      "outputs": [
        {
          "data": {
            "text/plain": [
              "0.0\n"
            ]
          },
          "output_type": "execute_result",
          "metadata": {},
          "execution_count": null
        }
      ],
      "source": [
        "50 / a\n"
      ]
    },
    {
      "cell_type": "code",
      "execution_count": null,
      "metadata": {
        "collapsed": true,
        "id": "KnbRppfozRpg",
        "outputId": "69bed831-9be1-4f4d-97a7-0abbac064248"
      },
      "outputs": [
        {
          "data": {
            "text/plain": [
              "nan\n"
            ]
          },
          "output_type": "execute_result",
          "metadata": {},
          "execution_count": null
        }
      ],
      "source": [
        "a / a\n"
      ]
    },
    {
      "cell_type": "code",
      "execution_count": null,
      "metadata": {
        "collapsed": true,
        "id": "qSehdAFmzRpg",
        "outputId": "84a72886-7e40-45e4-ca26-60f3bc3a7e84"
      },
      "outputs": [
        {
          "data": {
            "text/plain": [
              "nan\n"
            ]
          },
          "output_type": "execute_result",
          "metadata": {},
          "execution_count": null
        }
      ],
      "source": [
        "23 + b\n"
      ]
    },
    {
      "cell_type": "markdown",
      "metadata": {
        "id": "Ukz-lB0qzRpg"
      },
      "source": [
        "\n",
        "2\\.\n",
        "\n"
      ]
    },
    {
      "cell_type": "code",
      "execution_count": null,
      "metadata": {
        "collapsed": true,
        "id": "0oI2A95MzRpg",
        "outputId": "4555471c-5020-4dc3-b018-8625a5f1e7d9"
      },
      "outputs": [
        {
          "data": {
            "text/plain": [
              "True\n"
            ]
          },
          "output_type": "execute_result",
          "metadata": {},
          "execution_count": null
        }
      ],
      "source": [
        "x = float('nan')\n",
        "y = x / x\n",
        "y is y # identity holds\n"
      ]
    },
    {
      "cell_type": "code",
      "execution_count": null,
      "metadata": {
        "collapsed": true,
        "id": "lq9LknzpzRpg",
        "outputId": "716ed62d-5fb5-45ab-8c1d-ca03e5999b93"
      },
      "outputs": [
        {
          "data": {
            "text/plain": [
              "False\n"
            ]
          },
          "output_type": "execute_result",
          "metadata": {},
          "execution_count": null
        }
      ],
      "source": [
        "y == y # equality fails of y\n"
      ]
    },
    {
      "cell_type": "code",
      "execution_count": null,
      "metadata": {
        "collapsed": true,
        "id": "Zj-UF_R7zRpg",
        "outputId": "f8a1ac72-d093-43c5-ee4b-cc0e9f51cf60"
      },
      "outputs": [
        {
          "data": {
            "text/plain": [
              "True\n"
            ]
          },
          "output_type": "execute_result",
          "metadata": {},
          "execution_count": null
        }
      ],
      "source": [
        "[y] == [y] # but the equality succeeds for the list containing y\n"
      ]
    },
    {
      "cell_type": "markdown",
      "metadata": {
        "id": "m_0gwHgXzRph"
      },
      "source": [
        "\n",
        "\n",
        "\n"
      ]
    },
    {
      "cell_type": "markdown",
      "metadata": {
        "id": "EWPhv7ZkzRph"
      },
      "source": [
        "#### 💡 Explanation:\n",
        "\n",
        "- `'inf'` and `'nan'` are special strings (case-insensitive), which, when explicitly typecast-ed to `float` type, are used to represent mathematical \"infinity\" and \"not a number\" respectively.\n",
        "\n",
        "- Since according to IEEE standards ` NaN != NaN`, obeying this rule breaks the reflexivity assumption of a collection element in Python i.e. if `x` is a part of a collection like `list`, the implementations like comparison are based on the assumption that `x == x`.  Because of this assumption, the identity is compared first (since it's faster) while comparing two elements, and the values are compared only when the identities mismatch. The following snippet will make things clearer,\n",
        "\n"
      ]
    },
    {
      "cell_type": "code",
      "execution_count": null,
      "metadata": {
        "collapsed": true,
        "id": "OtiEYgoqzRph",
        "outputId": "a095645e-58a4-4939-f475-0036541df167"
      },
      "outputs": [
        {
          "data": {
            "text/plain": [
              "  (False, True)\n"
            ]
          },
          "output_type": "execute_result",
          "metadata": {},
          "execution_count": null
        }
      ],
      "source": [
        "  x = float('nan')\n",
        "  x == x, [x] == [x]\n"
      ]
    },
    {
      "cell_type": "code",
      "execution_count": null,
      "metadata": {
        "collapsed": true,
        "id": "2UbXbTPnzRph",
        "outputId": "3a7e3a1e-4c44-4d1e-dd3f-f7922b9d5cfd"
      },
      "outputs": [
        {
          "data": {
            "text/plain": [
              "  (False, True)\n"
            ]
          },
          "output_type": "execute_result",
          "metadata": {},
          "execution_count": null
        }
      ],
      "source": [
        "  y = float('nan')\n",
        "  y == y, [y] == [y]\n"
      ]
    },
    {
      "cell_type": "code",
      "execution_count": null,
      "metadata": {
        "collapsed": true,
        "id": "YiDkwsGozRph",
        "outputId": "30d14101-a3e7-4e41-d149-4f5b3a610c11"
      },
      "outputs": [
        {
          "data": {
            "text/plain": [
              "  (False, False)\n"
            ]
          },
          "output_type": "execute_result",
          "metadata": {},
          "execution_count": null
        }
      ],
      "source": [
        "  x == y, [x] == [y]\n"
      ]
    },
    {
      "cell_type": "markdown",
      "metadata": {
        "id": "HI-Zx-TCzRph"
      },
      "source": [
        "\n",
        "  Since the identities of `x` and `y` are different, the values are considered, which are also different; hence the comparison returns `False` this time.\n",
        "\n",
        "- Interesting read: [Reflexivity, and other pillars of civilization](https://bertrandmeyer.com/2010/02/06/reflexivity-and-other-pillars-of-civilization/)\n",
        "\n"
      ]
    },
    {
      "cell_type": "markdown",
      "metadata": {
        "id": "iboUcBnZzRph"
      },
      "source": [
        "### ▶ Mutating the immutable!\n",
        "This might seem trivial if you know how references work in Python.\n",
        "\n"
      ]
    },
    {
      "cell_type": "code",
      "execution_count": null,
      "metadata": {
        "collapsed": true,
        "id": "Q-xElwj4zRph",
        "outputId": "62a92050-2d8e-452b-d95a-1cef5dc227dd"
      },
      "outputs": [
        {
          "data": {
            "text/plain": []
          },
          "output_type": "execute_result",
          "metadata": {},
          "execution_count": null
        }
      ],
      "source": [
        "some_tuple = (\"A\", \"tuple\", \"with\", \"values\")\n",
        "another_tuple = ([1, 2], [3, 4], [5, 6])\n"
      ]
    },
    {
      "cell_type": "markdown",
      "metadata": {
        "id": "a76ykMMlzRpi"
      },
      "source": [
        "\n",
        "**Output:**\n"
      ]
    },
    {
      "cell_type": "code",
      "execution_count": null,
      "metadata": {
        "collapsed": true,
        "id": "-XKeP5drzRpi",
        "outputId": "fa03b9d4-e6cf-4257-bc68-e93f796fae0f"
      },
      "outputs": [
        {
          "data": {
            "text/plain": [
              "TypeError: 'tuple' object does not support item assignment\n"
            ]
          },
          "output_type": "execute_result",
          "metadata": {},
          "execution_count": null
        }
      ],
      "source": [
        "some_tuple[2] = \"change this\"\n"
      ]
    },
    {
      "cell_type": "code",
      "execution_count": null,
      "metadata": {
        "collapsed": true,
        "id": "qLb2k4NwzRpi",
        "outputId": "a37f7585-6738-447f-97f5-9ef9c28b1ef7"
      },
      "outputs": [
        {
          "data": {
            "text/plain": [
              "([1, 2], [3, 4], [5, 6, 1000])\n"
            ]
          },
          "output_type": "execute_result",
          "metadata": {},
          "execution_count": null
        }
      ],
      "source": [
        "another_tuple[2].append(1000) #This throws no error\n",
        "another_tuple\n"
      ]
    },
    {
      "cell_type": "code",
      "execution_count": null,
      "metadata": {
        "collapsed": true,
        "id": "NENaY49vzRpi",
        "outputId": "42b07430-07e0-4273-d866-5b593db859a7"
      },
      "outputs": [
        {
          "data": {
            "text/plain": [
              "TypeError: 'tuple' object does not support item assignment\n"
            ]
          },
          "output_type": "execute_result",
          "metadata": {},
          "execution_count": null
        }
      ],
      "source": [
        "another_tuple[2] += [99, 999]\n"
      ]
    },
    {
      "cell_type": "code",
      "execution_count": null,
      "metadata": {
        "collapsed": true,
        "id": "oImjwVsgzRpi",
        "outputId": "6cf1de93-3817-4b36-a4e1-07090912f0b3"
      },
      "outputs": [
        {
          "data": {
            "text/plain": [
              "([1, 2], [3, 4], [5, 6, 1000, 99, 999])\n"
            ]
          },
          "output_type": "execute_result",
          "metadata": {},
          "execution_count": null
        }
      ],
      "source": [
        "another_tuple\n"
      ]
    },
    {
      "cell_type": "markdown",
      "metadata": {
        "id": "BaNDhQiTzRpi"
      },
      "source": [
        "\n",
        "But I thought tuples were immutable...\n",
        "\n"
      ]
    },
    {
      "cell_type": "markdown",
      "metadata": {
        "id": "JOckmUPmzRpi"
      },
      "source": [
        "#### 💡 Explanation:\n",
        "\n",
        "* Quoting from https://docs.python.org/3/reference/datamodel.html\n",
        "\n",
        "    > Immutable sequences\n",
        "        An object of an immutable sequence type cannot change once it is created. (If the object contains references to other objects, these other objects may be mutable and may be modified; however, the collection of objects directly referenced by an immutable object cannot change.)\n",
        "\n",
        "* `+=` operator changes the list in-place. The item assignment doesn't work, but when the exception occurs, the item has already been changed in place.\n",
        "* There's also an explanation in [official Python FAQ](https://docs.python.org/3/faq/programming.html#why-does-a-tuple-i-item-raise-an-exception-when-the-addition-works).\n",
        "\n"
      ]
    },
    {
      "cell_type": "markdown",
      "metadata": {
        "id": "_GKWaMi2zRpi"
      },
      "source": [
        "### ▶ The disappearing variable from outer scope\n"
      ]
    },
    {
      "cell_type": "code",
      "execution_count": null,
      "metadata": {
        "collapsed": true,
        "id": "UylCQhgwzRpi",
        "outputId": "fbf2cb02-df4c-49ca-8385-8fc2be2d0c38"
      },
      "outputs": [
        {
          "data": {
            "text/plain": []
          },
          "output_type": "execute_result",
          "metadata": {},
          "execution_count": null
        }
      ],
      "source": [
        "e = 7\n",
        "try:\n",
        "    raise Exception()\n",
        "except Exception as e:\n",
        "    pass\n"
      ]
    },
    {
      "cell_type": "markdown",
      "metadata": {
        "id": "sYyUShmjzRpj"
      },
      "source": [
        "\n",
        "**Output (Python 2.x):**\n"
      ]
    },
    {
      "cell_type": "code",
      "metadata": {
        "collapsed": true,
        "id": "KK5PqCR6zRpj",
        "outputId": "48046aa3-c8ff-417f-e70f-cd3c0f12ea26"
      },
      "execution_count": null,
      "outputs": [
        {
          "name": "stdout",
          "output_type": "stream",
          "text": [
            "# prints nothing\n"
          ]
        }
      ],
      "source": [
        "print(e)\n"
      ]
    },
    {
      "cell_type": "markdown",
      "metadata": {
        "id": "2nMK-pLQzRpj"
      },
      "source": [
        "\n",
        "**Output (Python 3.x):**\n"
      ]
    },
    {
      "cell_type": "code",
      "metadata": {
        "collapsed": true,
        "id": "lIVeyiIkzRpj",
        "outputId": "8f5478ee-22a9-48c3-d0a2-b9fa0129cfba"
      },
      "execution_count": null,
      "outputs": [
        {
          "name": "stdout",
          "output_type": "stream",
          "text": [
            "NameError: name 'e' is not defined\n"
          ]
        }
      ],
      "source": [
        "print(e)\n"
      ]
    },
    {
      "cell_type": "markdown",
      "metadata": {
        "id": "yj874u48zRpj"
      },
      "source": [
        "\n"
      ]
    },
    {
      "cell_type": "markdown",
      "metadata": {
        "id": "Kg2IbVRazRpj"
      },
      "source": [
        "#### 💡 Explanation:\n",
        "\n",
        "* Source: https://docs.python.org/3/reference/compound_stmts.html#except\n",
        "\n",
        "  When an exception has been assigned using `as` target, it is cleared at the end of the `except` clause. This is as if\n",
        "\n"
      ]
    },
    {
      "cell_type": "code",
      "execution_count": null,
      "metadata": {
        "collapsed": true,
        "id": "GZSYcgQyzRpj",
        "outputId": "8be8ba2d-c356-4561-a0da-90352ed4e697"
      },
      "outputs": [
        {
          "data": {
            "text/plain": []
          },
          "output_type": "execute_result",
          "metadata": {},
          "execution_count": null
        }
      ],
      "source": [
        "  except E as N:\n",
        "      foo\n"
      ]
    },
    {
      "cell_type": "markdown",
      "metadata": {
        "id": "BSUWhg5GzRpj"
      },
      "source": [
        "\n",
        "  was translated into\n",
        "\n"
      ]
    },
    {
      "cell_type": "code",
      "execution_count": null,
      "metadata": {
        "collapsed": true,
        "id": "myQCevC7zRpj",
        "outputId": "12b453b9-02cf-49bd-e444-a36530ecda91"
      },
      "outputs": [
        {
          "data": {
            "text/plain": []
          },
          "output_type": "execute_result",
          "metadata": {},
          "execution_count": null
        }
      ],
      "source": [
        "  except E as N:\n",
        "      try:\n",
        "          foo\n",
        "      finally:\n",
        "          del N\n"
      ]
    },
    {
      "cell_type": "markdown",
      "metadata": {
        "id": "7yoKNzQkzRpk"
      },
      "source": [
        "\n",
        "  This means the exception must be assigned to a different name to be able to refer to it after the except clause. Exceptions are cleared because, with the traceback attached to them, they form a reference cycle with the stack frame, keeping all locals in that frame alive until the next garbage collection occurs.\n",
        "\n",
        "* The clauses are not scoped in Python. Everything in the example is present in the same scope, and the variable `e` got removed due to the execution of the `except` clause. The same is not the case with functions that have their separate inner-scopes. The example below illustrates this:\n",
        "\n"
      ]
    },
    {
      "cell_type": "code",
      "execution_count": null,
      "metadata": {
        "collapsed": true,
        "id": "Fuxq7XW_zRpk",
        "outputId": "5f4c5cbd-0ccc-4e20-fd3b-b5057ad5bc02"
      },
      "outputs": [
        {
          "data": {
            "text/plain": []
          },
          "output_type": "execute_result",
          "metadata": {},
          "execution_count": null
        }
      ],
      "source": [
        "     def f(x):\n",
        "         del(x)\n",
        "         print(x)\n",
        "\n",
        "     x = 5\n",
        "     y = [5, 4, 3]\n"
      ]
    },
    {
      "cell_type": "markdown",
      "metadata": {
        "id": "JaI4j5tizRpk"
      },
      "source": [
        "\n",
        "     **Output:**\n"
      ]
    },
    {
      "cell_type": "code",
      "execution_count": null,
      "metadata": {
        "collapsed": true,
        "id": "anRjYcAVzRpk",
        "outputId": "8ff515eb-f9f4-4241-bfe3-a66ab00ddfe5"
      },
      "outputs": [
        {
          "data": {
            "text/plain": [
              "     5\n"
            ]
          },
          "output_type": "execute_result",
          "metadata": {},
          "execution_count": null
        }
      ],
      "source": [
        "     >>>f(x)\n",
        "     UnboundLocalError: local variable 'x' referenced before assignment\n",
        "     >>>f(y)\n",
        "     UnboundLocalError: local variable 'x' referenced before assignment\n",
        "     x\n"
      ]
    },
    {
      "cell_type": "code",
      "execution_count": null,
      "metadata": {
        "collapsed": true,
        "id": "moBP6yTMzRpk",
        "outputId": "f5313cc3-69d1-4d8a-a3ce-cecd32501053"
      },
      "outputs": [
        {
          "data": {
            "text/plain": [
              "     [5, 4, 3]\n"
            ]
          },
          "output_type": "execute_result",
          "metadata": {},
          "execution_count": null
        }
      ],
      "source": [
        "     y\n"
      ]
    },
    {
      "cell_type": "markdown",
      "metadata": {
        "id": "Y15_dkZ9zRpk"
      },
      "source": [
        "\n",
        "* In Python 2.x, the variable name `e` gets assigned to `Exception()` instance, so when you try to print, it prints nothing.\n",
        "\n",
        "    **Output (Python 2.x):**\n"
      ]
    },
    {
      "cell_type": "code",
      "execution_count": null,
      "metadata": {
        "collapsed": true,
        "id": "O0XByA_4zRpk",
        "outputId": "919067b8-a114-4437-f5e7-278023de92b0"
      },
      "outputs": [
        {
          "data": {
            "text/plain": [
              "    Exception()\n"
            ]
          },
          "output_type": "execute_result",
          "metadata": {},
          "execution_count": null
        }
      ],
      "source": [
        "    e\n"
      ]
    },
    {
      "cell_type": "code",
      "execution_count": null,
      "metadata": {
        "collapsed": true,
        "id": "dYWYKm-TzRpk",
        "outputId": "f3485917-790b-4d24-b928-44e6a851ed5d"
      },
      "outputs": [
        {
          "data": {
            "text/plain": [
              "    # Nothing is printed!\n"
            ]
          },
          "output_type": "execute_result",
          "metadata": {},
          "execution_count": null
        }
      ],
      "source": [
        "    print e\n"
      ]
    },
    {
      "cell_type": "markdown",
      "metadata": {
        "id": "FLKmGwrGzRpl"
      },
      "source": [
        "\n"
      ]
    },
    {
      "cell_type": "markdown",
      "metadata": {
        "id": "vEaKAj_pzRpl"
      },
      "source": [
        "### ▶ The mysterious key type conversion\n"
      ]
    },
    {
      "cell_type": "code",
      "execution_count": null,
      "metadata": {
        "collapsed": true,
        "id": "gFn36lj0zRpl",
        "outputId": "ed2aba5a-cb73-4490-821b-ad72da83560c"
      },
      "outputs": [
        {
          "data": {
            "text/plain": []
          },
          "output_type": "execute_result",
          "metadata": {},
          "execution_count": null
        }
      ],
      "source": [
        "class SomeClass(str):\n",
        "    pass\n",
        "\n",
        "some_dict = {'s': 42}\n"
      ]
    },
    {
      "cell_type": "markdown",
      "metadata": {
        "id": "5pdO7_x3zRpl"
      },
      "source": [
        "\n",
        "**Output:**\n"
      ]
    },
    {
      "cell_type": "code",
      "execution_count": null,
      "metadata": {
        "collapsed": true,
        "id": "SazlJ2pLzRpl",
        "outputId": "0104533a-f5c5-4049-fd7c-95eb99807a9a"
      },
      "outputs": [
        {
          "data": {
            "text/plain": [
              "str\n"
            ]
          },
          "output_type": "execute_result",
          "metadata": {},
          "execution_count": null
        }
      ],
      "source": [
        "type(list(some_dict.keys())[0])\n"
      ]
    },
    {
      "cell_type": "code",
      "execution_count": null,
      "metadata": {
        "collapsed": true,
        "id": "OS-qX3j1zRpl",
        "outputId": "56a14234-fb5d-446d-aee6-ec8930345751"
      },
      "outputs": [
        {
          "data": {
            "text/plain": [
              "{'s': 40}\n"
            ]
          },
          "output_type": "execute_result",
          "metadata": {},
          "execution_count": null
        }
      ],
      "source": [
        "s = SomeClass('s')\n",
        "some_dict[s] = 40\n",
        "some_dict # expected: Two different keys-value pairs\n"
      ]
    },
    {
      "cell_type": "code",
      "execution_count": null,
      "metadata": {
        "collapsed": true,
        "id": "-FVgKGdrzRpl",
        "outputId": "7f331d96-ae41-4413-f0de-7ef63aed7962"
      },
      "outputs": [
        {
          "data": {
            "text/plain": [
              "str\n"
            ]
          },
          "output_type": "execute_result",
          "metadata": {},
          "execution_count": null
        }
      ],
      "source": [
        "type(list(some_dict.keys())[0])\n"
      ]
    },
    {
      "cell_type": "markdown",
      "metadata": {
        "id": "BP66bAcYzRpl"
      },
      "source": [
        "\n"
      ]
    },
    {
      "cell_type": "markdown",
      "metadata": {
        "id": "O5fhKsyhzRpl"
      },
      "source": [
        "#### 💡 Explanation:\n",
        "\n",
        "* Both the object `s` and the string `\"s\"` hash to the same value because `SomeClass` inherits the `__hash__` method of `str` class.\n",
        "* `SomeClass(\"s\") == \"s\"` evaluates to `True` because `SomeClass` also inherits `__eq__` method from `str` class.\n",
        "* Since both the objects hash to the same value and are equal, they are represented by the same key in the dictionary.\n",
        "* For the desired behavior, we can redefine the `__eq__` method in `SomeClass`\n"
      ]
    },
    {
      "cell_type": "code",
      "execution_count": null,
      "metadata": {
        "collapsed": true,
        "id": "EX5gTeySzRpm",
        "outputId": "4175c6a9-bb18-4581-93fa-e52d32f324ea"
      },
      "outputs": [
        {
          "data": {
            "text/plain": []
          },
          "output_type": "execute_result",
          "metadata": {},
          "execution_count": null
        }
      ],
      "source": [
        "  class SomeClass(str):\n",
        "    def __eq__(self, other):\n",
        "        return (\n",
        "            type(self) is SomeClass\n",
        "            and type(other) is SomeClass\n",
        "            and super().__eq__(other)\n",
        "        )\n",
        "\n",
        "    # When we define a custom __eq__, Python stops automatically inheriting the\n",
        "    # __hash__ method, so we need to define it as well\n",
        "    __hash__ = str.__hash__\n",
        "\n",
        "  some_dict = {'s':42}\n"
      ]
    },
    {
      "cell_type": "markdown",
      "metadata": {
        "id": "cyOpKi1LzRpm"
      },
      "source": [
        "\n",
        "  **Output:**\n"
      ]
    },
    {
      "cell_type": "code",
      "execution_count": null,
      "metadata": {
        "collapsed": true,
        "id": "kC8T4jELzRpm",
        "outputId": "86900196-002d-4c02-a0dc-48eaf4e6bd23"
      },
      "outputs": [
        {
          "data": {
            "text/plain": [
              "  {'s': 40, 's': 42}\n"
            ]
          },
          "output_type": "execute_result",
          "metadata": {},
          "execution_count": null
        }
      ],
      "source": [
        "  s = SomeClass('s')\n",
        "  some_dict[s] = 40\n",
        "  some_dict\n"
      ]
    },
    {
      "cell_type": "code",
      "execution_count": null,
      "metadata": {
        "collapsed": true,
        "id": "55uFmLVLzRpm",
        "outputId": "ff9e45ea-109f-4800-aca9-fb52c1c74acc"
      },
      "outputs": [
        {
          "data": {
            "text/plain": [
              "  (__main__.SomeClass, str)\n"
            ]
          },
          "output_type": "execute_result",
          "metadata": {},
          "execution_count": null
        }
      ],
      "source": [
        "  keys = list(some_dict.keys())\n",
        "  type(keys[0]), type(keys[1])\n"
      ]
    },
    {
      "cell_type": "markdown",
      "metadata": {
        "id": "gw0ylApxzRpm"
      },
      "source": [
        "\n"
      ]
    },
    {
      "cell_type": "markdown",
      "metadata": {
        "id": "YWMkTGe2zRpm"
      },
      "source": [
        "### ▶ Let's see if you can guess this?\n"
      ]
    },
    {
      "cell_type": "code",
      "execution_count": null,
      "metadata": {
        "collapsed": true,
        "id": "ZD9GS2U8zRpm",
        "outputId": "47a15164-9e06-400c-e360-6f72e48d21a9"
      },
      "outputs": [
        {
          "data": {
            "text/plain": []
          },
          "output_type": "execute_result",
          "metadata": {},
          "execution_count": null
        }
      ],
      "source": [
        "a, b = a[b] = {}, 5\n"
      ]
    },
    {
      "cell_type": "markdown",
      "metadata": {
        "id": "wKsSK4JLzRpm"
      },
      "source": [
        "\n",
        "**Output:**\n"
      ]
    },
    {
      "cell_type": "code",
      "execution_count": null,
      "metadata": {
        "collapsed": true,
        "id": "G0LC9aySzRpn",
        "outputId": "f3aa7732-449e-4d38-ebe5-805bc4d11b63"
      },
      "outputs": [
        {
          "data": {
            "text/plain": [
              "{5: ({...}, 5)}\n"
            ]
          },
          "output_type": "execute_result",
          "metadata": {},
          "execution_count": null
        }
      ],
      "source": [
        "a\n"
      ]
    },
    {
      "cell_type": "markdown",
      "metadata": {
        "id": "LirFR2zQzRpn"
      },
      "source": [
        "\n"
      ]
    },
    {
      "cell_type": "markdown",
      "metadata": {
        "id": "I_yKmslTzRpn"
      },
      "source": [
        "#### 💡 Explanation:\n",
        "\n",
        "* According to [Python language reference](https://docs.python.org/3/reference/simple_stmts.html#assignment-statements), assignment statements have the form\n",
        "  ```\n",
        "  (target_list \"=\")+ (expression_list | yield_expression)\n",
        "  ```\n",
        "  and\n",
        "  \n",
        "> An assignment statement evaluates the expression list (remember that this can be a single expression or a comma-separated list, the latter yielding a tuple) and assigns the single resulting object to each of the target lists, from left to right.\n",
        "\n",
        "* The `+` in `(target_list \"=\")+` means there can be **one or more** target lists. In this case, target lists are `a, b` and `a[b]` (note the expression list is exactly one, which in our case is `{}, 5`).\n",
        "\n",
        "* After the expression list is evaluated, its value is unpacked to the target lists from **left to right**. So, in our case, first the `{}, 5` tuple is unpacked to `a, b` and we now have `a = {}` and `b = 5`.\n",
        "\n",
        "* `a` is now assigned to `{}`, which is a mutable object.\n",
        "\n",
        "* The second target list is `a[b]` (you may expect this to throw an error because both `a` and `b` have not been defined in the statements before. But remember, we just assigned `a` to `{}` and `b` to `5`).\n",
        "\n",
        "* Now, we are setting the key `5` in the dictionary to the tuple `({}, 5)` creating a circular reference (the `{...}` in the output refers to the same object that `a` is already referencing). Another simpler example of circular reference could be\n"
      ]
    },
    {
      "cell_type": "code",
      "execution_count": null,
      "metadata": {
        "collapsed": true,
        "id": "8LLHnaVZzRpn",
        "outputId": "165310ae-bfc2-4f59-97bb-c75c58d5735c"
      },
      "outputs": [
        {
          "data": {
            "text/plain": [
              "  [[...]]\n"
            ]
          },
          "output_type": "execute_result",
          "metadata": {},
          "execution_count": null
        }
      ],
      "source": [
        "  some_list = some_list[0] = [0]\n",
        "  some_list\n"
      ]
    },
    {
      "cell_type": "code",
      "execution_count": null,
      "metadata": {
        "collapsed": true,
        "id": "zKcWH6UKzRpn",
        "outputId": "c76f7861-b889-425b-b7df-92c50f58e886"
      },
      "outputs": [
        {
          "data": {
            "text/plain": [
              "  [[...]]\n"
            ]
          },
          "output_type": "execute_result",
          "metadata": {},
          "execution_count": null
        }
      ],
      "source": [
        "  some_list[0]\n"
      ]
    },
    {
      "cell_type": "code",
      "execution_count": null,
      "metadata": {
        "collapsed": true,
        "id": "InCN0orqzRpn",
        "outputId": "8c26fe92-fa86-4107-9777-0187c05a8363"
      },
      "outputs": [
        {
          "data": {
            "text/plain": [
              "  True\n"
            ]
          },
          "output_type": "execute_result",
          "metadata": {},
          "execution_count": null
        }
      ],
      "source": [
        "  some_list is some_list[0]\n"
      ]
    },
    {
      "cell_type": "code",
      "execution_count": null,
      "metadata": {
        "collapsed": true,
        "id": "rQVQIBiWzRpo",
        "outputId": "82a7ebba-c232-43a4-d9c5-ae79341cc455"
      },
      "outputs": [
        {
          "data": {
            "text/plain": [
              "  True\n"
            ]
          },
          "output_type": "execute_result",
          "metadata": {},
          "execution_count": null
        }
      ],
      "source": [
        "  some_list[0][0][0][0][0][0] == some_list\n"
      ]
    },
    {
      "cell_type": "markdown",
      "metadata": {
        "id": "WVUV-6rjzRpo"
      },
      "source": [
        "  Similar is the case in our example (`a[b][0]` is the same object as `a`)\n",
        "\n",
        "* So to sum it up, you can break the example down to\n"
      ]
    },
    {
      "cell_type": "code",
      "execution_count": null,
      "metadata": {
        "collapsed": true,
        "id": "xHU2Mu-tzRpo",
        "outputId": "fcf04360-83a5-4370-e4b1-b46df5a298a6"
      },
      "outputs": [
        {
          "data": {
            "text/plain": []
          },
          "output_type": "execute_result",
          "metadata": {},
          "execution_count": null
        }
      ],
      "source": [
        "  a, b = {}, 5\n",
        "  a[b] = a, b\n"
      ]
    },
    {
      "cell_type": "markdown",
      "metadata": {
        "id": "jZy9aGKYzRpo"
      },
      "source": [
        "  And the circular reference can be justified by the fact that `a[b][0]` is the same object as `a`\n"
      ]
    },
    {
      "cell_type": "code",
      "execution_count": null,
      "metadata": {
        "collapsed": true,
        "id": "sYX1LsiQzRpo",
        "outputId": "e0b9b5be-bc46-47df-e39c-584a6d77276a"
      },
      "outputs": [
        {
          "data": {
            "text/plain": [
              "  True\n"
            ]
          },
          "output_type": "execute_result",
          "metadata": {},
          "execution_count": null
        }
      ],
      "source": [
        "  a[b][0] is a\n"
      ]
    },
    {
      "cell_type": "markdown",
      "metadata": {
        "id": "4chHIslvzRpo"
      },
      "source": [
        "\n"
      ]
    },
    {
      "cell_type": "markdown",
      "metadata": {
        "id": "G8nfh_XdzRpo"
      },
      "source": [
        "### ▶ Modifying a dictionary while iterating over it\n"
      ]
    },
    {
      "cell_type": "code",
      "execution_count": null,
      "metadata": {
        "collapsed": true,
        "id": "E9sM48k4zRpo",
        "outputId": "adddfbb9-b174-4661-96c5-a20b4b09cfd6"
      },
      "outputs": [
        {
          "data": {
            "text/plain": []
          },
          "output_type": "execute_result",
          "metadata": {},
          "execution_count": null
        }
      ],
      "source": [
        "x = {0: None}\n",
        "\n",
        "for i in x:\n",
        "    del x[i]\n",
        "    x[i+1] = None\n",
        "    print(i)\n"
      ]
    },
    {
      "cell_type": "markdown",
      "metadata": {
        "id": "V1qz-MDkzRpp"
      },
      "source": [
        "\n",
        "**Output (Python 2.7- Python 3.5):**\n",
        "\n",
        "```\n",
        "0\n",
        "1\n",
        "2\n",
        "3\n",
        "4\n",
        "5\n",
        "6\n",
        "7\n",
        "```\n",
        "\n",
        "Yes, it runs for exactly **eight** times and stops.\n",
        "\n"
      ]
    },
    {
      "cell_type": "markdown",
      "metadata": {
        "id": "wyC5YxyRzRpp"
      },
      "source": [
        "#### 💡 Explanation:\n",
        "\n",
        "* Iteration over a dictionary that you edit at the same time is not supported.\n",
        "* It runs eight times because that's the point at which the dictionary resizes to hold more keys (we have eight deletion entries, so a resize is needed). This is actually an implementation detail.\n",
        "* How deleted keys are handled and when the resize occurs might be different for different Python implementations.\n",
        "* So for Python versions other than Python 2.7 - Python 3.5, the count might be different from 8 (but whatever the count is, it's going to be the same every time you run it). You can find some discussion around this [here](https://github.com/satwikkansal/wtfpython/issues/53) or in [this](https://stackoverflow.com/questions/44763802/bug-in-python-dict) StackOverflow thread.\n",
        "* Python 3.7.6 onwards, you'll see `RuntimeError: dictionary keys changed during iteration` exception if you try to do this.\n",
        "\n"
      ]
    },
    {
      "cell_type": "markdown",
      "metadata": {
        "id": "RxNF6netzRpp"
      },
      "source": [
        "### ▶ The out of scope variable\n",
        "1\\.\n"
      ]
    },
    {
      "cell_type": "code",
      "execution_count": null,
      "metadata": {
        "collapsed": true,
        "id": "nbAxWB4bzRpp",
        "outputId": "ed8655e4-0bbd-40d3-fbf7-53df1762cd87"
      },
      "outputs": [
        {
          "data": {
            "text/plain": []
          },
          "output_type": "execute_result",
          "metadata": {},
          "execution_count": null
        }
      ],
      "source": [
        "a = 1\n",
        "def some_func():\n",
        "    return a\n",
        "\n",
        "def another_func():\n",
        "    a += 1\n",
        "    return a\n"
      ]
    },
    {
      "cell_type": "markdown",
      "metadata": {
        "id": "INx28vdazRpp"
      },
      "source": [
        "\n",
        "2\\.\n"
      ]
    },
    {
      "cell_type": "code",
      "execution_count": null,
      "metadata": {
        "collapsed": true,
        "id": "3LN9P7OhzRpp",
        "outputId": "917361d3-52c4-4b2f-c1ac-0531497ed069"
      },
      "outputs": [
        {
          "data": {
            "text/plain": []
          },
          "output_type": "execute_result",
          "metadata": {},
          "execution_count": null
        }
      ],
      "source": [
        "def some_closure_func():\n",
        "    a = 1\n",
        "    def some_inner_func():\n",
        "        return a\n",
        "    return some_inner_func()\n",
        "\n",
        "def another_closure_func():\n",
        "    a = 1\n",
        "    def another_inner_func():\n",
        "        a += 1\n",
        "        return a\n",
        "    return another_inner_func()\n"
      ]
    },
    {
      "cell_type": "markdown",
      "metadata": {
        "id": "_GRaFw23zRpp"
      },
      "source": [
        "\n",
        "**Output:**\n"
      ]
    },
    {
      "cell_type": "code",
      "execution_count": null,
      "metadata": {
        "collapsed": true,
        "id": "qprlYfqfzRpp",
        "outputId": "d526fddd-87fb-4986-c17c-525780df3906"
      },
      "outputs": [
        {
          "data": {
            "text/plain": [
              "1\n"
            ]
          },
          "output_type": "execute_result",
          "metadata": {},
          "execution_count": null
        }
      ],
      "source": [
        "some_func()\n"
      ]
    },
    {
      "cell_type": "code",
      "execution_count": null,
      "metadata": {
        "collapsed": true,
        "id": "DjqN5V8pzRpp",
        "outputId": "61699f68-0e29-4df0-f6d2-79681e7f0ed3"
      },
      "outputs": [
        {
          "data": {
            "text/plain": [
              "UnboundLocalError: local variable 'a' referenced before assignment\n",
              "\n"
            ]
          },
          "output_type": "execute_result",
          "metadata": {},
          "execution_count": null
        }
      ],
      "source": [
        "another_func()\n"
      ]
    },
    {
      "cell_type": "code",
      "execution_count": null,
      "metadata": {
        "collapsed": true,
        "id": "zCl9oNFyzRpq",
        "outputId": "e6f4fbbf-ff48-4f8f-843c-082622b49f65"
      },
      "outputs": [
        {
          "data": {
            "text/plain": [
              "1\n"
            ]
          },
          "output_type": "execute_result",
          "metadata": {},
          "execution_count": null
        }
      ],
      "source": [
        "some_closure_func()\n"
      ]
    },
    {
      "cell_type": "code",
      "execution_count": null,
      "metadata": {
        "collapsed": true,
        "id": "zmPd9oqBzRpq",
        "outputId": "63bb356f-0206-4e05-91ad-1d76f226a6da"
      },
      "outputs": [
        {
          "data": {
            "text/plain": [
              "UnboundLocalError: local variable 'a' referenced before assignment\n"
            ]
          },
          "output_type": "execute_result",
          "metadata": {},
          "execution_count": null
        }
      ],
      "source": [
        "another_closure_func()\n"
      ]
    },
    {
      "cell_type": "markdown",
      "metadata": {
        "id": "a_8MQ_p3zRpq"
      },
      "source": [
        "\n"
      ]
    },
    {
      "cell_type": "markdown",
      "metadata": {
        "id": "x98icRJ6zRpq"
      },
      "source": [
        "#### 💡 Explanation:\n",
        "* When you make an assignment to a variable in scope, it becomes local to that scope. So `a` becomes local to the scope of `another_func`, but it has not been initialized previously in the same scope, which throws an error.\n",
        "* To modify the outer scope variable `a` in `another_func`, we have to use the `global` keyword.\n"
      ]
    },
    {
      "cell_type": "code",
      "execution_count": null,
      "metadata": {
        "collapsed": true,
        "id": "huFQm3SLzRpq",
        "outputId": "31350197-13d6-41c3-b431-f17dba63017c"
      },
      "outputs": [
        {
          "data": {
            "text/plain": []
          },
          "output_type": "execute_result",
          "metadata": {},
          "execution_count": null
        }
      ],
      "source": [
        "  def another_func()\n",
        "      global a\n",
        "      a += 1\n",
        "      return a\n"
      ]
    },
    {
      "cell_type": "markdown",
      "metadata": {
        "id": "_zZfKpMqzRpq"
      },
      "source": [
        "\n",
        "  **Output:**\n"
      ]
    },
    {
      "cell_type": "code",
      "execution_count": null,
      "metadata": {
        "collapsed": true,
        "id": "NTIeem4yzRpq",
        "outputId": "b35abc73-c7bc-42db-b4ba-38349814e149"
      },
      "outputs": [
        {
          "data": {
            "text/plain": [
              "  2\n"
            ]
          },
          "output_type": "execute_result",
          "metadata": {},
          "execution_count": null
        }
      ],
      "source": [
        "  another_func()\n"
      ]
    },
    {
      "cell_type": "markdown",
      "metadata": {
        "id": "4u5ipdXfzRpq"
      },
      "source": [
        "* In `another_closure_func`, `a` becomes local to the scope of `another_inner_func`, but it has not been initialized previously in the same scope, which is why it throws an error. \n",
        "* To modify the outer scope variable `a` in `another_inner_func`, use the `nonlocal` keyword. The nonlocal statement is used to refer to variables defined in the nearest outer (excluding the global) scope.\n"
      ]
    },
    {
      "cell_type": "code",
      "execution_count": null,
      "metadata": {
        "collapsed": true,
        "id": "bZ4Hb2JlzRpq",
        "outputId": "a43318d4-b04c-4c4c-b805-f620eff7e0fd"
      },
      "outputs": [
        {
          "data": {
            "text/plain": []
          },
          "output_type": "execute_result",
          "metadata": {},
          "execution_count": null
        }
      ],
      "source": [
        "  def another_func():\n",
        "      a = 1\n",
        "      def another_inner_func():\n",
        "          nonlocal a\n",
        "          a += 1\n",
        "          return a\n",
        "      return another_inner_func()\n"
      ]
    },
    {
      "cell_type": "markdown",
      "metadata": {
        "id": "2yDFyYFazRps"
      },
      "source": [
        "\n",
        "  **Output:**\n"
      ]
    },
    {
      "cell_type": "code",
      "execution_count": null,
      "metadata": {
        "collapsed": true,
        "id": "xBBJsA5yzRps",
        "outputId": "89c2346b-7503-4ab5-f1ae-3223f004245b"
      },
      "outputs": [
        {
          "data": {
            "text/plain": [
              "  2\n"
            ]
          },
          "output_type": "execute_result",
          "metadata": {},
          "execution_count": null
        }
      ],
      "source": [
        "  another_func()\n"
      ]
    },
    {
      "cell_type": "markdown",
      "metadata": {
        "id": "EL2B54ZZzRps"
      },
      "source": [
        "* The keywords `global` and `nonlocal` tell the python interpreter to not delcare new variables and look them up in the corresponding outer scopes.\n",
        "* Read [this](https://sebastianraschka.com/Articles/2014_python_scope_and_namespaces.html) short but an awesome guide to learn more about how namespaces and scope resolution works in Python.\n",
        "\n"
      ]
    },
    {
      "cell_type": "markdown",
      "metadata": {
        "id": "x3p26U35zRps"
      },
      "source": [
        "### ▶ Deleting a list item while iterating\n"
      ]
    },
    {
      "cell_type": "code",
      "execution_count": null,
      "metadata": {
        "collapsed": true,
        "id": "tAVEqjpizRps",
        "outputId": "00f25452-ae6b-40a9-8049-d724ec7705aa"
      },
      "outputs": [
        {
          "data": {
            "text/plain": []
          },
          "output_type": "execute_result",
          "metadata": {},
          "execution_count": null
        }
      ],
      "source": [
        "list_1 = [1, 2, 3, 4]\n",
        "list_2 = [1, 2, 3, 4]\n",
        "list_3 = [1, 2, 3, 4]\n",
        "list_4 = [1, 2, 3, 4]\n",
        "\n",
        "for idx, item in enumerate(list_1):\n",
        "    del item\n",
        "\n",
        "for idx, item in enumerate(list_2):\n",
        "    list_2.remove(item)\n",
        "\n",
        "for idx, item in enumerate(list_3[:]):\n",
        "    list_3.remove(item)\n",
        "\n",
        "for idx, item in enumerate(list_4):\n",
        "    list_4.pop(idx)\n"
      ]
    },
    {
      "cell_type": "markdown",
      "metadata": {
        "id": "AD216e1jzRpt"
      },
      "source": [
        "\n",
        "**Output:**\n"
      ]
    },
    {
      "cell_type": "code",
      "execution_count": null,
      "metadata": {
        "collapsed": true,
        "id": "RRTcMzrfzRpt",
        "outputId": "347cb521-67b7-4a92-9439-5625a671ef34"
      },
      "outputs": [
        {
          "data": {
            "text/plain": [
              "[1, 2, 3, 4]\n"
            ]
          },
          "output_type": "execute_result",
          "metadata": {},
          "execution_count": null
        }
      ],
      "source": [
        "list_1\n"
      ]
    },
    {
      "cell_type": "code",
      "execution_count": null,
      "metadata": {
        "collapsed": true,
        "id": "1tjCm91FzRpt",
        "outputId": "0e81d86e-f4a4-41f1-fbdc-a405cfcafa1b"
      },
      "outputs": [
        {
          "data": {
            "text/plain": [
              "[2, 4]\n"
            ]
          },
          "output_type": "execute_result",
          "metadata": {},
          "execution_count": null
        }
      ],
      "source": [
        "list_2\n"
      ]
    },
    {
      "cell_type": "code",
      "execution_count": null,
      "metadata": {
        "collapsed": true,
        "id": "0z7gSiTQzRpt",
        "outputId": "ab04ba4e-f1cb-4702-cb5a-3c0a75c40ca6"
      },
      "outputs": [
        {
          "data": {
            "text/plain": [
              "[]\n"
            ]
          },
          "output_type": "execute_result",
          "metadata": {},
          "execution_count": null
        }
      ],
      "source": [
        "list_3\n"
      ]
    },
    {
      "cell_type": "code",
      "execution_count": null,
      "metadata": {
        "collapsed": true,
        "id": "yY8kbaHtzRpt",
        "outputId": "f2322cce-3b9d-47d6-ace5-c10d05695958"
      },
      "outputs": [
        {
          "data": {
            "text/plain": [
              "[2, 4]\n"
            ]
          },
          "output_type": "execute_result",
          "metadata": {},
          "execution_count": null
        }
      ],
      "source": [
        "list_4\n"
      ]
    },
    {
      "cell_type": "markdown",
      "metadata": {
        "id": "H8Z6Ilj1zRpt"
      },
      "source": [
        "\n",
        "Can you guess why the output is `[2, 4]`?\n",
        "\n"
      ]
    },
    {
      "cell_type": "markdown",
      "metadata": {
        "id": "Ds-yivu-zRpt"
      },
      "source": [
        "#### 💡 Explanation:\n",
        "\n",
        "* It's never a good idea to change the object you're iterating over. The correct way to do so is to iterate over a copy of the object instead, and `list_3[:]` does just that.\n",
        "\n"
      ]
    },
    {
      "cell_type": "code",
      "execution_count": null,
      "metadata": {
        "collapsed": true,
        "id": "hWctFTmTzRpt",
        "outputId": "e1638760-40c9-4a64-8c98-65a88704deff"
      },
      "outputs": [
        {
          "data": {
            "text/plain": [
              "     139798789457608\n"
            ]
          },
          "output_type": "execute_result",
          "metadata": {},
          "execution_count": null
        }
      ],
      "source": [
        "     some_list = [1, 2, 3, 4]\n",
        "     id(some_list)\n"
      ]
    },
    {
      "cell_type": "code",
      "execution_count": null,
      "metadata": {
        "collapsed": true,
        "id": "YjTGpBK9zRpt",
        "outputId": "bcfc617c-66fa-41e1-8ddb-3e9657e250c6"
      },
      "outputs": [
        {
          "data": {
            "text/plain": [
              "     139798779601192\n"
            ]
          },
          "output_type": "execute_result",
          "metadata": {},
          "execution_count": null
        }
      ],
      "source": [
        "     id(some_list[:]) # Notice that python creates new object for sliced list.\n"
      ]
    },
    {
      "cell_type": "markdown",
      "metadata": {
        "id": "v5wuOhxZzRpu"
      },
      "source": [
        "\n",
        "**Difference between `del`, `remove`, and `pop`:**\n",
        "* `del var_name` just removes the binding of the `var_name` from the local or global namespace (That's why the `list_1` is unaffected).\n",
        "* `remove` removes the first matching value, not a specific index, raises `ValueError` if the value is not found.\n",
        "* `pop` removes the element at a specific index and returns it, raises `IndexError` if an invalid index is specified.\n",
        "\n",
        "**Why the output is `[2, 4]`?**\n",
        "- The list iteration is done index by index, and when we remove `1` from `list_2` or `list_4`, the contents of the lists are now `[2, 3, 4]`. The remaining elements are shifted down, i.e., `2` is at index 0, and `3` is at index 1. Since the next iteration is going to look at index 1 (which is the `3`), the `2` gets skipped entirely. A similar thing will happen with every alternate element in the list sequence.\n",
        "\n",
        "* Refer to this StackOverflow [thread](https://stackoverflow.com/questions/45946228/what-happens-when-you-try-to-delete-a-list-element-while-iterating-over-it) explaining the example\n",
        "* See also this nice StackOverflow [thread](https://stackoverflow.com/questions/45877614/how-to-change-all-the-dictionary-keys-in-a-for-loop-with-d-items) for a similar example related to dictionaries in Python.\n",
        "\n"
      ]
    },
    {
      "cell_type": "markdown",
      "metadata": {
        "id": "I8EEPK6mzRpu"
      },
      "source": [
        "### ▶ Lossy zip of iterators *\n"
      ]
    },
    {
      "cell_type": "code",
      "execution_count": null,
      "metadata": {
        "collapsed": true,
        "id": "7E_A62AozRpu",
        "outputId": "428fe562-a2fa-462e-820d-5c9afc6f497e"
      },
      "outputs": [
        {
          "data": {
            "text/plain": [
              "[0, 1, 2, 3, 4, 5, 6]\n"
            ]
          },
          "output_type": "execute_result",
          "metadata": {},
          "execution_count": null
        }
      ],
      "source": [
        "numbers = list(range(7))\n",
        "numbers\n"
      ]
    },
    {
      "cell_type": "code",
      "execution_count": null,
      "metadata": {
        "collapsed": true,
        "id": "jJrcOYLHzRpu",
        "outputId": "f2109302-40ce-42c7-dae2-44d211fd2dae"
      },
      "outputs": [
        {
          "data": {
            "text/plain": [
              "([0, 1, 2], [3, 4, 5, 6])\n"
            ]
          },
          "output_type": "execute_result",
          "metadata": {},
          "execution_count": null
        }
      ],
      "source": [
        "first_three, remaining = numbers[:3], numbers[3:]\n",
        "first_three, remaining\n"
      ]
    },
    {
      "cell_type": "code",
      "execution_count": null,
      "metadata": {
        "collapsed": true,
        "id": "jm8TzZJ2zRpu",
        "outputId": "0ddf9bd9-1323-4e7f-c93b-449b9328969f"
      },
      "outputs": [
        {
          "data": {
            "text/plain": [
              "[(0, 0), (1, 1), (2, 2)]\n",
              "# so far so good, let's zip the remaining\n"
            ]
          },
          "output_type": "execute_result",
          "metadata": {},
          "execution_count": null
        }
      ],
      "source": [
        "numbers_iter = iter(numbers)\n",
        "list(zip(numbers_iter, first_three)) \n"
      ]
    },
    {
      "cell_type": "code",
      "execution_count": null,
      "metadata": {
        "collapsed": true,
        "id": "P3u8OBfBzRpu",
        "outputId": "74662e38-ed94-4050-9892-e5875954422d"
      },
      "outputs": [
        {
          "data": {
            "text/plain": [
              "[(4, 3), (5, 4), (6, 5)]\n"
            ]
          },
          "output_type": "execute_result",
          "metadata": {},
          "execution_count": null
        }
      ],
      "source": [
        "list(zip(numbers_iter, remaining))\n"
      ]
    },
    {
      "cell_type": "markdown",
      "metadata": {
        "id": "PvcvbufIzRpu"
      },
      "source": [
        "Where did element `3` go from the `numbers` list?\n",
        "\n"
      ]
    },
    {
      "cell_type": "markdown",
      "metadata": {
        "id": "uIoktLN4zRpu"
      },
      "source": [
        "#### 💡 Explanation:\n",
        "\n",
        "- From Python [docs](https://docs.python.org/3.3/library/functions.html#zip), here's an approximate implementation of zip function,\n"
      ]
    },
    {
      "cell_type": "code",
      "execution_count": null,
      "metadata": {
        "collapsed": true,
        "id": "p9kOzNNxzRpu",
        "outputId": "28a9b8ce-f509-4016-c6a2-2f27014b2eab"
      },
      "outputs": [
        {
          "data": {
            "text/plain": []
          },
          "output_type": "execute_result",
          "metadata": {},
          "execution_count": null
        }
      ],
      "source": [
        "    def zip(*iterables):\n",
        "        sentinel = object()\n",
        "        iterators = [iter(it) for it in iterables]\n",
        "        while iterators:\n",
        "            result = []\n",
        "            for it in iterators:\n",
        "                elem = next(it, sentinel)\n",
        "                if elem is sentinel: return\n",
        "                result.append(elem)\n",
        "            yield tuple(result)\n"
      ]
    },
    {
      "cell_type": "markdown",
      "metadata": {
        "id": "OKnaFci2zRpu"
      },
      "source": [
        "- So the function takes in arbitrary number of iterable objects, adds each of their items to the `result` list by calling the `next` function on them, and stops whenever any of the iterable is exhausted. \n",
        "- The caveat here is when any iterable is exhausted, the existing elements in the `result` list are discarded. That's what happened with `3` in the `numbers_iter`.\n",
        "- The correct way to do the above using `zip` would be,\n"
      ]
    },
    {
      "cell_type": "code",
      "execution_count": null,
      "metadata": {
        "collapsed": true,
        "id": "U0hcAB8rzRpv",
        "outputId": "ed8e0e90-5337-4add-f651-5074640bd12c"
      },
      "outputs": [
        {
          "data": {
            "text/plain": [
              "    [(0, 0), (1, 1), (2, 2)]\n"
            ]
          },
          "output_type": "execute_result",
          "metadata": {},
          "execution_count": null
        }
      ],
      "source": [
        "    numbers = list(range(7))\n",
        "    numbers_iter = iter(numbers)\n",
        "    list(zip(first_three, numbers_iter))\n"
      ]
    },
    {
      "cell_type": "code",
      "execution_count": null,
      "metadata": {
        "collapsed": true,
        "id": "WV8xbjoFzRpv",
        "outputId": "13c296d6-7ffb-4d02-ccc2-d5196d02a0cc"
      },
      "outputs": [
        {
          "data": {
            "text/plain": [
              "    [(3, 3), (4, 4), (5, 5), (6, 6)]\n"
            ]
          },
          "output_type": "execute_result",
          "metadata": {},
          "execution_count": null
        }
      ],
      "source": [
        "    list(zip(remaining, numbers_iter))\n"
      ]
    },
    {
      "cell_type": "markdown",
      "metadata": {
        "id": "D0urpuO-zRpv"
      },
      "source": [
        "    The first argument of zip should be the one with fewest elements.\n",
        "\n"
      ]
    },
    {
      "cell_type": "markdown",
      "metadata": {
        "id": "y0oS7hNezRpv"
      },
      "source": [
        "### ▶ Loop variables leaking out!\n",
        "1\\.\n"
      ]
    },
    {
      "cell_type": "code",
      "metadata": {
        "collapsed": true,
        "id": "Mm7CDGSfzRpv",
        "outputId": "558416ef-d2b4-484e-8e62-f868ccb5374c"
      },
      "execution_count": null,
      "outputs": [
        {
          "name": "stdout",
          "output_type": "stream",
          "text": []
        }
      ],
      "source": [
        "for x in range(7):\n",
        "    if x == 6:\n",
        "        print(x, ': for x inside loop')\n",
        "print(x, ': x in global')\n"
      ]
    },
    {
      "cell_type": "markdown",
      "metadata": {
        "id": "2p0Iw7NUzRpv"
      },
      "source": [
        "\n",
        "**Output:**\n"
      ]
    },
    {
      "cell_type": "code",
      "execution_count": null,
      "metadata": {
        "collapsed": true,
        "id": "8qlaFTWPzRpv",
        "outputId": "af6d61a0-83d0-4ffd-a1c9-df9498dd20c7"
      },
      "outputs": [
        {
          "data": {
            "text/plain": []
          },
          "output_type": "execute_result",
          "metadata": {},
          "execution_count": null
        }
      ],
      "source": [
        "6 : for x inside loop\n",
        "6 : x in global\n"
      ]
    },
    {
      "cell_type": "markdown",
      "metadata": {
        "id": "s6w4rcQHzRpv"
      },
      "source": [
        "\n",
        "But `x` was never defined outside the scope of for loop...\n",
        "\n",
        "2\\.\n"
      ]
    },
    {
      "cell_type": "code",
      "metadata": {
        "collapsed": true,
        "id": "uT6PvY37zRpv",
        "outputId": "f8765c52-d231-41f2-efe5-f2ea617c99fc"
      },
      "execution_count": null,
      "outputs": [
        {
          "name": "stdout",
          "output_type": "stream",
          "text": []
        }
      ],
      "source": [
        "# This time let's initialize x first\n",
        "x = -1\n",
        "for x in range(7):\n",
        "    if x == 6:\n",
        "        print(x, ': for x inside loop')\n",
        "print(x, ': x in global')\n"
      ]
    },
    {
      "cell_type": "markdown",
      "metadata": {
        "id": "7tQg44MLzRpv"
      },
      "source": [
        "\n",
        "**Output:**\n"
      ]
    },
    {
      "cell_type": "code",
      "execution_count": null,
      "metadata": {
        "collapsed": true,
        "id": "g2JY7MmgzRpw",
        "outputId": "6738187d-95b1-4d5b-be02-caa7061faf13"
      },
      "outputs": [
        {
          "data": {
            "text/plain": []
          },
          "output_type": "execute_result",
          "metadata": {},
          "execution_count": null
        }
      ],
      "source": [
        "6 : for x inside loop\n",
        "6 : x in global\n"
      ]
    },
    {
      "cell_type": "markdown",
      "metadata": {
        "id": "XlxT5bSQzRpw"
      },
      "source": [
        "\n",
        "3\\.\n",
        "\n",
        "**Output (Python 2.x):**\n"
      ]
    },
    {
      "cell_type": "code",
      "metadata": {
        "collapsed": true,
        "id": "B4fQD4FLzRpw",
        "outputId": "4d17dbb4-63d9-4c56-cb77-9330374b05d4"
      },
      "execution_count": null,
      "outputs": [
        {
          "name": "stdout",
          "output_type": "stream",
          "text": [
            "[0, 1, 2, 3, 4]\n"
          ]
        }
      ],
      "source": [
        "x = 1\n",
        "print([x for x in range(5)])\n"
      ]
    },
    {
      "cell_type": "code",
      "metadata": {
        "collapsed": true,
        "id": "V4XYLGRVzRpw",
        "outputId": "cf069477-1ca8-4d2d-e8e0-99365682c61a"
      },
      "execution_count": null,
      "outputs": [
        {
          "name": "stdout",
          "output_type": "stream",
          "text": [
            "4\n"
          ]
        }
      ],
      "source": [
        "print(x)\n"
      ]
    },
    {
      "cell_type": "markdown",
      "metadata": {
        "id": "WVfTo7mpzRpw"
      },
      "source": [
        "\n",
        "**Output (Python 3.x):**\n"
      ]
    },
    {
      "cell_type": "code",
      "metadata": {
        "collapsed": true,
        "id": "gEnmG-MPzRpw",
        "outputId": "fdb40793-29df-4c41-ac2d-d6143bd435e7"
      },
      "execution_count": null,
      "outputs": [
        {
          "name": "stdout",
          "output_type": "stream",
          "text": [
            "[0, 1, 2, 3, 4]\n"
          ]
        }
      ],
      "source": [
        "x = 1\n",
        "print([x for x in range(5)])\n"
      ]
    },
    {
      "cell_type": "code",
      "metadata": {
        "collapsed": true,
        "id": "Tlj-ZJ8XzRpw",
        "outputId": "fb9d7d1d-61c6-48ad-c443-5e2672681cb0"
      },
      "execution_count": null,
      "outputs": [
        {
          "name": "stdout",
          "output_type": "stream",
          "text": [
            "1\n"
          ]
        }
      ],
      "source": [
        "print(x)\n"
      ]
    },
    {
      "cell_type": "markdown",
      "metadata": {
        "id": "9_gy3fULzRpw"
      },
      "source": [
        "\n"
      ]
    },
    {
      "cell_type": "markdown",
      "metadata": {
        "id": "r4Ld1gqczRpw"
      },
      "source": [
        "#### 💡 Explanation:\n",
        "\n",
        "- In Python, for-loops use the scope they exist in and leave their defined loop-variable behind. This also applies if we explicitly defined the for-loop variable in the global namespace before. In this case, it will rebind the existing variable.\n",
        "\n",
        "- The differences in the output of Python 2.x and Python 3.x interpreters for list comprehension example can be explained by following change documented in [What’s New In Python 3.0](https://docs.python.org/3/whatsnew/3.0.html) changelog:\n",
        "\n",
        "    > \"List comprehensions no longer support the syntactic form `[... for var in item1, item2, ...]`. Use `[... for var in (item1, item2, ...)]` instead. Also, note that list comprehensions have different semantics: they are closer to syntactic sugar for a generator expression inside a `list()` constructor, and in particular, the loop control variables are no longer leaked into the surrounding scope.\"\n",
        "\n"
      ]
    },
    {
      "cell_type": "markdown",
      "metadata": {
        "id": "tjL0cXwNzRpw"
      },
      "source": [
        "### ▶ Beware of default mutable arguments!\n"
      ]
    },
    {
      "cell_type": "code",
      "execution_count": null,
      "metadata": {
        "collapsed": true,
        "id": "aggNe3LozRpx",
        "outputId": "fa8348d5-ff80-40c5-87e2-a29a8d07e91a"
      },
      "outputs": [
        {
          "data": {
            "text/plain": []
          },
          "output_type": "execute_result",
          "metadata": {},
          "execution_count": null
        }
      ],
      "source": [
        "def some_func(default_arg=[]):\n",
        "    default_arg.append(\"some_string\")\n",
        "    return default_arg\n"
      ]
    },
    {
      "cell_type": "markdown",
      "metadata": {
        "id": "5vClb69_zRpx"
      },
      "source": [
        "\n",
        "**Output:**\n"
      ]
    },
    {
      "cell_type": "code",
      "execution_count": null,
      "metadata": {
        "collapsed": true,
        "id": "O5VWa4XnzRpx",
        "outputId": "74f06f73-e5b1-4372-ede2-414a09abddc9"
      },
      "outputs": [
        {
          "data": {
            "text/plain": [
              "['some_string']\n"
            ]
          },
          "output_type": "execute_result",
          "metadata": {},
          "execution_count": null
        }
      ],
      "source": [
        "some_func()\n"
      ]
    },
    {
      "cell_type": "code",
      "execution_count": null,
      "metadata": {
        "collapsed": true,
        "id": "dMDDqTMRzRpx",
        "outputId": "ae444915-7246-4e53-8a76-b4a05de8ab2c"
      },
      "outputs": [
        {
          "data": {
            "text/plain": [
              "['some_string', 'some_string']\n"
            ]
          },
          "output_type": "execute_result",
          "metadata": {},
          "execution_count": null
        }
      ],
      "source": [
        "some_func()\n"
      ]
    },
    {
      "cell_type": "code",
      "execution_count": null,
      "metadata": {
        "collapsed": true,
        "id": "E9I6zJqAzRpx",
        "outputId": "6961ec98-627c-4a08-e7f5-2f2d3d86ee54"
      },
      "outputs": [
        {
          "data": {
            "text/plain": [
              "['some_string']\n"
            ]
          },
          "output_type": "execute_result",
          "metadata": {},
          "execution_count": null
        }
      ],
      "source": [
        "some_func([])\n"
      ]
    },
    {
      "cell_type": "code",
      "execution_count": null,
      "metadata": {
        "collapsed": true,
        "id": "Kgp5goCVzRpx",
        "outputId": "35f99982-f0cd-4fcf-c501-5f4908968c5b"
      },
      "outputs": [
        {
          "data": {
            "text/plain": [
              "['some_string', 'some_string', 'some_string']\n"
            ]
          },
          "output_type": "execute_result",
          "metadata": {},
          "execution_count": null
        }
      ],
      "source": [
        "some_func()\n"
      ]
    },
    {
      "cell_type": "markdown",
      "metadata": {
        "id": "He_Sr1u0zRpx"
      },
      "source": [
        "\n"
      ]
    },
    {
      "cell_type": "markdown",
      "metadata": {
        "id": "zGvZUUvCzRpx"
      },
      "source": [
        "#### 💡 Explanation:\n",
        "\n",
        "- The default mutable arguments of functions in Python aren't really initialized every time you call the function. Instead, the recently assigned value to them is used as the default value. When we explicitly passed `[]` to `some_func` as the argument, the default value of the `default_arg` variable was not used, so the function returned as expected.\n",
        "\n"
      ]
    },
    {
      "cell_type": "code",
      "execution_count": null,
      "metadata": {
        "collapsed": true,
        "id": "NejC6wEVzRpx",
        "outputId": "9cde0df9-7f15-4c0f-e344-d1c810677165"
      },
      "outputs": [
        {
          "data": {
            "text/plain": []
          },
          "output_type": "execute_result",
          "metadata": {},
          "execution_count": null
        }
      ],
      "source": [
        "    def some_func(default_arg=[]):\n",
        "        default_arg.append(\"some_string\")\n",
        "        return default_arg\n"
      ]
    },
    {
      "cell_type": "markdown",
      "metadata": {
        "id": "YuakiCXwzRpy"
      },
      "source": [
        "\n",
        "    **Output:**\n"
      ]
    },
    {
      "cell_type": "code",
      "execution_count": null,
      "metadata": {
        "collapsed": true,
        "id": "a3glll3RzRpy",
        "outputId": "677ac048-3c7c-495b-c6c1-b8bcb13aaad8"
      },
      "outputs": [
        {
          "data": {
            "text/plain": [
              "    ([],)\n"
            ]
          },
          "output_type": "execute_result",
          "metadata": {},
          "execution_count": null
        }
      ],
      "source": [
        "    some_func.__defaults__ #This will show the default argument values for the function\n"
      ]
    },
    {
      "cell_type": "code",
      "execution_count": null,
      "metadata": {
        "collapsed": true,
        "id": "P0cZRuFtzRpy",
        "outputId": "247caf9c-589d-434d-a94a-a819123234d5"
      },
      "outputs": [
        {
          "data": {
            "text/plain": [
              "    (['some_string'],)\n"
            ]
          },
          "output_type": "execute_result",
          "metadata": {},
          "execution_count": null
        }
      ],
      "source": [
        "    some_func()\n",
        "    some_func.__defaults__\n"
      ]
    },
    {
      "cell_type": "code",
      "execution_count": null,
      "metadata": {
        "collapsed": true,
        "id": "5idHxxo2zRpy",
        "outputId": "4144e151-72bb-4b6f-d653-7892c97c0a43"
      },
      "outputs": [
        {
          "data": {
            "text/plain": [
              "    (['some_string', 'some_string'],)\n"
            ]
          },
          "output_type": "execute_result",
          "metadata": {},
          "execution_count": null
        }
      ],
      "source": [
        "    some_func()\n",
        "    some_func.__defaults__\n"
      ]
    },
    {
      "cell_type": "code",
      "execution_count": null,
      "metadata": {
        "collapsed": true,
        "id": "uQU7vZUrzRpy",
        "outputId": "1bc57142-d0e0-478b-d070-5f5df3d0a66f"
      },
      "outputs": [
        {
          "data": {
            "text/plain": [
              "    (['some_string', 'some_string'],)\n"
            ]
          },
          "output_type": "execute_result",
          "metadata": {},
          "execution_count": null
        }
      ],
      "source": [
        "    some_func([])\n",
        "    some_func.__defaults__\n"
      ]
    },
    {
      "cell_type": "markdown",
      "metadata": {
        "id": "Qa1b6jkhzRpy"
      },
      "source": [
        "\n",
        "- A common practice to avoid bugs due to mutable arguments is to assign `None` as the default value and later check if any value is passed to the function corresponding to that argument. Example:\n",
        "\n"
      ]
    },
    {
      "cell_type": "code",
      "execution_count": null,
      "metadata": {
        "collapsed": true,
        "id": "IyO8R8_czRpy",
        "outputId": "606a4416-35cf-4b6a-f6d1-7e20de4325fb"
      },
      "outputs": [
        {
          "data": {
            "text/plain": []
          },
          "output_type": "execute_result",
          "metadata": {},
          "execution_count": null
        }
      ],
      "source": [
        "    def some_func(default_arg=None):\n",
        "        if default_arg is None:\n",
        "            default_arg = []\n",
        "        default_arg.append(\"some_string\")\n",
        "        return default_arg\n"
      ]
    },
    {
      "cell_type": "markdown",
      "metadata": {
        "id": "8LQOQKxEzRpy"
      },
      "source": [
        "\n"
      ]
    },
    {
      "cell_type": "markdown",
      "metadata": {
        "id": "8T-8SBlEzRpy"
      },
      "source": [
        "### ▶ Catching the Exceptions\n"
      ]
    },
    {
      "cell_type": "code",
      "execution_count": null,
      "metadata": {
        "collapsed": true,
        "id": "KO4atayPzRpy",
        "outputId": "a357e835-7db0-4eab-e226-df13bf865f61"
      },
      "outputs": [
        {
          "data": {
            "text/plain": []
          },
          "output_type": "execute_result",
          "metadata": {},
          "execution_count": null
        }
      ],
      "source": [
        "some_list = [1, 2, 3]\n",
        "try:\n",
        "    # This should raise an ``IndexError``\n",
        "    print(some_list[4])\n",
        "except IndexError, ValueError:\n",
        "    print(\"Caught!\")\n",
        "\n",
        "try:\n",
        "    # This should raise a ``ValueError``\n",
        "    some_list.remove(4)\n",
        "except IndexError, ValueError:\n",
        "    print(\"Caught again!\")\n"
      ]
    },
    {
      "cell_type": "markdown",
      "metadata": {
        "id": "K7NA4djbzRpz"
      },
      "source": [
        "\n",
        "**Output (Python 2.x):**\n"
      ]
    },
    {
      "cell_type": "code",
      "execution_count": null,
      "metadata": {
        "collapsed": true,
        "id": "gUWqXzN8zRpz",
        "outputId": "8019cf82-576e-4a1e-ee44-00a4b545c6cd"
      },
      "outputs": [
        {
          "data": {
            "text/plain": []
          },
          "output_type": "execute_result",
          "metadata": {},
          "execution_count": null
        }
      ],
      "source": [
        "Caught!\n",
        "\n",
        "ValueError: list.remove(x): x not in list\n"
      ]
    },
    {
      "cell_type": "markdown",
      "metadata": {
        "id": "NgmMJUprzRpz"
      },
      "source": [
        "\n",
        "**Output (Python 3.x):**\n"
      ]
    },
    {
      "cell_type": "code",
      "execution_count": null,
      "metadata": {
        "collapsed": true,
        "id": "PIlOixyXzRpz",
        "outputId": "d206aa28-3ab7-49d9-c6d5-34e28d4ce65b"
      },
      "outputs": [
        {
          "data": {
            "text/plain": []
          },
          "output_type": "execute_result",
          "metadata": {},
          "execution_count": null
        }
      ],
      "source": [
        "  File \"<input>\", line 3\n",
        "    except IndexError, ValueError:\n",
        "                     ^\n",
        "SyntaxError: invalid syntax\n"
      ]
    },
    {
      "cell_type": "markdown",
      "metadata": {
        "id": "zRpYdTmbzRpz"
      },
      "source": [
        "\n"
      ]
    },
    {
      "cell_type": "markdown",
      "metadata": {
        "id": "yhldj8PEzRpz"
      },
      "source": [
        "#### 💡 Explanation\n",
        "\n",
        "* To add multiple Exceptions to the except clause, you need to pass them as parenthesized tuple as the first argument. The second argument is an optional name, which when supplied will bind the Exception instance that has been raised. Example,\n"
      ]
    },
    {
      "cell_type": "code",
      "execution_count": null,
      "metadata": {
        "collapsed": true,
        "id": "Ffnps4PZzRpz",
        "outputId": "707f122e-2edb-4b8f-c09f-9a2716af39ea"
      },
      "outputs": [
        {
          "data": {
            "text/plain": []
          },
          "output_type": "execute_result",
          "metadata": {},
          "execution_count": null
        }
      ],
      "source": [
        "  some_list = [1, 2, 3]\n",
        "  try:\n",
        "     # This should raise a ``ValueError``\n",
        "     some_list.remove(4)\n",
        "  except (IndexError, ValueError), e:\n",
        "     print(\"Caught again!\")\n",
        "     print(e)\n"
      ]
    },
    {
      "cell_type": "markdown",
      "metadata": {
        "id": "zwQby2iWzRpz"
      },
      "source": [
        "  **Output (Python 2.x):**\n",
        "  ```\n",
        "  Caught again!\n",
        "  list.remove(x): x not in list\n",
        "  ```\n",
        "  **Output (Python 3.x):**\n"
      ]
    },
    {
      "cell_type": "code",
      "execution_count": null,
      "metadata": {
        "collapsed": true,
        "id": "lCTPaD_czRpz",
        "outputId": "8b466d22-a351-434a-e728-667bdb374d70"
      },
      "outputs": [
        {
          "data": {
            "text/plain": []
          },
          "output_type": "execute_result",
          "metadata": {},
          "execution_count": null
        }
      ],
      "source": [
        "    File \"<input>\", line 4\n",
        "      except (IndexError, ValueError), e:\n",
        "                                       ^\n",
        "  IndentationError: unindent does not match any outer indentation level\n"
      ]
    },
    {
      "cell_type": "markdown",
      "metadata": {
        "id": "Ws9wZ_MqzRpz"
      },
      "source": [
        "\n",
        "* Separating the exception from the variable with a comma is deprecated and does not work in Python 3; the correct way is to use `as`. Example,\n"
      ]
    },
    {
      "cell_type": "code",
      "execution_count": null,
      "metadata": {
        "collapsed": true,
        "id": "_KaV2MRJzRp0",
        "outputId": "bd5fc605-e6a8-4980-ed7d-6a32e863f95a"
      },
      "outputs": [
        {
          "data": {
            "text/plain": []
          },
          "output_type": "execute_result",
          "metadata": {},
          "execution_count": null
        }
      ],
      "source": [
        "  some_list = [1, 2, 3]\n",
        "  try:\n",
        "      some_list.remove(4)\n",
        "\n",
        "  except (IndexError, ValueError) as e:\n",
        "      print(\"Caught again!\")\n",
        "      print(e)\n"
      ]
    },
    {
      "cell_type": "markdown",
      "metadata": {
        "id": "pT0w2-VYzRp0"
      },
      "source": [
        "  **Output:**\n",
        "  ```\n",
        "  Caught again!\n",
        "  list.remove(x): x not in list\n",
        "  ```\n",
        "\n"
      ]
    },
    {
      "cell_type": "markdown",
      "metadata": {
        "id": "2BhAIzoczRp0"
      },
      "source": [
        "### ▶ Same operands, different story!\n",
        "1\\.\n"
      ]
    },
    {
      "cell_type": "code",
      "execution_count": null,
      "metadata": {
        "collapsed": true,
        "id": "HLetBQ6kzRp0",
        "outputId": "51871921-2bee-405b-8611-9e497ba414f4"
      },
      "outputs": [
        {
          "data": {
            "text/plain": []
          },
          "output_type": "execute_result",
          "metadata": {},
          "execution_count": null
        }
      ],
      "source": [
        "a = [1, 2, 3, 4]\n",
        "b = a\n",
        "a = a + [5, 6, 7, 8]\n"
      ]
    },
    {
      "cell_type": "markdown",
      "metadata": {
        "id": "zAufWgfAzRp0"
      },
      "source": [
        "\n",
        "**Output:**\n"
      ]
    },
    {
      "cell_type": "code",
      "execution_count": null,
      "metadata": {
        "collapsed": true,
        "id": "OaItPyyNzRp0",
        "outputId": "4d282644-acf5-4773-e5a1-6c39e46848ec"
      },
      "outputs": [
        {
          "data": {
            "text/plain": [
              "[1, 2, 3, 4, 5, 6, 7, 8]\n"
            ]
          },
          "output_type": "execute_result",
          "metadata": {},
          "execution_count": null
        }
      ],
      "source": [
        "a\n"
      ]
    },
    {
      "cell_type": "code",
      "execution_count": null,
      "metadata": {
        "collapsed": true,
        "id": "p_V7dZuozRp0",
        "outputId": "5a581ceb-4f22-4374-c86a-814e8be2adf4"
      },
      "outputs": [
        {
          "data": {
            "text/plain": [
              "[1, 2, 3, 4]\n"
            ]
          },
          "output_type": "execute_result",
          "metadata": {},
          "execution_count": null
        }
      ],
      "source": [
        "b\n"
      ]
    },
    {
      "cell_type": "markdown",
      "metadata": {
        "id": "MJa2o1EczRp0"
      },
      "source": [
        "\n",
        "2\\.\n"
      ]
    },
    {
      "cell_type": "code",
      "execution_count": null,
      "metadata": {
        "collapsed": true,
        "id": "FSFZ2cJtzRp0",
        "outputId": "e3b595cf-3d40-471b-9a80-27e4aec45fce"
      },
      "outputs": [
        {
          "data": {
            "text/plain": []
          },
          "output_type": "execute_result",
          "metadata": {},
          "execution_count": null
        }
      ],
      "source": [
        "a = [1, 2, 3, 4]\n",
        "b = a\n",
        "a += [5, 6, 7, 8]\n"
      ]
    },
    {
      "cell_type": "markdown",
      "metadata": {
        "id": "3cVAvtFrzRp0"
      },
      "source": [
        "\n",
        "**Output:**\n"
      ]
    },
    {
      "cell_type": "code",
      "execution_count": null,
      "metadata": {
        "collapsed": true,
        "id": "ybJmB151zRp1",
        "outputId": "46fea729-545b-417e-a068-9ae78d095332"
      },
      "outputs": [
        {
          "data": {
            "text/plain": [
              "[1, 2, 3, 4, 5, 6, 7, 8]\n"
            ]
          },
          "output_type": "execute_result",
          "metadata": {},
          "execution_count": null
        }
      ],
      "source": [
        "a\n"
      ]
    },
    {
      "cell_type": "code",
      "execution_count": null,
      "metadata": {
        "collapsed": true,
        "id": "YQay1lxjzRp1",
        "outputId": "bad4059f-88e9-4474-b64b-a6e8b9698272"
      },
      "outputs": [
        {
          "data": {
            "text/plain": [
              "[1, 2, 3, 4, 5, 6, 7, 8]\n"
            ]
          },
          "output_type": "execute_result",
          "metadata": {},
          "execution_count": null
        }
      ],
      "source": [
        "b\n"
      ]
    },
    {
      "cell_type": "markdown",
      "metadata": {
        "id": "yk2upCpNzRp1"
      },
      "source": [
        "\n"
      ]
    },
    {
      "cell_type": "markdown",
      "metadata": {
        "id": "YeU1OlvUzRp1"
      },
      "source": [
        "#### 💡 Explanation:\n",
        "\n",
        "*  `a += b` doesn't always behave the same way as `a = a + b`.  Classes *may* implement the *`op=`* operators differently, and lists do this.\n",
        "\n",
        "* The expression `a = a + [5,6,7,8]` generates a new list and sets `a`'s reference to that new list, leaving `b` unchanged.\n",
        "\n",
        "* The expression `a += [5,6,7,8]` is actually mapped to an \"extend\" function that operates on the list such that `a` and `b` still point to the same list that has been modified in-place.\n",
        "\n"
      ]
    },
    {
      "cell_type": "markdown",
      "metadata": {
        "id": "QLoS5CEDzRp1"
      },
      "source": [
        "### ▶ Name resolution ignoring class scope\n",
        "1\\.\n"
      ]
    },
    {
      "cell_type": "code",
      "execution_count": null,
      "metadata": {
        "collapsed": true,
        "id": "uJNisc_wzRp1",
        "outputId": "abad5260-27de-4c63-eab7-a1a7883bf66a"
      },
      "outputs": [
        {
          "data": {
            "text/plain": []
          },
          "output_type": "execute_result",
          "metadata": {},
          "execution_count": null
        }
      ],
      "source": [
        "x = 5\n",
        "class SomeClass:\n",
        "    x = 17\n",
        "    y = (x for i in range(10))\n"
      ]
    },
    {
      "cell_type": "markdown",
      "metadata": {
        "id": "7aZvKVUkzRp1"
      },
      "source": [
        "\n",
        "**Output:**\n"
      ]
    },
    {
      "cell_type": "code",
      "execution_count": null,
      "metadata": {
        "collapsed": true,
        "id": "JLnELDpTzRp1",
        "outputId": "31374ad8-94f4-45e6-dcd1-bf53f2162630"
      },
      "outputs": [
        {
          "data": {
            "text/plain": [
              "5\n"
            ]
          },
          "output_type": "execute_result",
          "metadata": {},
          "execution_count": null
        }
      ],
      "source": [
        "list(SomeClass.y)[0]\n"
      ]
    },
    {
      "cell_type": "markdown",
      "metadata": {
        "id": "w0hHbDyVzRp2"
      },
      "source": [
        "\n",
        "2\\.\n"
      ]
    },
    {
      "cell_type": "code",
      "execution_count": null,
      "metadata": {
        "collapsed": true,
        "id": "kAYZJxvPzRp2",
        "outputId": "47e610c4-4111-4d98-d133-310be6b950b5"
      },
      "outputs": [
        {
          "data": {
            "text/plain": []
          },
          "output_type": "execute_result",
          "metadata": {},
          "execution_count": null
        }
      ],
      "source": [
        "x = 5\n",
        "class SomeClass:\n",
        "    x = 17\n",
        "    y = [x for i in range(10)]\n"
      ]
    },
    {
      "cell_type": "markdown",
      "metadata": {
        "id": "dH-sGzVxzRp2"
      },
      "source": [
        "\n",
        "**Output (Python 2.x):**\n"
      ]
    },
    {
      "cell_type": "code",
      "execution_count": null,
      "metadata": {
        "collapsed": true,
        "id": "YPnGnbqNzRp2",
        "outputId": "47a5b1a1-88be-4a6e-c48a-3b7f6df48157"
      },
      "outputs": [
        {
          "data": {
            "text/plain": [
              "17\n"
            ]
          },
          "output_type": "execute_result",
          "metadata": {},
          "execution_count": null
        }
      ],
      "source": [
        "SomeClass.y[0]\n"
      ]
    },
    {
      "cell_type": "markdown",
      "metadata": {
        "id": "DKEEvHlgzRp2"
      },
      "source": [
        "\n",
        "**Output (Python 3.x):**\n"
      ]
    },
    {
      "cell_type": "code",
      "execution_count": null,
      "metadata": {
        "collapsed": true,
        "id": "CEbjSIwdzRp2",
        "outputId": "ea2faa9e-9572-4cd0-8b54-f1eb5de6698e"
      },
      "outputs": [
        {
          "data": {
            "text/plain": [
              "5\n"
            ]
          },
          "output_type": "execute_result",
          "metadata": {},
          "execution_count": null
        }
      ],
      "source": [
        "SomeClass.y[0]\n"
      ]
    },
    {
      "cell_type": "markdown",
      "metadata": {
        "id": "FZCD-N61zRp2"
      },
      "source": [
        "\n"
      ]
    },
    {
      "cell_type": "markdown",
      "metadata": {
        "id": "agRi16RLzRp2"
      },
      "source": [
        "#### 💡 Explanation\n",
        "- Scopes nested inside class definition ignore names bound at the class level.\n",
        "- A generator expression has its own scope.\n",
        "- Starting from Python 3.X, list comprehensions also have their own scope.\n",
        "\n"
      ]
    },
    {
      "cell_type": "markdown",
      "metadata": {
        "id": "NFKwtJ2FzRp2"
      },
      "source": [
        "### ▶ Needles in a Haystack *\n",
        "I haven't met even a single experience Pythonist till date who has not come across one or more of the following scenarios,\n",
        "\n",
        "1\\.\n",
        "\n"
      ]
    },
    {
      "cell_type": "code",
      "execution_count": null,
      "metadata": {
        "collapsed": true,
        "id": "YY1YIKJlzRp2",
        "outputId": "0abc009b-d4a1-4764-9592-1a6603e5f177"
      },
      "outputs": [
        {
          "data": {
            "text/plain": []
          },
          "output_type": "execute_result",
          "metadata": {},
          "execution_count": null
        }
      ],
      "source": [
        "x, y = (0, 1) if True else None, None\n"
      ]
    },
    {
      "cell_type": "markdown",
      "metadata": {
        "id": "b49auD6xzRp2"
      },
      "source": [
        "\n",
        "**Output:**\n",
        "\n"
      ]
    },
    {
      "cell_type": "code",
      "execution_count": null,
      "metadata": {
        "collapsed": true,
        "id": "_M38j6njzRp3",
        "outputId": "0ba00ef2-7f07-4359-9e13-1034b4aa4dce"
      },
      "outputs": [
        {
          "data": {
            "text/plain": [
              "((0, 1), None)\n"
            ]
          },
          "output_type": "execute_result",
          "metadata": {},
          "execution_count": null
        }
      ],
      "source": [
        "x, y  # expected (0, 1)\n"
      ]
    },
    {
      "cell_type": "markdown",
      "metadata": {
        "id": "8qIrAXyNzRp3"
      },
      "source": [
        "\n",
        "2\\.\n",
        "\n"
      ]
    },
    {
      "cell_type": "code",
      "metadata": {
        "collapsed": true,
        "id": "69t_m7-UzRp3",
        "outputId": "b8247fce-16b9-440b-8bc7-cd4ac6436b89"
      },
      "execution_count": null,
      "outputs": [
        {
          "name": "stdout",
          "output_type": "stream",
          "text": []
        }
      ],
      "source": [
        "t = ('one', 'two')\n",
        "for i in t:\n",
        "    print(i)\n",
        "\n",
        "t = ('one')\n",
        "for i in t:\n",
        "    print(i)\n",
        "\n",
        "t = ()\n",
        "print(t)\n"
      ]
    },
    {
      "cell_type": "markdown",
      "metadata": {
        "id": "Sb6YcYoNzRp3"
      },
      "source": [
        "\n",
        "**Output:**\n",
        "\n"
      ]
    },
    {
      "cell_type": "code",
      "execution_count": null,
      "metadata": {
        "collapsed": true,
        "id": "LaduGSGFzRp3",
        "outputId": "c0a31e2c-6251-4e0f-fba5-b0d7b1fab823"
      },
      "outputs": [
        {
          "data": {
            "text/plain": []
          },
          "output_type": "execute_result",
          "metadata": {},
          "execution_count": null
        }
      ],
      "source": [
        "one\n",
        "two\n",
        "o\n",
        "n\n",
        "e\n",
        "tuple()\n"
      ]
    },
    {
      "cell_type": "markdown",
      "metadata": {
        "id": "r5n1U4GhzRp3"
      },
      "source": [
        "\n",
        "3\\.\n",
        "\n",
        "```\n",
        "ten_words_list = [\n",
        "    \"some\",\n",
        "    \"very\",\n",
        "    \"big\",\n",
        "    \"list\",\n",
        "    \"that\"\n",
        "    \"consists\",\n",
        "    \"of\",\n",
        "    \"exactly\",\n",
        "    \"ten\",\n",
        "    \"words\"\n",
        "]\n",
        "```\n",
        "\n",
        "**Output**\n",
        "\n"
      ]
    },
    {
      "cell_type": "code",
      "execution_count": null,
      "metadata": {
        "collapsed": true,
        "id": "imvuKEbDzRp3",
        "outputId": "7fefda93-2689-4687-b55f-12766c52ccd0"
      },
      "outputs": [
        {
          "data": {
            "text/plain": [
              "9\n"
            ]
          },
          "output_type": "execute_result",
          "metadata": {},
          "execution_count": null
        }
      ],
      "source": [
        "len(ten_words_list)\n"
      ]
    },
    {
      "cell_type": "markdown",
      "metadata": {
        "id": "HU6ZRJkFzRp3"
      },
      "source": [
        "\n",
        "4\\. Not asserting strongly enough\n",
        "\n"
      ]
    },
    {
      "cell_type": "code",
      "execution_count": null,
      "metadata": {
        "collapsed": true,
        "id": "CUxHU47xzRp3",
        "outputId": "8ad6e89f-768d-4e0c-afea-014122344174"
      },
      "outputs": [
        {
          "data": {
            "text/plain": []
          },
          "output_type": "execute_result",
          "metadata": {},
          "execution_count": null
        }
      ],
      "source": [
        "a = \"python\"\n",
        "b = \"javascript\"\n"
      ]
    },
    {
      "cell_type": "markdown",
      "metadata": {
        "id": "kxUcG7O1zRp3"
      },
      "source": [
        "\n",
        "**Output:**\n",
        "\n"
      ]
    },
    {
      "cell_type": "code",
      "execution_count": null,
      "metadata": {
        "collapsed": true,
        "id": "G-2iFdnnzRp3",
        "outputId": "91b24a58-0b30-4a35-bc55-97c23c05ebb2"
      },
      "outputs": [
        {
          "data": {
            "text/plain": [
              "# No AssertionError is raised\n"
            ]
          },
          "output_type": "execute_result",
          "metadata": {},
          "execution_count": null
        }
      ],
      "source": [
        "# An assert statement with an assertion failure message.\n",
        "assert(a == b, \"Both languages are different\")\n"
      ]
    },
    {
      "cell_type": "markdown",
      "metadata": {
        "id": "fE28GEcqzRp4"
      },
      "source": [
        "\n",
        "5\\.\n",
        "\n"
      ]
    },
    {
      "cell_type": "code",
      "execution_count": null,
      "metadata": {
        "collapsed": true,
        "id": "wqgfLp18zRp4",
        "outputId": "cb762e9b-dc0f-4239-e928-81d547d7c174"
      },
      "outputs": [
        {
          "data": {
            "text/plain": []
          },
          "output_type": "execute_result",
          "metadata": {},
          "execution_count": null
        }
      ],
      "source": [
        "some_list = [1, 2, 3]\n",
        "some_dict = {\n",
        "  \"key_1\": 1,\n",
        "  \"key_2\": 2,\n",
        "  \"key_3\": 3\n",
        "}\n",
        "\n",
        "some_list = some_list.append(4) \n",
        "some_dict = some_dict.update({\"key_4\": 4})\n"
      ]
    },
    {
      "cell_type": "markdown",
      "metadata": {
        "id": "7Rpjgt0KzRp4"
      },
      "source": [
        "\n",
        "**Output:**\n",
        "\n"
      ]
    },
    {
      "cell_type": "code",
      "metadata": {
        "collapsed": true,
        "id": "q8WrVu3EzRp4",
        "outputId": "1a93c5af-5c3d-4cf4-fdef-44502170806f"
      },
      "execution_count": null,
      "outputs": [
        {
          "name": "stdout",
          "output_type": "stream",
          "text": [
            "None\n"
          ]
        }
      ],
      "source": [
        "print(some_list)\n"
      ]
    },
    {
      "cell_type": "code",
      "metadata": {
        "collapsed": true,
        "id": "Jirwv_ZFzRp4",
        "outputId": "6f386793-4b2d-4424-9cd6-60a9d5c3ef4a"
      },
      "execution_count": null,
      "outputs": [
        {
          "name": "stdout",
          "output_type": "stream",
          "text": [
            "None\n"
          ]
        }
      ],
      "source": [
        "print(some_dict)\n"
      ]
    },
    {
      "cell_type": "markdown",
      "metadata": {
        "id": "ekkMlZN4zRp4"
      },
      "source": [
        "\n",
        "6\\.\n",
        "\n"
      ]
    },
    {
      "cell_type": "code",
      "execution_count": null,
      "metadata": {
        "collapsed": true,
        "id": "v2kXtJV7zRp4",
        "outputId": "4fb30ff2-2848-4ccf-8cc1-178682b8c4f9"
      },
      "outputs": [
        {
          "data": {
            "text/plain": []
          },
          "output_type": "execute_result",
          "metadata": {},
          "execution_count": null
        }
      ],
      "source": [
        "def some_recursive_func(a):\n",
        "    if a[0] == 0:\n",
        "        return\n",
        "    a[0] -= 1\n",
        "    some_recursive_func(a)\n",
        "    return a\n",
        "\n",
        "def similar_recursive_func(a):\n",
        "    if a == 0:\n",
        "        return a\n",
        "    a -= 1\n",
        "    similar_recursive_func(a)\n",
        "    return a\n"
      ]
    },
    {
      "cell_type": "markdown",
      "metadata": {
        "id": "jl02HeInzRp4"
      },
      "source": [
        "\n",
        "**Output:**\n",
        "\n"
      ]
    },
    {
      "cell_type": "code",
      "execution_count": null,
      "metadata": {
        "collapsed": true,
        "id": "dfdR9mmhzRp4",
        "outputId": "98d39833-6238-42bf-e035-192989f21b26"
      },
      "outputs": [
        {
          "data": {
            "text/plain": [
              "[0, 0]\n"
            ]
          },
          "output_type": "execute_result",
          "metadata": {},
          "execution_count": null
        }
      ],
      "source": [
        "some_recursive_func([5, 0])\n"
      ]
    },
    {
      "cell_type": "code",
      "execution_count": null,
      "metadata": {
        "collapsed": true,
        "id": "SevKCx0rzRp4",
        "outputId": "e615263d-795c-48df-aa39-eb114392aa94"
      },
      "outputs": [
        {
          "data": {
            "text/plain": [
              "4\n"
            ]
          },
          "output_type": "execute_result",
          "metadata": {},
          "execution_count": null
        }
      ],
      "source": [
        "similar_recursive_func(5)\n"
      ]
    },
    {
      "cell_type": "markdown",
      "metadata": {
        "id": "F0FSaphhzRp5"
      },
      "source": [
        "\n"
      ]
    },
    {
      "cell_type": "markdown",
      "metadata": {
        "id": "tbG1Sp0bzRp5"
      },
      "source": [
        "#### 💡 Explanation:\n",
        "\n",
        "* For 1, the correct statement for expected behavior is `x, y = (0, 1) if True else (None, None)`.\n",
        "\n",
        "* For 2, the correct statement for expected behavior is `t = ('one',)` or `t = 'one',` (missing comma) otherwise the interpreter considers `t` to be a `str` and iterates over it character by character.\n",
        "\n",
        "* `()` is a special token and denotes empty `tuple`.\n",
        "\n",
        "* In 3, as you might have already figured out, there's a missing comma after 5th element (`\"that\"`) in the list. So by implicit string literal concatenation,\n",
        "\n"
      ]
    },
    {
      "cell_type": "code",
      "execution_count": null,
      "metadata": {
        "collapsed": true,
        "id": "jn38dL3rzRp5",
        "outputId": "ea802d98-1a2b-4e69-cd95-b8b7e726dc00"
      },
      "outputs": [
        {
          "data": {
            "text/plain": [
              "  ['some', 'very', 'big', 'list', 'thatconsists', 'of', 'exactly', 'ten', 'words']\n"
            ]
          },
          "output_type": "execute_result",
          "metadata": {},
          "execution_count": null
        }
      ],
      "source": [
        "  ten_words_list\n"
      ]
    },
    {
      "cell_type": "markdown",
      "metadata": {
        "id": "E8UnP0kMzRp5"
      },
      "source": [
        "\n",
        "* No `AssertionError` was raised in 4th snippet because instead of asserting the individual expression `a == b`, we're asserting entire tuple. The following snippet will clear things up,\n",
        "\n"
      ]
    },
    {
      "cell_type": "code",
      "execution_count": null,
      "metadata": {
        "collapsed": true,
        "id": "Cxl5lWPHzRp6",
        "outputId": "2dc37a42-9e12-44b3-9df7-68cda3cba593"
      },
      "outputs": [
        {
          "data": {
            "text/plain": [
              "  Traceback (most recent call last):\n",
              "      File \"<stdin>\", line 1, in <module>\n",
              "  AssertionError\n",
              "  \n"
            ]
          },
          "output_type": "execute_result",
          "metadata": {},
          "execution_count": null
        }
      ],
      "source": [
        "  a = \"python\"\n",
        "  b = \"javascript\"\n",
        "  assert a == b\n"
      ]
    },
    {
      "cell_type": "code",
      "execution_count": null,
      "metadata": {
        "collapsed": true,
        "id": "rTih_xPSzRp6",
        "outputId": "65f85d26-7dc0-4474-bcc5-43ef2bd6311e"
      },
      "outputs": [
        {
          "data": {
            "text/plain": [
              "  <stdin>:1: SyntaxWarning: assertion is always true, perhaps remove parentheses?\n",
              "  \n"
            ]
          },
          "output_type": "execute_result",
          "metadata": {},
          "execution_count": null
        }
      ],
      "source": [
        "  assert (a == b, \"Values are not equal\")\n"
      ]
    },
    {
      "cell_type": "code",
      "execution_count": null,
      "metadata": {
        "collapsed": true,
        "id": "XxIYEsCLzRp7",
        "outputId": "13d1c70e-00a8-4b6f-bb4a-5c364a79e615"
      },
      "outputs": [
        {
          "data": {
            "text/plain": [
              "  Traceback (most recent call last):\n",
              "      File \"<stdin>\", line 1, in <module>\n",
              "  AssertionError: Values are not equal\n"
            ]
          },
          "output_type": "execute_result",
          "metadata": {},
          "execution_count": null
        }
      ],
      "source": [
        "  assert a == b, \"Values are not equal\"\n"
      ]
    },
    {
      "cell_type": "markdown",
      "metadata": {
        "id": "lghyj2o1zRp7"
      },
      "source": [
        "\n",
        "* As for the fifth snippet, most methods that modify the items of sequence/mapping objects like `list.append`, `dict.update`, `list.sort`, etc. modify the objects in-place and return `None`. The rationale behind this is to improve performance by avoiding making a copy of the object if the operation can be done in-place (Referred from [here](https://docs.python.org/3/faq/design.html#why-doesn-t-list-sort-return-the-sorted-list)).\n",
        "\n",
        "* Last one should be fairly obvious, mutable object (like `list`) can be altered in the function, and the reassignation of an immutable (`a -= 1`) is not an alteration of the value.\n",
        "\n",
        "* Being aware of these nitpicks can save you hours of debugging effort in the long run. \n",
        "\n"
      ]
    },
    {
      "cell_type": "markdown",
      "metadata": {
        "id": "_Yiuty1rzRp7"
      },
      "source": [
        "### ▶ Splitsies *\n"
      ]
    },
    {
      "cell_type": "code",
      "execution_count": null,
      "metadata": {
        "collapsed": true,
        "id": "tVO0R9HXzRp7",
        "outputId": "8cb2240c-ad9d-4bd8-8d2e-f7acf91dc2c4"
      },
      "outputs": [
        {
          "data": {
            "text/plain": [
              "['a']\n",
              "\n",
              "# is same as\n"
            ]
          },
          "output_type": "execute_result",
          "metadata": {},
          "execution_count": null
        }
      ],
      "source": [
        "'a'.split()\n"
      ]
    },
    {
      "cell_type": "code",
      "execution_count": null,
      "metadata": {
        "collapsed": true,
        "id": "91nPFVMizRp7",
        "outputId": "1080d174-0ee6-4d18-8ea3-94a166bed1de"
      },
      "outputs": [
        {
          "data": {
            "text/plain": [
              "['a']\n",
              "\n",
              "# but\n"
            ]
          },
          "output_type": "execute_result",
          "metadata": {},
          "execution_count": null
        }
      ],
      "source": [
        "'a'.split(' ')\n"
      ]
    },
    {
      "cell_type": "code",
      "execution_count": null,
      "metadata": {
        "collapsed": true,
        "id": "NuhYS0_ezRp7",
        "outputId": "746e16dc-816a-4819-e555-cf1d133651c9"
      },
      "outputs": [
        {
          "data": {
            "text/plain": [
              "0\n",
              "\n",
              "# isn't the same as\n"
            ]
          },
          "output_type": "execute_result",
          "metadata": {},
          "execution_count": null
        }
      ],
      "source": [
        "len(''.split())\n"
      ]
    },
    {
      "cell_type": "code",
      "execution_count": null,
      "metadata": {
        "collapsed": true,
        "id": "tWuWEP_PzRp7",
        "outputId": "4e7c705f-83bd-4f15-d540-9a2d95f49245"
      },
      "outputs": [
        {
          "data": {
            "text/plain": [
              "1\n"
            ]
          },
          "output_type": "execute_result",
          "metadata": {},
          "execution_count": null
        }
      ],
      "source": [
        "len(''.split(' '))\n"
      ]
    },
    {
      "cell_type": "markdown",
      "metadata": {
        "id": "DnnXkACWzRp7"
      },
      "source": [
        "\n"
      ]
    },
    {
      "cell_type": "markdown",
      "metadata": {
        "id": "WUuG7ioAzRp7"
      },
      "source": [
        "#### 💡 Explanation:\n",
        "\n",
        "- It might appear at first that the default separator for split is a single space `' '`, but as per the [docs](https://docs.python.org/3/library/stdtypes.html#str.split)\n",
        "    >  If sep is not specified or is `None`, a different splitting algorithm is applied: runs of consecutive whitespace are regarded as a single separator, and the result will contain no empty strings at the start or end if the string has leading or trailing whitespace. Consequently, splitting an empty string or a string consisting of just whitespace with a None separator returns `[]`.\n",
        "    > If sep is given, consecutive delimiters are not grouped together and are deemed to delimit empty strings (for example, `'1,,2'.split(',')` returns `['1', '', '2']`). Splitting an empty string with a specified separator returns `['']`.\n",
        "- Noticing how the leading and trailing whitespaces are handled in the following snippet will make things clear,\n"
      ]
    },
    {
      "cell_type": "code",
      "execution_count": null,
      "metadata": {
        "collapsed": true,
        "id": "NZ99vVUJzRp7",
        "outputId": "d47cb51c-6366-4f20-fad7-0fdf75a5b199"
      },
      "outputs": [
        {
          "data": {
            "text/plain": [
              "    ['', 'a', '']\n"
            ]
          },
          "output_type": "execute_result",
          "metadata": {},
          "execution_count": null
        }
      ],
      "source": [
        "    ' a '.split(' ')\n"
      ]
    },
    {
      "cell_type": "code",
      "execution_count": null,
      "metadata": {
        "collapsed": true,
        "id": "MTCiBDLozRp8",
        "outputId": "7b3c01c2-bc6b-47e9-c3af-9318a02809f3"
      },
      "outputs": [
        {
          "data": {
            "text/plain": [
              "    ['a']\n"
            ]
          },
          "output_type": "execute_result",
          "metadata": {},
          "execution_count": null
        }
      ],
      "source": [
        "    ' a '.split()\n"
      ]
    },
    {
      "cell_type": "code",
      "execution_count": null,
      "metadata": {
        "collapsed": true,
        "id": "IhMsmgnFzRp8",
        "outputId": "c01e0b8a-cb9c-49ce-8a1b-8a98795ebaf4"
      },
      "outputs": [
        {
          "data": {
            "text/plain": [
              "    ['']\n"
            ]
          },
          "output_type": "execute_result",
          "metadata": {},
          "execution_count": null
        }
      ],
      "source": [
        "    ''.split(' ')\n"
      ]
    },
    {
      "cell_type": "markdown",
      "metadata": {
        "id": "isc9xvOVzRp8"
      },
      "source": [
        "\n"
      ]
    },
    {
      "cell_type": "markdown",
      "metadata": {
        "id": "BT3lcYzKzRp8"
      },
      "source": [
        "### ▶ All sorted? *\n"
      ]
    },
    {
      "cell_type": "code",
      "execution_count": null,
      "metadata": {
        "collapsed": true,
        "id": "uo7uVd5UzRp8",
        "outputId": "bf204606-5be2-421b-a1fd-be76d0f7e022"
      },
      "outputs": [
        {
          "data": {
            "text/plain": [
              "False\n"
            ]
          },
          "output_type": "execute_result",
          "metadata": {},
          "execution_count": null
        }
      ],
      "source": [
        "x = 7, 8, 9\n",
        "sorted(x) == x\n"
      ]
    },
    {
      "cell_type": "code",
      "execution_count": null,
      "metadata": {
        "collapsed": true,
        "id": "yYq0KyvKzRp8",
        "outputId": "559eb4ce-5a2b-46b4-deab-8c5c50a2dc5d"
      },
      "outputs": [
        {
          "data": {
            "text/plain": [
              "True\n",
              "\n"
            ]
          },
          "output_type": "execute_result",
          "metadata": {},
          "execution_count": null
        }
      ],
      "source": [
        "sorted(x) == sorted(x)\n"
      ]
    },
    {
      "cell_type": "code",
      "execution_count": null,
      "metadata": {
        "collapsed": true,
        "id": "64xswqmjzRp8",
        "outputId": "56e593fd-b8fb-489a-ec22-024ef306f283"
      },
      "outputs": [
        {
          "data": {
            "text/plain": [
              "False\n"
            ]
          },
          "output_type": "execute_result",
          "metadata": {},
          "execution_count": null
        }
      ],
      "source": [
        "y = reversed(x)\n",
        "sorted(y) == sorted(y)\n"
      ]
    },
    {
      "cell_type": "markdown",
      "metadata": {
        "id": "MwOazRG7zRp8"
      },
      "source": [
        "\n"
      ]
    },
    {
      "cell_type": "markdown",
      "metadata": {
        "id": "x-O6fm4NzRp9"
      },
      "source": [
        "#### 💡 Explanation:\n",
        "\n",
        "- The `sorted` method always returns a list, and comparing lists and tuples always returns `False` in Python. \n",
        "\n",
        "- ```py\n",
        "  >>> [] == tuple()\n",
        "  False\n",
        "  >>> x = 7, 8, 9\n",
        "  >>> type(x), type(sorted(x))\n",
        "  (tuple, list)\n",
        "  ```\n",
        "\n",
        "- Unlike `sorted`, the `reversed` method returns an iterator. Why? Because sorting requires the iterator to be either modified in-place or use an extra container (a list), whereas reversing can simply work by iterating from the last index to the first.\n",
        "\n",
        "- So during comparison `sorted(y) == sorted(y)`, the first call to `sorted()` will consume the iterator `y`, and the next call will just return an empty list.\n",
        "\n"
      ]
    },
    {
      "cell_type": "code",
      "execution_count": null,
      "metadata": {
        "collapsed": true,
        "id": "pjPfqEphzRp9",
        "outputId": "0942f9cb-3e42-40e5-bf3e-22f881b788f9"
      },
      "outputs": [
        {
          "data": {
            "text/plain": [
              "  ([7, 8, 9], [])\n"
            ]
          },
          "output_type": "execute_result",
          "metadata": {},
          "execution_count": null
        }
      ],
      "source": [
        "  x = 7, 8, 9\n",
        "  y = reversed(x)\n",
        "  sorted(y), sorted(y)\n"
      ]
    },
    {
      "cell_type": "markdown",
      "metadata": {
        "id": "SBdj4gCvzRp9"
      },
      "source": [
        "\n"
      ]
    },
    {
      "cell_type": "markdown",
      "metadata": {
        "id": "4Mp2VX39zRp9"
      },
      "source": [
        "### ▶ Midnight time doesn't exist?\n"
      ]
    },
    {
      "cell_type": "code",
      "execution_count": null,
      "metadata": {
        "collapsed": true,
        "id": "O4F6ZU-gzRp9",
        "outputId": "4e8880cf-97e5-4471-bae3-6c9966084029"
      },
      "outputs": [
        {
          "data": {
            "text/plain": []
          },
          "output_type": "execute_result",
          "metadata": {},
          "execution_count": null
        }
      ],
      "source": [
        "from datetime import datetime\n",
        "\n",
        "midnight = datetime(2018, 1, 1, 0, 0)\n",
        "midnight_time = midnight.time()\n",
        "\n",
        "noon = datetime(2018, 1, 1, 12, 0)\n",
        "noon_time = noon.time()\n",
        "\n",
        "if midnight_time:\n",
        "    print(\"Time at midnight is\", midnight_time)\n",
        "\n",
        "if noon_time:\n",
        "    print(\"Time at noon is\", noon_time)\n"
      ]
    },
    {
      "cell_type": "markdown",
      "metadata": {
        "id": "cKY3nMI2zRp9"
      },
      "source": [
        "\n",
        "**Output (< 3.5):**\n",
        "\n"
      ]
    },
    {
      "cell_type": "code",
      "execution_count": null,
      "metadata": {
        "collapsed": true,
        "id": "8sPaOWgfzRp9",
        "outputId": "451af76f-444c-478f-d75b-de8b42ad3236"
      },
      "outputs": [
        {
          "data": {
            "text/plain": []
          },
          "output_type": "execute_result",
          "metadata": {},
          "execution_count": null
        }
      ],
      "source": [
        "('Time at noon is', datetime.time(12, 0))\n"
      ]
    },
    {
      "cell_type": "markdown",
      "metadata": {
        "id": "BUYkjIayzRp9"
      },
      "source": [
        "The midnight time is not printed.\n",
        "\n"
      ]
    },
    {
      "cell_type": "markdown",
      "metadata": {
        "id": "XeXiNmzwzRp9"
      },
      "source": [
        "#### 💡 Explanation:\n",
        "\n",
        "Before Python 3.5, the boolean value for `datetime.time` object was considered to be `False` if it represented midnight in UTC. It is error-prone when using the `if obj:` syntax to check if the `obj` is null or some equivalent of \"empty.\"\n",
        "\n"
      ]
    },
    {
      "cell_type": "markdown",
      "metadata": {
        "id": "gqnvHbfYzRp9"
      },
      "source": [
        "### ▶ Okay Python, Can you make me fly?\n",
        "Well, here you go\n",
        "\n"
      ]
    },
    {
      "cell_type": "code",
      "execution_count": null,
      "metadata": {
        "collapsed": true,
        "id": "NM9ZPE0GzRp9",
        "outputId": "4b5cb87b-5ca7-4559-e741-8f0f589eae8d"
      },
      "outputs": [
        {
          "data": {
            "text/plain": []
          },
          "output_type": "execute_result",
          "metadata": {},
          "execution_count": null
        }
      ],
      "source": [
        "import antigravity\n"
      ]
    },
    {
      "cell_type": "markdown",
      "metadata": {
        "id": "TzVguCNGzRp-"
      },
      "source": [
        "\n",
        "**Output:**\n",
        "Sshh... It's a super-secret.\n",
        "\n"
      ]
    },
    {
      "cell_type": "markdown",
      "metadata": {
        "id": "srKjUpZ-zRp-"
      },
      "source": [
        "#### 💡 Explanation:\n",
        "+ `antigravity` module is one of the few easter eggs released by Python developers.\n",
        "+ `import antigravity` opens up a web browser pointing to the [classic XKCD comic](https://xkcd.com/353/) about Python.\n",
        "+ Well, there's more to it. There's **another easter egg inside the easter egg**. If you look at the [code](https://github.com/python/cpython/blob/master/Lib/antigravity.py#L7-L17), there's a function defined that purports to implement the [XKCD's geohashing algorithm](https://xkcd.com/426/).\n",
        "\n"
      ]
    },
    {
      "cell_type": "markdown",
      "metadata": {
        "id": "Tslpwvg_zRp-"
      },
      "source": [
        "### ▶ `goto`, but why?\n"
      ]
    },
    {
      "cell_type": "code",
      "metadata": {
        "collapsed": true,
        "id": "K8vXTyL7zRp-",
        "outputId": "2fc12122-f8cb-4c78-f38e-87b27795b237"
      },
      "execution_count": null,
      "outputs": [
        {
          "name": "stdout",
          "output_type": "stream",
          "text": []
        }
      ],
      "source": [
        "from goto import goto, label\n",
        "for i in range(9):\n",
        "    for j in range(9):\n",
        "        for k in range(9):\n",
        "            print(\"I am trapped, please rescue!\")\n",
        "            if k == 2:\n",
        "                goto .breakout # breaking out from a deeply nested loop\n",
        "label .breakout\n",
        "print(\"Freedom!\")\n"
      ]
    },
    {
      "cell_type": "markdown",
      "metadata": {
        "id": "UxXnj6rGzRp-"
      },
      "source": [
        "\n",
        "**Output (Python 2.3):**\n"
      ]
    },
    {
      "cell_type": "code",
      "execution_count": null,
      "metadata": {
        "collapsed": true,
        "id": "s9Irq8vAzRp-",
        "outputId": "ab30d5db-79f4-41fe-aa78-539e0ef05b19"
      },
      "outputs": [
        {
          "data": {
            "text/plain": []
          },
          "output_type": "execute_result",
          "metadata": {},
          "execution_count": null
        }
      ],
      "source": [
        "I am trapped, please rescue!\n",
        "I am trapped, please rescue!\n",
        "Freedom!\n"
      ]
    },
    {
      "cell_type": "markdown",
      "metadata": {
        "id": "Y6pMa1gnzRp-"
      },
      "source": [
        "\n"
      ]
    },
    {
      "cell_type": "markdown",
      "metadata": {
        "id": "_4rMkZVGzRp-"
      },
      "source": [
        "#### 💡 Explanation:\n",
        "- A working version of `goto` in Python was [announced](https://mail.python.org/pipermail/python-announce-list/2004-April/002982.html) as an April Fool's joke on 1st April 2004.\n",
        "- Current versions of Python do not have this module.\n",
        "- Although it works, but please don't use it. Here's the [reason](https://docs.python.org/3/faq/design.html#why-is-there-no-goto) to why `goto` is not present in Python.\n",
        "\n"
      ]
    },
    {
      "cell_type": "markdown",
      "metadata": {
        "id": "-f5jrIsfzRp-"
      },
      "source": [
        "### ▶ Brace yourself!\n",
        "If you are one of the people who doesn't like using whitespace in Python to denote scopes, you can use the C-style {} by importing,\n",
        "\n"
      ]
    },
    {
      "cell_type": "code",
      "execution_count": null,
      "metadata": {
        "collapsed": true,
        "id": "TQqRmtkrzRp-",
        "outputId": "b76ffbc6-fc52-429c-f1c1-01c6f30e5bb1"
      },
      "outputs": [
        {
          "data": {
            "text/plain": []
          },
          "output_type": "execute_result",
          "metadata": {},
          "execution_count": null
        }
      ],
      "source": [
        "from __future__ import braces\n"
      ]
    },
    {
      "cell_type": "markdown",
      "metadata": {
        "id": "hIqhJvmDzRp-"
      },
      "source": [
        "\n",
        "**Output:**\n"
      ]
    },
    {
      "cell_type": "code",
      "execution_count": null,
      "metadata": {
        "collapsed": true,
        "id": "9WL5oiYczRp-",
        "outputId": "f7c4c727-6b26-41a2-c308-d79dd6b27160"
      },
      "outputs": [
        {
          "data": {
            "text/plain": []
          },
          "output_type": "execute_result",
          "metadata": {},
          "execution_count": null
        }
      ],
      "source": [
        "  File \"some_file.py\", line 1\n",
        "    from __future__ import braces\n",
        "SyntaxError: not a chance\n"
      ]
    },
    {
      "cell_type": "markdown",
      "metadata": {
        "id": "dlW8IchJzRp_"
      },
      "source": [
        "\n",
        "Braces? No way! If you think that's disappointing, use Java. Okay, another surprising thing, can you find where's the `SyntaxError` raised in `__future__` module [code](https://github.com/python/cpython/blob/master/Lib/__future__.py)?\n",
        "\n"
      ]
    },
    {
      "cell_type": "markdown",
      "metadata": {
        "id": "oEEFrYl9zRp_"
      },
      "source": [
        "#### 💡 Explanation:\n",
        "+ The `__future__` module is normally used to provide features from future versions of Python. The \"future\" in this specific context is however, ironic.\n",
        "+ This is an easter egg concerned with the community's feelings on this issue.\n",
        "+ The code is actually present [here](https://github.com/python/cpython/blob/025eb98dc0c1dc27404df6c544fc2944e0fa9f3a/Python/future.c#L49) in `future.c` file.\n",
        "+ When the CPython compiler encounters a [future statement](https://docs.python.org/3.3/reference/simple_stmts.html#future-statements), it first runs the appropriate code in `future.c` before treating it as a normal import statement.\n",
        "\n"
      ]
    },
    {
      "cell_type": "markdown",
      "metadata": {
        "id": "yol3TDvkzRp_"
      },
      "source": [
        "### ▶ Let's meet Friendly Language Uncle For Life\n",
        "**Output (Python 3.x)**\n"
      ]
    },
    {
      "cell_type": "code",
      "execution_count": null,
      "metadata": {
        "collapsed": true,
        "id": "uZlkjYzyzRp_",
        "outputId": "18d48f2f-9317-43dc-ba6f-23c345f8d59e"
      },
      "outputs": [
        {
          "data": {
            "text/plain": [
              "  File \"some_file.py\", line 1\n",
              "    \"Ruby\" != \"Python\"\n",
              "              ^\n",
              "SyntaxError: invalid syntax\n",
              "\n"
            ]
          },
          "output_type": "execute_result",
          "metadata": {},
          "execution_count": null
        }
      ],
      "source": [
        "from __future__ import barry_as_FLUFL\n",
        "\"Ruby\" != \"Python\" # there's no doubt about it\n"
      ]
    },
    {
      "cell_type": "code",
      "execution_count": null,
      "metadata": {
        "collapsed": true,
        "id": "Klz4C9hTzRp_",
        "outputId": "13803be8-53b4-400b-b24a-6e91100c01f7"
      },
      "outputs": [
        {
          "data": {
            "text/plain": [
              "True\n"
            ]
          },
          "output_type": "execute_result",
          "metadata": {},
          "execution_count": null
        }
      ],
      "source": [
        "\"Ruby\" <> \"Python\"\n"
      ]
    },
    {
      "cell_type": "markdown",
      "metadata": {
        "id": "jLtnyeuJzRp_"
      },
      "source": [
        "\n",
        "There we go.\n",
        "\n"
      ]
    },
    {
      "cell_type": "markdown",
      "metadata": {
        "id": "xg0RkEgRzRp_"
      },
      "source": [
        "#### 💡 Explanation:\n",
        "- This is relevant to [PEP-401](https://www.python.org/dev/peps/pep-0401/) released on April 1, 2009 (now you know, what it means).\n",
        "- Quoting from the PEP-401\n",
        "  \n",
        "  > Recognized that the != inequality operator in Python 3.0 was a horrible, finger-pain inducing mistake, the FLUFL reinstates the <> diamond operator as the sole spelling.\n",
        "- There were more things that Uncle Barry had to share in the PEP; you can read them [here](https://www.python.org/dev/peps/pep-0401/).\n",
        "- It works well in an interactive environment, but it will raise a `SyntaxError` when you run via python file (see this [issue](https://github.com/satwikkansal/wtfpython/issues/94)). However, you can wrap the statement inside an `eval` or `compile` to get it working,\n"
      ]
    },
    {
      "cell_type": "code",
      "execution_count": null,
      "metadata": {
        "collapsed": true,
        "id": "E0kzGLHmzRp_",
        "outputId": "aa41b2c3-6c5d-4acb-b89d-24b19fd8eeec"
      },
      "outputs": [
        {
          "data": {
            "text/plain": []
          },
          "output_type": "execute_result",
          "metadata": {},
          "execution_count": null
        }
      ],
      "source": [
        "    from __future__ import barry_as_FLUFL\n",
        "    print(eval('\"Ruby\" <> \"Python\"'))\n"
      ]
    },
    {
      "cell_type": "markdown",
      "metadata": {
        "id": "XAjyYAeHzRp_"
      },
      "source": [
        "\n"
      ]
    },
    {
      "cell_type": "markdown",
      "metadata": {
        "id": "3tICh2eUzRp_"
      },
      "source": [
        "### ▶ Even Python understands that love is complicated\n"
      ]
    },
    {
      "cell_type": "code",
      "execution_count": null,
      "metadata": {
        "collapsed": true,
        "id": "CtkyJARHzRp_",
        "outputId": "b5ae6bf0-d0c0-4673-a355-efd88d05f65c"
      },
      "outputs": [
        {
          "data": {
            "text/plain": []
          },
          "output_type": "execute_result",
          "metadata": {},
          "execution_count": null
        }
      ],
      "source": [
        "import this\n"
      ]
    },
    {
      "cell_type": "markdown",
      "metadata": {
        "id": "er-6Ev0LzRqA"
      },
      "source": [
        "\n",
        "Wait, what's **this**? `this` is love :heart:\n",
        "\n",
        "**Output:**\n",
        "```\n",
        "The Zen of Python, by Tim Peters\n",
        "\n",
        "Beautiful is better than ugly.\n",
        "Explicit is better than implicit.\n",
        "Simple is better than complex.\n",
        "Complex is better than complicated.\n",
        "Flat is better than nested.\n",
        "Sparse is better than dense.\n",
        "Readability counts.\n",
        "Special cases aren't special enough to break the rules.\n",
        "Although practicality beats purity.\n",
        "Errors should never pass silently.\n",
        "Unless explicitly silenced.\n",
        "In the face of ambiguity, refuse the temptation to guess.\n",
        "There should be one-- and preferably only one --obvious way to do it.\n",
        "Although that way may not be obvious at first unless you're Dutch.\n",
        "Now is better than never.\n",
        "Although never is often better than *right* now.\n",
        "If the implementation is hard to explain, it's a bad idea.\n",
        "If the implementation is easy to explain, it may be a good idea.\n",
        "Namespaces are one honking great idea -- let's do more of those!\n",
        "```\n",
        "\n",
        "It's the Zen of Python!\n",
        "\n"
      ]
    },
    {
      "cell_type": "code",
      "execution_count": null,
      "metadata": {
        "collapsed": true,
        "id": "2hAha4cozRqA",
        "outputId": "3419ed47-088d-476d-9b74-e79e0df85d60"
      },
      "outputs": [
        {
          "data": {
            "text/plain": [
              "True\n"
            ]
          },
          "output_type": "execute_result",
          "metadata": {},
          "execution_count": null
        }
      ],
      "source": [
        "love = this\n",
        "this is love\n"
      ]
    },
    {
      "cell_type": "code",
      "execution_count": null,
      "metadata": {
        "collapsed": true,
        "id": "nXrpXysWzRqA",
        "outputId": "51925c2b-1ec6-4e40-e3b1-06769e02d1c7"
      },
      "outputs": [
        {
          "data": {
            "text/plain": [
              "False\n"
            ]
          },
          "output_type": "execute_result",
          "metadata": {},
          "execution_count": null
        }
      ],
      "source": [
        "love is True\n"
      ]
    },
    {
      "cell_type": "code",
      "execution_count": null,
      "metadata": {
        "collapsed": true,
        "id": "ksnRUVL-zRqA",
        "outputId": "3d9a712c-8395-42ab-e0e1-10bff021ecf2"
      },
      "outputs": [
        {
          "data": {
            "text/plain": [
              "False\n"
            ]
          },
          "output_type": "execute_result",
          "metadata": {},
          "execution_count": null
        }
      ],
      "source": [
        "love is False\n"
      ]
    },
    {
      "cell_type": "code",
      "execution_count": null,
      "metadata": {
        "collapsed": true,
        "id": "EW3ojsCQzRqA",
        "outputId": "6afe08a5-2308-42d6-a4dd-b5c1ec0b1ca0"
      },
      "outputs": [
        {
          "data": {
            "text/plain": [
              "True\n"
            ]
          },
          "output_type": "execute_result",
          "metadata": {},
          "execution_count": null
        }
      ],
      "source": [
        "love is not True or False\n"
      ]
    },
    {
      "cell_type": "code",
      "execution_count": null,
      "metadata": {
        "collapsed": true,
        "id": "Kwta-pJmzRqA",
        "outputId": "91804dae-e51b-427b-84cb-1356538c94bb"
      },
      "outputs": [
        {
          "data": {
            "text/plain": [
              "True\n"
            ]
          },
          "output_type": "execute_result",
          "metadata": {},
          "execution_count": null
        }
      ],
      "source": [
        "love is not True or False; love is love  # Love is complicated\n"
      ]
    },
    {
      "cell_type": "markdown",
      "metadata": {
        "id": "ZkNjI8BGzRqA"
      },
      "source": [
        "\n"
      ]
    },
    {
      "cell_type": "markdown",
      "metadata": {
        "id": "XjgrbTrozRqA"
      },
      "source": [
        "#### 💡 Explanation:\n",
        "\n",
        "* `this` module in Python is an easter egg for The Zen Of Python ([PEP 20](https://www.python.org/dev/peps/pep-0020)).\n",
        "* And if you think that's already interesting enough, check out the implementation of [this.py](https://hg.python.org/cpython/file/c3896275c0f6/Lib/this.py). Interestingly, **the code for the Zen violates itself** (and that's probably the only place where this happens).\n",
        "* Regarding the statement `love is not True or False; love is love`, ironic but it's self-explanatory (if not, please see the examples related to `is` and `is not` operators).\n",
        "\n"
      ]
    },
    {
      "cell_type": "markdown",
      "metadata": {
        "id": "vqRLmUB3zRqA"
      },
      "source": [
        "### ▶ Yes, it exists!\n",
        "**The `else` clause for loops.** One typical example might be:\n",
        "\n"
      ]
    },
    {
      "cell_type": "code",
      "execution_count": null,
      "metadata": {
        "collapsed": true,
        "id": "fR_Wme32zRqA",
        "outputId": "a2559bfe-a1c0-42ea-9edc-c3114503d82a"
      },
      "outputs": [
        {
          "data": {
            "text/plain": []
          },
          "output_type": "execute_result",
          "metadata": {},
          "execution_count": null
        }
      ],
      "source": [
        "  def does_exists_num(l, to_find):\n",
        "      for num in l:\n",
        "          if num == to_find:\n",
        "              print(\"Exists!\")\n",
        "              break\n",
        "      else:\n",
        "          print(\"Does not exist\")\n"
      ]
    },
    {
      "cell_type": "markdown",
      "metadata": {
        "id": "0lMg2eQTzRqB"
      },
      "source": [
        "\n",
        "**Output:**\n"
      ]
    },
    {
      "cell_type": "code",
      "execution_count": null,
      "metadata": {
        "collapsed": true,
        "id": "f7zTWrx8zRqB",
        "outputId": "bef7ddc0-a90c-4261-de8f-e015468e0a8f"
      },
      "outputs": [
        {
          "data": {
            "text/plain": [
              "Exists!\n"
            ]
          },
          "output_type": "execute_result",
          "metadata": {},
          "execution_count": null
        }
      ],
      "source": [
        "some_list = [1, 2, 3, 4, 5]\n",
        "does_exists_num(some_list, 4)\n"
      ]
    },
    {
      "cell_type": "code",
      "execution_count": null,
      "metadata": {
        "collapsed": true,
        "id": "FQwC3o7QzRqB",
        "outputId": "cb941a90-2976-4f65-9872-d31e1eb9333c"
      },
      "outputs": [
        {
          "data": {
            "text/plain": [
              "Does not exist\n"
            ]
          },
          "output_type": "execute_result",
          "metadata": {},
          "execution_count": null
        }
      ],
      "source": [
        "does_exists_num(some_list, -1)\n"
      ]
    },
    {
      "cell_type": "markdown",
      "metadata": {
        "id": "N8jFBb27zRqB"
      },
      "source": [
        "\n",
        "**The `else` clause in exception handling.** An example,\n",
        "\n"
      ]
    },
    {
      "cell_type": "code",
      "execution_count": null,
      "metadata": {
        "collapsed": true,
        "id": "v9-SBLCVzRqB",
        "outputId": "02b2e282-d71c-4b09-fca5-c65b9ee4654d"
      },
      "outputs": [
        {
          "data": {
            "text/plain": []
          },
          "output_type": "execute_result",
          "metadata": {},
          "execution_count": null
        }
      ],
      "source": [
        "try:\n",
        "    pass\n",
        "except:\n",
        "    print(\"Exception occurred!!!\")\n",
        "else:\n",
        "    print(\"Try block executed successfully...\")\n"
      ]
    },
    {
      "cell_type": "markdown",
      "metadata": {
        "id": "QX59F6OMzRqB"
      },
      "source": [
        "\n",
        "**Output:**\n"
      ]
    },
    {
      "cell_type": "code",
      "execution_count": null,
      "metadata": {
        "collapsed": true,
        "id": "7xk1FU4wzRqB",
        "outputId": "52e94064-2624-433a-dafc-e2a493db5f55"
      },
      "outputs": [
        {
          "data": {
            "text/plain": []
          },
          "output_type": "execute_result",
          "metadata": {},
          "execution_count": null
        }
      ],
      "source": [
        "Try block executed successfully...\n"
      ]
    },
    {
      "cell_type": "markdown",
      "metadata": {
        "id": "usZfVKEyzRqB"
      },
      "source": [
        "\n"
      ]
    },
    {
      "cell_type": "markdown",
      "metadata": {
        "id": "_CqwWDcXzRqB"
      },
      "source": [
        "#### 💡 Explanation:\n",
        "- The `else` clause after a loop is executed only when there's no explicit `break` after all the iterations. You can think of it as a \"nobreak\" clause.\n",
        "- `else` clause after a try block is also called \"completion clause\" as reaching the `else` clause in a `try` statement means that the try block actually completed successfully.\n",
        "\n"
      ]
    },
    {
      "cell_type": "markdown",
      "metadata": {
        "id": "HT-RPXj-zRqB"
      },
      "source": [
        "### ▶ Ellipsis *\n"
      ]
    },
    {
      "cell_type": "code",
      "execution_count": null,
      "metadata": {
        "collapsed": true,
        "id": "p3_q8XZbzRqB",
        "outputId": "1c081335-68ed-4cd0-fd68-2e4f12f94b54"
      },
      "outputs": [
        {
          "data": {
            "text/plain": []
          },
          "output_type": "execute_result",
          "metadata": {},
          "execution_count": null
        }
      ],
      "source": [
        "def some_func():\n",
        "    Ellipsis\n"
      ]
    },
    {
      "cell_type": "markdown",
      "metadata": {
        "id": "jCWAo-dJzRqC"
      },
      "source": [
        "\n",
        "**Output**\n"
      ]
    },
    {
      "cell_type": "code",
      "execution_count": null,
      "metadata": {
        "collapsed": true,
        "id": "c5oINUHKzRqC",
        "outputId": "88a629d2-06a2-498f-e2cc-195f72e8dac5"
      },
      "outputs": [
        {
          "data": {
            "text/plain": [
              "# No output, No Error\n",
              "\n"
            ]
          },
          "output_type": "execute_result",
          "metadata": {},
          "execution_count": null
        }
      ],
      "source": [
        "some_func()\n"
      ]
    },
    {
      "cell_type": "code",
      "execution_count": null,
      "metadata": {
        "collapsed": true,
        "id": "VHBRS0SCzRqC",
        "outputId": "93fc339d-3402-4ba0-e2de-7b0e8ec6e49b"
      },
      "outputs": [
        {
          "data": {
            "text/plain": [
              "Traceback (most recent call last):\n",
              "  File \"<stdin>\", line 1, in <module>\n",
              "NameError: name 'SomeRandomString' is not defined\n",
              "\n"
            ]
          },
          "output_type": "execute_result",
          "metadata": {},
          "execution_count": null
        }
      ],
      "source": [
        "SomeRandomString\n"
      ]
    },
    {
      "cell_type": "code",
      "execution_count": null,
      "metadata": {
        "collapsed": true,
        "id": "e8-K_wfdzRqC",
        "outputId": "7d5e1672-4567-4148-c7f3-d2ef16486bb8"
      },
      "outputs": [
        {
          "data": {
            "text/plain": [
              "Ellipsis\n"
            ]
          },
          "output_type": "execute_result",
          "metadata": {},
          "execution_count": null
        }
      ],
      "source": [
        "Ellipsis\n"
      ]
    },
    {
      "cell_type": "markdown",
      "metadata": {
        "id": "rWhw7EM5zRqC"
      },
      "source": [
        "\n"
      ]
    },
    {
      "cell_type": "markdown",
      "metadata": {
        "id": "fRha9eyfzRqC"
      },
      "source": [
        "#### 💡 Explanation\n",
        "- In Python, `Ellipsis` is a globally available built-in object which is equivalent to `...`.\n"
      ]
    },
    {
      "cell_type": "code",
      "execution_count": null,
      "metadata": {
        "collapsed": true,
        "id": "WK1l_VydzRqC",
        "outputId": "794e9681-c2d3-461f-c44e-47beeea7fc6c"
      },
      "outputs": [
        {
          "data": {
            "text/plain": [
              "    Ellipsis\n"
            ]
          },
          "output_type": "execute_result",
          "metadata": {},
          "execution_count": null
        }
      ],
      "source": [
        "    ...\n"
      ]
    },
    {
      "cell_type": "markdown",
      "metadata": {
        "id": "fM1ZqfgLzRqC"
      },
      "source": [
        "- Eliipsis can be used for several purposes,\n",
        "    + As a placeholder for code that hasn't been written yet (just like `pass` statement)\n",
        "    + In slicing syntax to represent the full slices in remaining direction\n"
      ]
    },
    {
      "cell_type": "code",
      "execution_count": null,
      "metadata": {
        "collapsed": true,
        "id": "3AlaP5kHzRqC",
        "outputId": "886ed954-3b96-4506-9b7d-645339864f29"
      },
      "outputs": [
        {
          "data": {
            "text/plain": [
              "    array([\n",
              "        [\n",
              "            [0, 1],\n",
              "            [2, 3]\n",
              "        ],\n",
              "\n",
              "        [\n",
              "            [4, 5],\n",
              "            [6, 7]\n",
              "        ]\n",
              "    ])\n"
            ]
          },
          "output_type": "execute_result",
          "metadata": {},
          "execution_count": null
        }
      ],
      "source": [
        "    import numpy as np\n",
        "    three_dimensional_array = np.arange(8).reshape(2, 2, 2)\n"
      ]
    },
    {
      "cell_type": "markdown",
      "metadata": {
        "id": "KW8e-6OCzRqC"
      },
      "source": [
        "    So our `three_dimensional_array` is an array of array of arrays. Let's say we want to print the second element (index `1`) of all the innermost arrays, we can use Ellipsis to bypass all the preceding dimensions\n"
      ]
    },
    {
      "cell_type": "code",
      "execution_count": null,
      "metadata": {
        "collapsed": true,
        "id": "qs8uTf5UzRqC",
        "outputId": "86824ad2-d5c4-4585-cef6-1c2aacaf42a4"
      },
      "outputs": [
        {
          "data": {
            "text/plain": [
              "    array([[1, 3],\n",
              "       [5, 7]])\n"
            ]
          },
          "output_type": "execute_result",
          "metadata": {},
          "execution_count": null
        }
      ],
      "source": [
        "    three_dimensional_array[:,:,1]\n"
      ]
    },
    {
      "cell_type": "code",
      "execution_count": null,
      "metadata": {
        "collapsed": true,
        "id": "YqM6gM0-zRqC",
        "outputId": "62e23682-c647-4032-d372-62aa879ea73e"
      },
      "outputs": [
        {
          "data": {
            "text/plain": [
              "    array([[1, 3],\n",
              "       [5, 7]])\n"
            ]
          },
          "output_type": "execute_result",
          "metadata": {},
          "execution_count": null
        }
      ],
      "source": [
        "    three_dimensional_array[..., 1] # using Ellipsis.\n"
      ]
    },
    {
      "cell_type": "markdown",
      "metadata": {
        "id": "HSmJ1aMLzRqD"
      },
      "source": [
        "    Note: this will work for any number of dimensions. You can even select slice in first and last dimension and ignore the middle ones this way (`n_dimensional_array[firs_dim_slice, ..., last_dim_slice]`)\n",
        "    + In [type hinting](https://docs.python.org/3/library/typing.html) to indicate only a part of the type (like `(Callable[..., int]` or `Tuple[str, ...]`))\n",
        "    + You may also use Ellipsis as a default function argument (in the cases when you want to differentiate between the \"no argument passed\" and \"None value passed\" scenarios).\n",
        "\n"
      ]
    },
    {
      "cell_type": "markdown",
      "metadata": {
        "id": "TPihOsU-zRqD"
      },
      "source": [
        "### ▶ Inpinity\n",
        "The spelling is intended. Please, don't submit a patch for this.\n",
        "\n",
        "**Output (Python 3.x):**\n"
      ]
    },
    {
      "cell_type": "code",
      "execution_count": null,
      "metadata": {
        "collapsed": true,
        "id": "NZV0xBHuzRqD",
        "outputId": "7ef190d9-7ef8-49ba-dfee-86045ab23c34"
      },
      "outputs": [
        {
          "data": {
            "text/plain": [
              "314159\n"
            ]
          },
          "output_type": "execute_result",
          "metadata": {},
          "execution_count": null
        }
      ],
      "source": [
        "infinity = float('infinity')\n",
        "hash(infinity)\n"
      ]
    },
    {
      "cell_type": "code",
      "execution_count": null,
      "metadata": {
        "collapsed": true,
        "id": "ozwugndPzRqD",
        "outputId": "d95b09a4-130b-44ec-e5cc-3da6b8175ca6"
      },
      "outputs": [
        {
          "data": {
            "text/plain": [
              "-314159\n"
            ]
          },
          "output_type": "execute_result",
          "metadata": {},
          "execution_count": null
        }
      ],
      "source": [
        "hash(float('-inf'))\n"
      ]
    },
    {
      "cell_type": "markdown",
      "metadata": {
        "id": "xzk4ov68zRqD"
      },
      "source": [
        "\n"
      ]
    },
    {
      "cell_type": "markdown",
      "metadata": {
        "id": "FPqjND-MzRqD"
      },
      "source": [
        "#### 💡 Explanation:\n",
        "- Hash of infinity is 10⁵ x π.\n",
        "- Interestingly, the hash of `float('-inf')` is \"-10⁵ x π\" in Python 3, whereas \"-10⁵ x e\" in Python 2.\n",
        "\n"
      ]
    },
    {
      "cell_type": "markdown",
      "metadata": {
        "id": "fZLbNmprzRqD"
      },
      "source": [
        "### ▶ Let's mangle\n",
        "1\\.\n"
      ]
    },
    {
      "cell_type": "code",
      "execution_count": null,
      "metadata": {
        "collapsed": true,
        "id": "3oF_meSuzRqD",
        "outputId": "71fdb4f5-4d4c-435c-9bad-4364a76618d6"
      },
      "outputs": [
        {
          "data": {
            "text/plain": []
          },
          "output_type": "execute_result",
          "metadata": {},
          "execution_count": null
        }
      ],
      "source": [
        "class Yo(object):\n",
        "    def __init__(self):\n",
        "        self.__honey = True\n",
        "        self.bro = True\n"
      ]
    },
    {
      "cell_type": "markdown",
      "metadata": {
        "id": "0c-kd-BqzRqE"
      },
      "source": [
        "\n",
        "**Output:**\n"
      ]
    },
    {
      "cell_type": "code",
      "execution_count": null,
      "metadata": {
        "collapsed": true,
        "id": "Hae-QJA7zRqE",
        "outputId": "7a02256a-79bd-418c-ade9-a7952b6e316d"
      },
      "outputs": [
        {
          "data": {
            "text/plain": [
              "True\n"
            ]
          },
          "output_type": "execute_result",
          "metadata": {},
          "execution_count": null
        }
      ],
      "source": [
        "Yo().bro\n"
      ]
    },
    {
      "cell_type": "code",
      "execution_count": null,
      "metadata": {
        "collapsed": true,
        "id": "bX3uJm6rzRqE",
        "outputId": "30d4f42e-1735-46e6-e342-54a4fcec72eb"
      },
      "outputs": [
        {
          "data": {
            "text/plain": [
              "AttributeError: 'Yo' object has no attribute '__honey'\n"
            ]
          },
          "output_type": "execute_result",
          "metadata": {},
          "execution_count": null
        }
      ],
      "source": [
        "Yo().__honey\n"
      ]
    },
    {
      "cell_type": "code",
      "execution_count": null,
      "metadata": {
        "collapsed": true,
        "id": "Lb2nEkRVzRqE",
        "outputId": "f812f53d-b9aa-461d-85d6-267a35f4c2ea"
      },
      "outputs": [
        {
          "data": {
            "text/plain": [
              "True\n"
            ]
          },
          "output_type": "execute_result",
          "metadata": {},
          "execution_count": null
        }
      ],
      "source": [
        "Yo()._Yo__honey\n"
      ]
    },
    {
      "cell_type": "markdown",
      "metadata": {
        "id": "43JTUnTOzRqE"
      },
      "source": [
        "\n",
        "2\\.\n"
      ]
    },
    {
      "cell_type": "code",
      "execution_count": null,
      "metadata": {
        "collapsed": true,
        "id": "9JbsdhHbzRqE",
        "outputId": "0c38c37b-86de-452b-dc72-c2942e6d49ae"
      },
      "outputs": [
        {
          "data": {
            "text/plain": []
          },
          "output_type": "execute_result",
          "metadata": {},
          "execution_count": null
        }
      ],
      "source": [
        "class Yo(object):\n",
        "    def __init__(self):\n",
        "        # Let's try something symmetrical this time\n",
        "        self.__honey__ = True\n",
        "        self.bro = True\n"
      ]
    },
    {
      "cell_type": "markdown",
      "metadata": {
        "id": "U18OOvaLzRqE"
      },
      "source": [
        "\n",
        "**Output:**\n"
      ]
    },
    {
      "cell_type": "code",
      "execution_count": null,
      "metadata": {
        "collapsed": true,
        "id": "Af4kpcn_zRqE",
        "outputId": "48403384-5051-4399-d485-7a41481ac802"
      },
      "outputs": [
        {
          "data": {
            "text/plain": [
              "True\n",
              "\n"
            ]
          },
          "output_type": "execute_result",
          "metadata": {},
          "execution_count": null
        }
      ],
      "source": [
        "Yo().bro\n"
      ]
    },
    {
      "cell_type": "code",
      "execution_count": null,
      "metadata": {
        "collapsed": true,
        "id": "LRUvsVPIzRqF",
        "outputId": "0c594a63-0842-4526-dfdc-440db3d28b13"
      },
      "outputs": [
        {
          "data": {
            "text/plain": [
              "Traceback (most recent call last):\n",
              "  File \"<stdin>\", line 1, in <module>\n",
              "AttributeError: 'Yo' object has no attribute '_Yo__honey__'\n"
            ]
          },
          "output_type": "execute_result",
          "metadata": {},
          "execution_count": null
        }
      ],
      "source": [
        "Yo()._Yo__honey__\n"
      ]
    },
    {
      "cell_type": "markdown",
      "metadata": {
        "id": "a_jcWvKTzRqF"
      },
      "source": [
        "\n",
        "Why did `Yo()._Yo__honey` work?\n",
        "\n",
        "3\\.\n",
        "\n"
      ]
    },
    {
      "cell_type": "code",
      "execution_count": null,
      "metadata": {
        "collapsed": true,
        "id": "jSkGhwqpzRqF",
        "outputId": "cae76b57-f0dc-459f-87af-59413e1f1a27"
      },
      "outputs": [
        {
          "data": {
            "text/plain": []
          },
          "output_type": "execute_result",
          "metadata": {},
          "execution_count": null
        }
      ],
      "source": [
        "_A__variable = \"Some value\"\n",
        "\n",
        "class A(object):\n",
        "    def some_func(self):\n",
        "        return __variable # not initialized anywhere yet\n"
      ]
    },
    {
      "cell_type": "markdown",
      "metadata": {
        "id": "G9Cd6WQRzRqF"
      },
      "source": [
        "\n",
        "**Output:**\n"
      ]
    },
    {
      "cell_type": "code",
      "execution_count": null,
      "metadata": {
        "collapsed": true,
        "id": "XSWE-M9fzRqF",
        "outputId": "3dcaed89-aed2-48fe-bffc-489f0e55ab9b"
      },
      "outputs": [
        {
          "data": {
            "text/plain": [
              "Traceback (most recent call last):\n",
              "  File \"<stdin>\", line 1, in <module>\n",
              "AttributeError: 'A' object has no attribute '__variable'\n",
              "\n"
            ]
          },
          "output_type": "execute_result",
          "metadata": {},
          "execution_count": null
        }
      ],
      "source": [
        "A().__variable\n"
      ]
    },
    {
      "cell_type": "code",
      "execution_count": null,
      "metadata": {
        "collapsed": true,
        "id": "uVeCWnomzRqF",
        "outputId": "db2d8ade-3b5a-4d0d-8cb5-3f36b49bd598"
      },
      "outputs": [
        {
          "data": {
            "text/plain": [
              "'Some value'\n"
            ]
          },
          "output_type": "execute_result",
          "metadata": {},
          "execution_count": null
        }
      ],
      "source": [
        "A().some_func()\n"
      ]
    },
    {
      "cell_type": "markdown",
      "metadata": {
        "id": "zfj0ybkZzRqF"
      },
      "source": [
        "\n",
        "\n"
      ]
    },
    {
      "cell_type": "markdown",
      "metadata": {
        "id": "jOC1zXZFzRqF"
      },
      "source": [
        "#### 💡 Explanation:\n",
        "\n",
        "* [Name Mangling](https://en.wikipedia.org/wiki/Name_mangling) is used to avoid naming collisions between different namespaces.\n",
        "* In Python, the interpreter modifies (mangles) the class member names starting with `__` (double underscore a.k.a \"dunder\") and not ending with more than one trailing underscore by adding `_NameOfTheClass` in front.\n",
        "* So, to access `__honey` attribute in the first snippet, we had to append `_Yo` to the front, which would prevent conflicts with the same name attribute defined in any other class.\n",
        "* But then why didn't it work in the second snippet? Because name mangling excludes the names ending with double underscores.\n",
        "* The third snippet was also a consequence of name mangling. The name `__variable` in the statement `return __variable` was mangled to `_A__variable`, which also happens to be the name of the variable we declared in the outer scope.\n",
        "* Also, if the mangled name is longer than 255 characters, truncation will happen.\n",
        "\n"
      ]
    },
    {
      "cell_type": "markdown",
      "metadata": {
        "id": "m1yNCR09zRqF"
      },
      "source": [
        "### ▶ Skipping lines?\n",
        "**Output:**\n"
      ]
    },
    {
      "cell_type": "code",
      "execution_count": null,
      "metadata": {
        "collapsed": true,
        "id": "I09FbNChzRqF",
        "outputId": "4263a5e6-3996-4fab-a13f-d4bfb8d9d69c"
      },
      "outputs": [
        {
          "data": {
            "text/plain": [
              "11\n"
            ]
          },
          "output_type": "execute_result",
          "metadata": {},
          "execution_count": null
        }
      ],
      "source": [
        "value = 11\n",
        "valuе = 32\n",
        "value\n"
      ]
    },
    {
      "cell_type": "markdown",
      "metadata": {
        "id": "nvWJFZ00zRqF"
      },
      "source": [
        "\n",
        "Wut?\n",
        "\n",
        "**Note:** The easiest way to reproduce this is to simply copy the statements from the above snippet and paste them into your file/shell.\n",
        "\n"
      ]
    },
    {
      "cell_type": "markdown",
      "metadata": {
        "id": "TGo05Bv3zRqF"
      },
      "source": [
        "#### 💡 Explanation\n",
        "\n",
        "Some non-Western characters look identical to letters in the English alphabet but are considered distinct by the interpreter.\n",
        "\n"
      ]
    },
    {
      "cell_type": "code",
      "execution_count": null,
      "metadata": {
        "collapsed": true,
        "id": "mKUtLJ7hzRqG",
        "outputId": "994e352d-41db-4e61-ae89-86bbccc96242"
      },
      "outputs": [
        {
          "data": {
            "text/plain": [
              "1077\n"
            ]
          },
          "output_type": "execute_result",
          "metadata": {},
          "execution_count": null
        }
      ],
      "source": [
        "ord('е') # cyrillic 'e' (Ye)\n"
      ]
    },
    {
      "cell_type": "code",
      "execution_count": null,
      "metadata": {
        "collapsed": true,
        "id": "CspihD2jzRqG",
        "outputId": "085b1ea7-0a85-4594-c965-eaaf2c3813f8"
      },
      "outputs": [
        {
          "data": {
            "text/plain": [
              "101\n"
            ]
          },
          "output_type": "execute_result",
          "metadata": {},
          "execution_count": null
        }
      ],
      "source": [
        "ord('e') # latin 'e', as used in English and typed using standard keyboard\n"
      ]
    },
    {
      "cell_type": "code",
      "execution_count": null,
      "metadata": {
        "collapsed": true,
        "id": "3Hx4GzIpzRqG",
        "outputId": "b1e4ecaa-928a-417c-94fc-03112aac12f7"
      },
      "outputs": [
        {
          "data": {
            "text/plain": [
              "False\n",
              "\n"
            ]
          },
          "output_type": "execute_result",
          "metadata": {},
          "execution_count": null
        }
      ],
      "source": [
        "'е' == 'e'\n"
      ]
    },
    {
      "cell_type": "code",
      "execution_count": null,
      "metadata": {
        "collapsed": true,
        "id": "LVFIbfg-zRqG",
        "outputId": "bc21d222-cf09-493b-c3d7-e2f5427e7003"
      },
      "outputs": [
        {
          "data": {
            "text/plain": [
              "42\n"
            ]
          },
          "output_type": "execute_result",
          "metadata": {},
          "execution_count": null
        }
      ],
      "source": [
        "value = 42 # latin e\n",
        "valuе = 23 # cyrillic 'e', Python 2.x interpreter would raise a `SyntaxError` here\n",
        "value\n"
      ]
    },
    {
      "cell_type": "markdown",
      "metadata": {
        "id": "rJLKinsAzRqG"
      },
      "source": [
        "\n",
        "The built-in `ord()` function returns a character's Unicode [code point](https://en.wikipedia.org/wiki/Code_point), and different code positions of Cyrillic 'e' and Latin 'e' justify the behavior of the above example.\n",
        "\n"
      ]
    },
    {
      "cell_type": "markdown",
      "metadata": {
        "id": "6TwLsPTrzRqG"
      },
      "source": [
        "### ▶ Teleportation\n"
      ]
    },
    {
      "cell_type": "code",
      "execution_count": null,
      "metadata": {
        "collapsed": true,
        "id": "yFkDaVh9zRqG",
        "outputId": "e9157934-326a-40de-f6b9-906c349288ef"
      },
      "outputs": [
        {
          "data": {
            "text/plain": []
          },
          "output_type": "execute_result",
          "metadata": {},
          "execution_count": null
        }
      ],
      "source": [
        "# `pip install numpy` first.\n",
        "import numpy as np\n",
        "\n",
        "def energy_send(x):\n",
        "    # Initializing a numpy array\n",
        "    np.array([float(x)])\n",
        "\n",
        "def energy_receive():\n",
        "    # Return an empty numpy array\n",
        "    return np.empty((), dtype=np.float).tolist()\n"
      ]
    },
    {
      "cell_type": "markdown",
      "metadata": {
        "id": "YDa_yhHxzRqG"
      },
      "source": [
        "\n",
        "**Output:**\n"
      ]
    },
    {
      "cell_type": "code",
      "execution_count": null,
      "metadata": {
        "collapsed": true,
        "id": "qQuV5J5gzRqG",
        "outputId": "cf800eec-8a2b-4c03-ba68-142eb82aa4e9"
      },
      "outputs": [
        {
          "data": {
            "text/plain": [
              "123.456\n"
            ]
          },
          "output_type": "execute_result",
          "metadata": {},
          "execution_count": null
        }
      ],
      "source": [
        "energy_send(123.456)\n",
        "energy_receive()\n"
      ]
    },
    {
      "cell_type": "markdown",
      "metadata": {
        "id": "G6lJqp9GzRqG"
      },
      "source": [
        "\n",
        "Where's the Nobel Prize?\n",
        "\n"
      ]
    },
    {
      "cell_type": "markdown",
      "metadata": {
        "id": "7um-HxkTzRqG"
      },
      "source": [
        "#### 💡 Explanation:\n",
        "\n",
        "* Notice that the numpy array created in the `energy_send` function is not returned, so that memory space is free to reallocate.\n",
        "* `numpy.empty()` returns the next free memory slot without reinitializing it. This memory spot just happens to be the same one that was just freed (usually, but not always).\n",
        "\n"
      ]
    },
    {
      "cell_type": "markdown",
      "metadata": {
        "id": "c8M1d64zzRqH"
      },
      "source": [
        "### ▶ Well, something is fishy...\n"
      ]
    },
    {
      "cell_type": "code",
      "execution_count": null,
      "metadata": {
        "collapsed": true,
        "id": "7NT57hkCzRqH",
        "outputId": "9c518dc4-8452-4e71-e251-f5ddba129114"
      },
      "outputs": [
        {
          "data": {
            "text/plain": []
          },
          "output_type": "execute_result",
          "metadata": {},
          "execution_count": null
        }
      ],
      "source": [
        "def square(x):\n",
        "    \"\"\"\n",
        "    A simple function to calculate the square of a number by addition.\n",
        "    \"\"\"\n",
        "    sum_so_far = 0\n",
        "    for counter in range(x):\n",
        "        sum_so_far = sum_so_far + x\n",
        "  return sum_so_far\n"
      ]
    },
    {
      "cell_type": "markdown",
      "metadata": {
        "id": "Y6cxRiDVzRqH"
      },
      "source": [
        "\n",
        "**Output (Python 2.x):**\n",
        "\n"
      ]
    },
    {
      "cell_type": "code",
      "execution_count": null,
      "metadata": {
        "collapsed": true,
        "id": "zChSEwOMzRqH",
        "outputId": "94e90b5a-1aa9-40b5-a0f8-42b9970376f2"
      },
      "outputs": [
        {
          "data": {
            "text/plain": [
              "10\n"
            ]
          },
          "output_type": "execute_result",
          "metadata": {},
          "execution_count": null
        }
      ],
      "source": [
        "square(10)\n"
      ]
    },
    {
      "cell_type": "markdown",
      "metadata": {
        "id": "xRsx7kpizRqH"
      },
      "source": [
        "\n",
        "Shouldn't that be 100?\n",
        "\n",
        "**Note:** If you're not able to reproduce this, try running the file [mixed_tabs_and_spaces.py](/mixed_tabs_and_spaces.py) via the shell.\n",
        "\n"
      ]
    },
    {
      "cell_type": "markdown",
      "metadata": {
        "id": "XTcJiVxkzRqH"
      },
      "source": [
        "#### 💡 Explanation\n",
        "\n",
        "* **Don't mix tabs and spaces!** The character just preceding return is a \"tab\",  and the code is indented by multiple of \"4 spaces\" elsewhere in the example.\n",
        "* This is how Python handles tabs:\n",
        "  \n",
        "  > First, tabs are replaced (from left to right) by one to eight spaces such that the total number of characters up to and including the replacement is a multiple of eight <...>\n",
        "* So the \"tab\" at the last line of `square` function is replaced with eight spaces, and it gets into the loop.\n",
        "* Python 3 is kind enough to throw an error for such cases automatically.\n",
        "\n",
        "    **Output (Python 3.x):**\n"
      ]
    },
    {
      "cell_type": "code",
      "execution_count": null,
      "metadata": {
        "collapsed": true,
        "id": "7X0puf_3zRqH",
        "outputId": "930083de-0bd8-4a40-9391-ae340c7ee84d"
      },
      "outputs": [
        {
          "data": {
            "text/plain": []
          },
          "output_type": "execute_result",
          "metadata": {},
          "execution_count": null
        }
      ],
      "source": [
        "    TabError: inconsistent use of tabs and spaces in indentation\n"
      ]
    },
    {
      "cell_type": "markdown",
      "metadata": {
        "id": "BBs9Wvc8zRqH"
      },
      "source": [
        "\n"
      ]
    },
    {
      "cell_type": "markdown",
      "metadata": {
        "id": "rk6_bOcUzRqH"
      },
      "source": [
        "### ▶ `+=` is faster\n"
      ]
    },
    {
      "cell_type": "code",
      "execution_count": null,
      "metadata": {
        "collapsed": true,
        "id": "S5Zv9vphzRqH",
        "outputId": "099ed700-d27a-470b-f41e-1ea0a76e2653"
      },
      "outputs": [
        {
          "data": {
            "text/plain": [
              "0.25748300552368164\n",
              "# using \"+=\", three strings:\n"
            ]
          },
          "output_type": "execute_result",
          "metadata": {},
          "execution_count": null
        }
      ],
      "source": [
        "# using \"+\", three strings:\n",
        "timeit.timeit(\"s1 = s1 + s2 + s3\", setup=\"s1 = ' ' * 100000; s2 = ' ' * 100000; s3 = ' ' * 100000\", number=100)\n"
      ]
    },
    {
      "cell_type": "code",
      "execution_count": null,
      "metadata": {
        "collapsed": true,
        "id": "lGB6NQDOzRqH",
        "outputId": "79f77bd7-d03b-4e92-bf31-643b655c4dcc"
      },
      "outputs": [
        {
          "data": {
            "text/plain": [
              "0.012188911437988281\n"
            ]
          },
          "output_type": "execute_result",
          "metadata": {},
          "execution_count": null
        }
      ],
      "source": [
        "timeit.timeit(\"s1 += s2 + s3\", setup=\"s1 = ' ' * 100000; s2 = ' ' * 100000; s3 = ' ' * 100000\", number=100)\n"
      ]
    },
    {
      "cell_type": "markdown",
      "metadata": {
        "id": "bacJB6oxzRqH"
      },
      "source": [
        "\n"
      ]
    },
    {
      "cell_type": "markdown",
      "metadata": {
        "id": "YkkeV8hezRqI"
      },
      "source": [
        "#### 💡 Explanation:\n",
        "+ `+=` is faster than `+` for concatenating more than two strings because the first string (example, `s1` for `s1 += s2 + s3`) is not destroyed while calculating the complete string.\n",
        "\n"
      ]
    },
    {
      "cell_type": "markdown",
      "metadata": {
        "id": "yt-3zUaLzRqI"
      },
      "source": [
        "### ▶ Let's make a giant string!\n"
      ]
    },
    {
      "cell_type": "code",
      "execution_count": null,
      "metadata": {
        "collapsed": true,
        "id": "_scmenlqzRqI",
        "outputId": "4a204455-0c89-4b11-de7a-da6c48077741"
      },
      "outputs": [
        {
          "data": {
            "text/plain": []
          },
          "output_type": "execute_result",
          "metadata": {},
          "execution_count": null
        }
      ],
      "source": [
        "def add_string_with_plus(iters):\n",
        "    s = \"\"\n",
        "    for i in range(iters):\n",
        "        s += \"xyz\"\n",
        "    assert len(s) == 3*iters\n",
        "\n",
        "def add_bytes_with_plus(iters):\n",
        "    s = b\"\"\n",
        "    for i in range(iters):\n",
        "        s += b\"xyz\"\n",
        "    assert len(s) == 3*iters\n",
        "\n",
        "def add_string_with_format(iters):\n",
        "    fs = \"{}\"*iters\n",
        "    s = fs.format(*([\"xyz\"]*iters))\n",
        "    assert len(s) == 3*iters\n",
        "\n",
        "def add_string_with_join(iters):\n",
        "    l = []\n",
        "    for i in range(iters):\n",
        "        l.append(\"xyz\")\n",
        "    s = \"\".join(l)\n",
        "    assert len(s) == 3*iters\n",
        "\n",
        "def convert_list_to_string(l, iters):\n",
        "    s = \"\".join(l)\n",
        "    assert len(s) == 3*iters\n"
      ]
    },
    {
      "cell_type": "markdown",
      "metadata": {
        "id": "-uuTW-dRzRqI"
      },
      "source": [
        "\n",
        "**Output:**\n",
        "\n"
      ]
    },
    {
      "cell_type": "code",
      "execution_count": null,
      "metadata": {
        "collapsed": true,
        "id": "KlWtmUk7zRqI",
        "outputId": "103f5ba8-e91e-4557-9416-9d6b041431af"
      },
      "outputs": [
        {
          "data": {
            "text/plain": [
              "124 µs ± 4.73 µs per loop (mean ± std. dev. of 7 runs, 100 loops each)\n"
            ]
          },
          "output_type": "execute_result",
          "metadata": {},
          "execution_count": null
        }
      ],
      "source": [
        "# Executed in ipython shell using %timeit for better readability of results.\n",
        "# You can also use the timeit module in normal python shell/scriptm=, example usage below\n",
        "# timeit.timeit('add_string_with_plus(10000)', number=1000, globals=globals())\n",
        "\n",
        "NUM_ITERS = 1000\n",
        "%timeit -n1000 add_string_with_plus(NUM_ITERS)\n"
      ]
    },
    {
      "cell_type": "code",
      "execution_count": null,
      "metadata": {
        "collapsed": true,
        "id": "19qDTMxNzRqI",
        "outputId": "37df2959-3e41-48df-b9b0-7cf8860b5470"
      },
      "outputs": [
        {
          "data": {
            "text/plain": [
              "211 µs ± 10.5 µs per loop (mean ± std. dev. of 7 runs, 1000 loops each)\n"
            ]
          },
          "output_type": "execute_result",
          "metadata": {},
          "execution_count": null
        }
      ],
      "source": [
        "%timeit -n1000 add_bytes_with_plus(NUM_ITERS)\n"
      ]
    },
    {
      "cell_type": "code",
      "execution_count": null,
      "metadata": {
        "collapsed": true,
        "id": "4fQTqYx6zRqI",
        "outputId": "c3a8ea6d-c29b-4906-b308-d46908e28a86"
      },
      "outputs": [
        {
          "data": {
            "text/plain": [
              "61 µs ± 2.18 µs per loop (mean ± std. dev. of 7 runs, 1000 loops each)\n"
            ]
          },
          "output_type": "execute_result",
          "metadata": {},
          "execution_count": null
        }
      ],
      "source": [
        "%timeit -n1000 add_string_with_format(NUM_ITERS)\n"
      ]
    },
    {
      "cell_type": "code",
      "execution_count": null,
      "metadata": {
        "collapsed": true,
        "id": "3RxvEA83zRqI",
        "outputId": "178933be-c432-414d-bdb2-0ef77ef20752"
      },
      "outputs": [
        {
          "data": {
            "text/plain": [
              "117 µs ± 3.21 µs per loop (mean ± std. dev. of 7 runs, 1000 loops each)\n"
            ]
          },
          "output_type": "execute_result",
          "metadata": {},
          "execution_count": null
        }
      ],
      "source": [
        "%timeit -n1000 add_string_with_join(NUM_ITERS)\n"
      ]
    },
    {
      "cell_type": "code",
      "execution_count": null,
      "metadata": {
        "collapsed": true,
        "id": "2mFS3-IszRqI",
        "outputId": "c77c1f04-1c75-464f-e868-a7d60cdd44da"
      },
      "outputs": [
        {
          "data": {
            "text/plain": [
              "10.1 µs ± 1.06 µs per loop (mean ± std. dev. of 7 runs, 1000 loops each)\n"
            ]
          },
          "output_type": "execute_result",
          "metadata": {},
          "execution_count": null
        }
      ],
      "source": [
        "l = [\"xyz\"]*NUM_ITERS\n",
        "%timeit -n1000 convert_list_to_string(l, NUM_ITERS)\n"
      ]
    },
    {
      "cell_type": "markdown",
      "metadata": {
        "id": "zszAfqV1zRqI"
      },
      "source": [
        "\n",
        "Let's increase the number of iterations by a factor of 10.\n",
        "\n"
      ]
    },
    {
      "cell_type": "code",
      "execution_count": null,
      "metadata": {
        "collapsed": true,
        "id": "yeBjxYIwzRqI",
        "outputId": "3086d080-8ef3-42ae-f6d6-ab5a1d77f802"
      },
      "outputs": [
        {
          "data": {
            "text/plain": [
              "1.26 ms ± 76.8 µs per loop (mean ± std. dev. of 7 runs, 1000 loops each)\n"
            ]
          },
          "output_type": "execute_result",
          "metadata": {},
          "execution_count": null
        }
      ],
      "source": [
        "NUM_ITERS = 10000\n",
        "%timeit -n1000 add_string_with_plus(NUM_ITERS) # Linear increase in execution time\n"
      ]
    },
    {
      "cell_type": "code",
      "execution_count": null,
      "metadata": {
        "collapsed": true,
        "id": "yz-U5VldzRqJ",
        "outputId": "13114815-01bb-488e-d473-d66ca9baaec5"
      },
      "outputs": [
        {
          "data": {
            "text/plain": [
              "6.82 ms ± 134 µs per loop (mean ± std. dev. of 7 runs, 1000 loops each)\n"
            ]
          },
          "output_type": "execute_result",
          "metadata": {},
          "execution_count": null
        }
      ],
      "source": [
        "%timeit -n1000 add_bytes_with_plus(NUM_ITERS) # Quadratic increase\n"
      ]
    },
    {
      "cell_type": "code",
      "execution_count": null,
      "metadata": {
        "collapsed": true,
        "id": "i1RiZ0BwzRqJ",
        "outputId": "5f52cb6f-af5d-4d39-e73a-7b9bdb6f4101"
      },
      "outputs": [
        {
          "data": {
            "text/plain": [
              "645 µs ± 24.5 µs per loop (mean ± std. dev. of 7 runs, 1000 loops each)\n"
            ]
          },
          "output_type": "execute_result",
          "metadata": {},
          "execution_count": null
        }
      ],
      "source": [
        "%timeit -n1000 add_string_with_format(NUM_ITERS) # Linear increase\n"
      ]
    },
    {
      "cell_type": "code",
      "execution_count": null,
      "metadata": {
        "collapsed": true,
        "id": "XKOGp_xbzRqL",
        "outputId": "d3a1b41a-9012-4a9e-cb14-f774ef46a356"
      },
      "outputs": [
        {
          "data": {
            "text/plain": [
              "1.17 ms ± 7.25 µs per loop (mean ± std. dev. of 7 runs, 1000 loops each)\n"
            ]
          },
          "output_type": "execute_result",
          "metadata": {},
          "execution_count": null
        }
      ],
      "source": [
        "%timeit -n1000 add_string_with_join(NUM_ITERS) # Linear increase\n"
      ]
    },
    {
      "cell_type": "code",
      "execution_count": null,
      "metadata": {
        "collapsed": true,
        "id": "fYTxA-4izRqL",
        "outputId": "88978dd0-9bba-48bf-a1d9-9e87f6c3185f"
      },
      "outputs": [
        {
          "data": {
            "text/plain": [
              "86.3 µs ± 2 µs per loop (mean ± std. dev. of 7 runs, 1000 loops each)\n"
            ]
          },
          "output_type": "execute_result",
          "metadata": {},
          "execution_count": null
        }
      ],
      "source": [
        "l = [\"xyz\"]*NUM_ITERS\n",
        "%timeit -n1000 convert_list_to_string(l, NUM_ITERS) # Linear increase\n"
      ]
    },
    {
      "cell_type": "markdown",
      "metadata": {
        "id": "ETl_OeAezRqM"
      },
      "source": [
        "\n"
      ]
    },
    {
      "cell_type": "markdown",
      "metadata": {
        "id": "fWEP66hNzRqM"
      },
      "source": [
        "#### 💡 Explanation\n",
        "- You can read more about [timeit](https://docs.python.org/3/library/timeit.html) or [%timeit](https://ipython.org/ipython-doc/dev/interactive/magics.html#magic-timeit) on these links. They are used to measure the execution time of code pieces.\n",
        "- Don't use `+` for generating long strings — In Python, `str` is immutable, so the left and right strings have to be copied into the new string for every pair of concatenations. If you concatenate four strings of length 10, you'll be copying (10+10) + ((10+10)+10) + (((10+10)+10)+10) = 90 characters instead of just 40 characters. Things get quadratically worse as the number and size of the string increases (justified with the execution times of `add_bytes_with_plus` function)\n",
        "- Therefore, it's advised to use `.format.` or `%` syntax (however, they are slightly slower than `+` for very short strings).\n",
        "- Or better, if already you've contents available in the form of an iterable object, then use `''.join(iterable_object)` which is much faster.\n",
        "- Unlike `add_bytes_with_plus` because of the `+=` optimizations discussed in the previous example, `add_string_with_plus` didn't show a quadratic increase in execution time. Had the statement been `s = s + \"x\" + \"y\" + \"z\"` instead of `s += \"xyz\"`, the increase would have been quadratic.\n"
      ]
    },
    {
      "cell_type": "code",
      "execution_count": null,
      "metadata": {
        "collapsed": true,
        "id": "WeR24v09zRqN",
        "outputId": "1f94e1d1-cfb6-47fe-f852-3451fcb820f8"
      },
      "outputs": [
        {
          "data": {
            "text/plain": [
              "  388 µs ± 22.4 µs per loop (mean ± std. dev. of 7 runs, 1000 loops each)\n"
            ]
          },
          "output_type": "execute_result",
          "metadata": {},
          "execution_count": null
        }
      ],
      "source": [
        "  def add_string_with_plus(iters):\n",
        "      s = \"\"\n",
        "      for i in range(iters):\n",
        "          s = s + \"x\" + \"y\" + \"z\"\n",
        "      assert len(s) == 3*iters\n",
        "\n",
        "  %timeit -n100 add_string_with_plus(1000)\n"
      ]
    },
    {
      "cell_type": "code",
      "execution_count": null,
      "metadata": {
        "collapsed": true,
        "id": "GJc6hkI4zRqN",
        "outputId": "4e0364de-2b11-4f43-cfe5-3e3d3d77bcd4"
      },
      "outputs": [
        {
          "data": {
            "text/plain": [
              "  9 ms ± 298 µs per loop (mean ± std. dev. of 7 runs, 100 loops each)\n"
            ]
          },
          "output_type": "execute_result",
          "metadata": {},
          "execution_count": null
        }
      ],
      "source": [
        "  %timeit -n100 add_string_with_plus(10000) # Quadratic increase in execution time\n"
      ]
    },
    {
      "cell_type": "markdown",
      "metadata": {
        "id": "qs2Tz6hdzRqN"
      },
      "source": [
        "- So many ways to format and create a giant string are somewhat in contrast to the [Zen of Python](https://www.python.org/dev/peps/pep-0020/), according to which,\n",
        "  \n",
        "    > There should be one-- and preferably only one --obvious way to do it.\n",
        "\n"
      ]
    },
    {
      "cell_type": "markdown",
      "metadata": {
        "id": "oyGH2TMPzRqO"
      },
      "source": [
        "### ▶ Slowing down `dict` lookups *\n"
      ]
    },
    {
      "cell_type": "code",
      "execution_count": null,
      "metadata": {
        "collapsed": true,
        "id": "97iUY3YrzRqO",
        "outputId": "7678dd42-1f04-4675-caa4-6ba92422ff71"
      },
      "outputs": [
        {
          "data": {
            "text/plain": []
          },
          "output_type": "execute_result",
          "metadata": {},
          "execution_count": null
        }
      ],
      "source": [
        "some_dict = {str(i): 1 for i in range(1_000_000)}\n",
        "another_dict = {str(i): 1 for i in range(1_000_000)}\n"
      ]
    },
    {
      "cell_type": "markdown",
      "metadata": {
        "id": "d1a0u3jwzRqO"
      },
      "source": [
        "\n",
        "**Output:**\n"
      ]
    },
    {
      "cell_type": "code",
      "execution_count": null,
      "metadata": {
        "collapsed": true,
        "id": "JcBcqZY7zRqO",
        "outputId": "2715c36e-c521-4c89-d438-ef6ad7a9a3eb"
      },
      "outputs": [
        {
          "data": {
            "text/plain": [
              "28.6 ns ± 0.115 ns per loop (mean ± std. dev. of 7 runs, 10000000 loops each)\n"
            ]
          },
          "output_type": "execute_result",
          "metadata": {},
          "execution_count": null
        }
      ],
      "source": [
        "%timeit some_dict['5']\n"
      ]
    },
    {
      "cell_type": "code",
      "execution_count": null,
      "metadata": {
        "collapsed": true,
        "id": "o7POSpmtzRqP",
        "outputId": "c693aff1-131b-4a1d-fc81-1fcc58b63d04"
      },
      "outputs": [
        {
          "data": {
            "text/plain": [
              "37.2 ns ± 0.265 ns per loop (mean ± std. dev. of 7 runs, 10000000 loops each)\n",
              "\n"
            ]
          },
          "output_type": "execute_result",
          "metadata": {},
          "execution_count": null
        }
      ],
      "source": [
        "some_dict[1] = 1\n",
        "%timeit some_dict['5']\n"
      ]
    },
    {
      "cell_type": "code",
      "execution_count": null,
      "metadata": {
        "collapsed": true,
        "id": "Z7ZKUUmIzRqP",
        "outputId": "42d77677-ef0a-464d-9a1a-bf6b3e0fb721"
      },
      "outputs": [
        {
          "data": {
            "text/plain": [
              "28.5 ns ± 0.142 ns per loop (mean ± std. dev. of 7 runs, 10000000 loops each)\n"
            ]
          },
          "output_type": "execute_result",
          "metadata": {},
          "execution_count": null
        }
      ],
      "source": [
        "%timeit another_dict['5']\n"
      ]
    },
    {
      "cell_type": "code",
      "execution_count": null,
      "metadata": {
        "collapsed": true,
        "id": "fHyCZ399zRqP",
        "outputId": "3e70f2a1-e04e-4f08-aba6-55b105286c6a"
      },
      "outputs": [
        {
          "data": {
            "text/plain": [
              "Traceback (most recent call last):\n",
              "  File \"<stdin>\", line 1, in <module>\n",
              "KeyError: 1\n"
            ]
          },
          "output_type": "execute_result",
          "metadata": {},
          "execution_count": null
        }
      ],
      "source": [
        "another_dict[1]  # Trying to access a key that doesn't exist\n"
      ]
    },
    {
      "cell_type": "code",
      "execution_count": null,
      "metadata": {
        "collapsed": true,
        "id": "t2hq7gMezRqP",
        "outputId": "a302d155-4954-46ff-a646-9bd959e0fa49"
      },
      "outputs": [
        {
          "data": {
            "text/plain": [
              "38.5 ns ± 0.0913 ns per loop (mean ± std. dev. of 7 runs, 10000000 loops each)\n"
            ]
          },
          "output_type": "execute_result",
          "metadata": {},
          "execution_count": null
        }
      ],
      "source": [
        "%timeit another_dict['5']\n"
      ]
    },
    {
      "cell_type": "markdown",
      "metadata": {
        "id": "e8GZcu6DzRqP"
      },
      "source": [
        "Why are same lookups becoming slower?\n",
        "\n"
      ]
    },
    {
      "cell_type": "markdown",
      "metadata": {
        "id": "FVscs7XCzRqP"
      },
      "source": [
        "#### 💡 Explanation:\n",
        "+ CPython has a generic dictionary lookup function that handles all types of keys (`str`, `int`, any object ...), and a specialized one for the common case of dictionaries composed of `str`-only keys.\n",
        "+ The specialized function (named `lookdict_unicode` in CPython's [source](https://github.com/python/cpython/blob/522691c46e2ae51faaad5bbbce7d959dd61770df/Objects/dictobject.c#L841)) knows all existing keys (including the looked-up key) are strings, and uses the faster & simpler string comparison to compare keys, instead of calling the `__eq__` method.\n",
        "+ The first time a `dict` instance is accessed with a non-`str` key, it's modified so future lookups use the generic function.\n",
        "+ This process is not reversible for the particular `dict` instance, and the key doesn't even have to exist in the dictionary. That's why attempting a failed lookup has the same effect.\n",
        "\n",
        "\n"
      ]
    },
    {
      "cell_type": "markdown",
      "metadata": {
        "id": "JWGwxQ7MzRqQ"
      },
      "source": [
        "### ▶ Bloating instance `dict`s *\n"
      ]
    },
    {
      "cell_type": "code",
      "execution_count": null,
      "metadata": {
        "collapsed": true,
        "id": "Nvz8ocbjzRqQ",
        "outputId": "7297a693-f091-4248-aad9-0647b846c84d"
      },
      "outputs": [
        {
          "data": {
            "text/plain": []
          },
          "output_type": "execute_result",
          "metadata": {},
          "execution_count": null
        }
      ],
      "source": [
        "import sys\n",
        "\n",
        "class SomeClass:\n",
        "    def __init__(self):\n",
        "        self.some_attr1 = 1\n",
        "        self.some_attr2 = 2\n",
        "        self.some_attr3 = 3\n",
        "        self.some_attr4 = 4\n",
        "\n",
        "\n",
        "def dict_size(o):\n",
        "    return sys.getsizeof(o.__dict__)\n",
        "\n"
      ]
    },
    {
      "cell_type": "markdown",
      "metadata": {
        "id": "YKLd-hKwzRqQ"
      },
      "source": [
        "\n",
        "**Output:** (Python 3.8, other Python 3 versions may vary a little)\n"
      ]
    },
    {
      "cell_type": "code",
      "execution_count": null,
      "metadata": {
        "collapsed": true,
        "id": "khd8kkzBzRqQ",
        "outputId": "2e0c092f-c595-48a9-d8ee-5d821478917b"
      },
      "outputs": [
        {
          "data": {
            "text/plain": [
              "104\n"
            ]
          },
          "output_type": "execute_result",
          "metadata": {},
          "execution_count": null
        }
      ],
      "source": [
        "o1 = SomeClass()\n",
        "o2 = SomeClass()\n",
        "dict_size(o1)\n"
      ]
    },
    {
      "cell_type": "code",
      "execution_count": null,
      "metadata": {
        "collapsed": true,
        "id": "T8OWI4OVzRqR",
        "outputId": "cae1edd4-34df-4317-bd9f-0e2a9f433775"
      },
      "outputs": [
        {
          "data": {
            "text/plain": [
              "104\n"
            ]
          },
          "output_type": "execute_result",
          "metadata": {},
          "execution_count": null
        }
      ],
      "source": [
        "dict_size(o2)\n"
      ]
    },
    {
      "cell_type": "code",
      "execution_count": null,
      "metadata": {
        "collapsed": true,
        "id": "DFDnXPISzRqR",
        "outputId": "3cafaa33-9bd9-45a9-eb9a-b13853d94c6e"
      },
      "outputs": [
        {
          "data": {
            "text/plain": [
              "232\n"
            ]
          },
          "output_type": "execute_result",
          "metadata": {},
          "execution_count": null
        }
      ],
      "source": [
        "del o1.some_attr1\n",
        "o3 = SomeClass()\n",
        "dict_size(o3)\n"
      ]
    },
    {
      "cell_type": "code",
      "execution_count": null,
      "metadata": {
        "collapsed": true,
        "id": "ONLzX3zmzRqR",
        "outputId": "5df3e714-613d-4a5f-eca4-3c9a69e769bd"
      },
      "outputs": [
        {
          "data": {
            "text/plain": [
              "232\n"
            ]
          },
          "output_type": "execute_result",
          "metadata": {},
          "execution_count": null
        }
      ],
      "source": [
        "dict_size(o1)\n"
      ]
    },
    {
      "cell_type": "markdown",
      "metadata": {
        "id": "eZxk7fAAzRqS"
      },
      "source": [
        "\n",
        "Let's try again... In a new interpreter:\n",
        "\n"
      ]
    },
    {
      "cell_type": "code",
      "execution_count": null,
      "metadata": {
        "collapsed": true,
        "id": "OQAG9JA5zRqS",
        "outputId": "04146a1b-c7d1-492f-8f6d-8ea0af2f601c"
      },
      "outputs": [
        {
          "data": {
            "text/plain": [
              "104  # as expected\n"
            ]
          },
          "output_type": "execute_result",
          "metadata": {},
          "execution_count": null
        }
      ],
      "source": [
        "o1 = SomeClass()\n",
        "o2 = SomeClass()\n",
        "dict_size(o1)\n"
      ]
    },
    {
      "cell_type": "code",
      "execution_count": null,
      "metadata": {
        "collapsed": true,
        "id": "20hb9F0mzRqS",
        "outputId": "7fcbb12a-9f07-4019-aabf-8f139ac9aacb"
      },
      "outputs": [
        {
          "data": {
            "text/plain": [
              "360\n"
            ]
          },
          "output_type": "execute_result",
          "metadata": {},
          "execution_count": null
        }
      ],
      "source": [
        "o1.some_attr5 = 5\n",
        "o1.some_attr6 = 6\n",
        "dict_size(o1)\n"
      ]
    },
    {
      "cell_type": "code",
      "execution_count": null,
      "metadata": {
        "collapsed": true,
        "id": "4r5yahXDzRqT",
        "outputId": "cfaeb4b9-7901-4997-bf86-a4b31b67d3ea"
      },
      "outputs": [
        {
          "data": {
            "text/plain": [
              "272\n"
            ]
          },
          "output_type": "execute_result",
          "metadata": {},
          "execution_count": null
        }
      ],
      "source": [
        "dict_size(o2)\n"
      ]
    },
    {
      "cell_type": "code",
      "execution_count": null,
      "metadata": {
        "collapsed": true,
        "id": "OC_tAhaNzRqT",
        "outputId": "82d09606-4599-4741-9c89-15e4ea078e84"
      },
      "outputs": [
        {
          "data": {
            "text/plain": [
              "232\n"
            ]
          },
          "output_type": "execute_result",
          "metadata": {},
          "execution_count": null
        }
      ],
      "source": [
        "o3 = SomeClass()\n",
        "dict_size(o3)\n"
      ]
    },
    {
      "cell_type": "markdown",
      "metadata": {
        "id": "dIjIrhCMzRqT"
      },
      "source": [
        "\n",
        "What makes those dictionaries become bloated? And why are newly created objects bloated as well?\n",
        "\n"
      ]
    },
    {
      "cell_type": "markdown",
      "metadata": {
        "id": "t045SL67zRqT"
      },
      "source": [
        "#### 💡 Explanation:\n",
        "+ CPython is able to reuse the same \"keys\" object in multiple dictionaries. This was added in [PEP 412](https://www.python.org/dev/peps/pep-0412/) with the motivation to reduce memory usage, specifically in dictionaries of instances - where keys (instance attributes) tend to be common to all instances.\n",
        "+ This optimization is entirely seamless for instance dictionaries, but it is disabled if certain assumptions are broken.\n",
        "+ Key-sharing dictionaries do not support deletion; if an instance attribute is deleted, the dictionary is \"unshared\", and key-sharing is disabled for all future instances of the same class.\n",
        "+ Additionaly, if the dictionary keys have be resized (because new keys are inserted), they are kept shared *only* if they are used by a exactly single dictionary (this allows adding many attributes in the `__init__` of the very first created instance, without causing an \"unshare\"). If multiple instances exist when a resize happens, key-sharing is disabled for all future instances of the same class: CPython can't tell if your instances are using the same set of attributes anymore, and decides to bail out on attempting to share their keys.\n",
        "+ A small tip, if you aim to lower your program's memory footprint: don't delete instance attributes, and make sure to initialize all attributes in your `__init__`!\n",
        "\n",
        "\n"
      ]
    },
    {
      "cell_type": "markdown",
      "metadata": {
        "id": "X0h-L-_fzRqU"
      },
      "source": [
        "### ▶ Minor Ones *\n",
        "* `join()` is a string operation instead of list operation. (sort of counter-intuitive at first usage)\n",
        "\n",
        "  **💡 Explanation:** If `join()` is a method on a string, then it can operate on any iterable (list, tuple, iterators). If it were a method on a list, it'd have to be implemented separately by every type. Also, it doesn't make much sense to put a string-specific method on a generic `list` object API.\n",
        "  \n",
        "* Few weird looking but semantically correct statements:\n",
        "  + `[] = ()` is a semantically correct statement (unpacking an empty `tuple` into an empty `list`)\n",
        "  + `'a'[0][0][0][0][0]` is also a semantically correct statement as strings are [sequences](https://docs.python.org/3/glossary.html#term-sequence)(iterables supporting element access using integer indices) in Python.\n",
        "  + `3 --0-- 5 == 8` and `--5 == 5` are both semantically correct statements and evaluate to `True`.\n",
        "\n",
        "* Given that `a` is a number, `++a` and `--a` are both valid Python statements but don't behave the same way as compared with similar statements in languages like C, C++, or Java.\n",
        "  ```py\n",
        "  >>> a = 5\n",
        "  >>> a\n",
        "  5\n",
        "  >>> ++a\n",
        "  5\n",
        "  >>> --a\n",
        "  5\n",
        "  ```\n",
        "\n",
        "  **💡 Explanation:**\n",
        "  + There is no `++` operator in Python grammar. It is actually two `+` operators.\n",
        "  + `++a` parses as `+(+a)` which translates to `a`. Similarly, the output of the statement `--a` can be justified.\n",
        "  + This StackOverflow [thread](https://stackoverflow.com/questions/3654830/why-are-there-no-and-operators-in-python) discusses the rationale behind the absence of increment and decrement operators in Python.\n",
        "\n",
        "* You must be aware of the Walrus operator in Python. But have you ever heard about *the space-invader operator*?\n",
        "  ```py\n",
        "  >>> a = 42\n",
        "  >>> a -=- 1\n",
        "  >>> a\n",
        "  43\n",
        "  ```\n",
        "  It is used as an alternative incrementation operator, together with another one\n",
        "  ```py\n",
        "  >>> a +=+ 1\n",
        "  >>> a\n",
        "  >>> 44\n",
        "  ```\n",
        "  **💡 Explanation:** This prank comes from [Raymond Hettinger's tweet](https://twitter.com/raymondh/status/1131103570856632321?lang=en). The space invader operator is actually just a malformatted `a -= (-1)`. Which is equivalent to `a = a - (- 1)`. Similar for the `a += (+ 1)` case.\n",
        "  \n",
        "* Python has an undocumented [converse implication](https://en.wikipedia.org/wiki/Converse_implication) operator. \n",
        "     \n",
        "     ```py\n",
        "     >>> False ** False == True\n",
        "     True\n",
        "     >>> False ** True == False\n",
        "     True\n",
        "     >>> True ** False == True\n",
        "     True\n",
        "     >>> True ** True == True\n",
        "     True\n",
        "     ```\n",
        "\n",
        "     **💡 Explanation:** If you replace `False` and `True` by 0 and 1 and do the maths, the truth table is equivalent to a converse implication operator. ([Source](https://github.com/cosmologicon/pywat/blob/master/explanation.md#the-undocumented-converse-implication-operator))\n",
        "     \n",
        "* Since we are talking operators, there's also `@` operator for matrix multiplication (don't worry, this time it's for real).\n",
        "\n",
        "     ```py\n",
        "     >>> import numpy as np\n",
        "     >>> np.array([2, 2, 2]) @ np.array([7, 8, 8])\n",
        "     46\n",
        "     ```\n",
        "\n",
        "     **💡 Explanation:** The `@` operator was added in Python 3.5 keeping the scientific community in mind. Any object can overload `__matmul__` magic method to define behavior for this operator.\n",
        "\n",
        "* From Python 3.8 onwards you can use a typical f-string syntax like `f'{some_var=}` for quick debugging. Example,\n",
        "    ```py\n",
        "    >>> some_string = \"wtfpython\"\n",
        "    >>> f'{some_string=}'\n",
        "    \"some_string='wtfpython'\"\n",
        "    ``` \n",
        "\n",
        "* Python uses 2 bytes for local variable storage in functions. In theory, this means that only 65536 variables can be defined in a function. However, python has a handy solution built in that can be used to store more than 2^16 variable names. The following code demonstrates what happens in the stack when more than 65536 local variables are defined (Warning: This code prints around 2^18 lines of text, so be prepared!):\n",
        "     \n",
        "     ```py\n",
        "     import dis\n",
        "    exec(\"\"\"\n",
        "    def f():\n",
        "        \"\"\" + \"\"\"\n",
        "        \"\"\".join([\"X\" + str(x) + \"=\" + str(x) for x in range(65539)]))\n",
        "\n",
        "    f()\n",
        "\n",
        "    print(dis.dis(f))\n",
        "    ```\n",
        "     \n",
        "* Multiple Python threads won't run your *Python code* concurrently (yes, you heard it right!). It may seem intuitive to spawn several threads and let them execute your Python code concurrently, but, because of the [Global Interpreter Lock](https://wiki.python.org/moin/GlobalInterpreterLock) in Python, all you're doing is making your threads execute on the same core turn by turn. Python threads are good for IO-bound tasks, but to achieve actual parallelization in Python for CPU-bound tasks, you might want to use the Python [multiprocessing](https://docs.python.org/3/library/multiprocessing.html) module.\n",
        "\n",
        "* Sometimes, the `print` method might not print values immediately. For example,\n",
        "\n",
        "     ```py\n",
        "     # File some_file.py\n",
        "     import time\n",
        "     \n",
        "     print(\"wtfpython\", end=\"_\")\n",
        "     time.sleep(3)\n",
        "     ```\n",
        "\n",
        "     This will print the `wtfpython` after 3 seconds due to the `end` argument because the output buffer is flushed either after encountering `\\n` or when the program finishes execution. We can force the buffer to flush by passing `flush=True` argument.\n",
        "\n",
        "* List slicing with out of the bounds indices throws no errors\n",
        "  ```py\n",
        "  >>> some_list = [1, 2, 3, 4, 5]\n",
        "  >>> some_list[111:]\n",
        "  []\n",
        "  ```\n",
        "\n",
        "* Slicing an iterable not always creates a new object. For example,\n",
        "    ```py\n",
        "    >>> some_str = \"wtfpython\"\n",
        "    >>> some_list = ['w', 't', 'f', 'p', 'y', 't', 'h', 'o', 'n']\n",
        "    >>> some_list is some_list[:] # False expected because a new object is created.\n",
        "    False\n",
        "    >>> some_str is some_str[:] # True because strings are immutable, so making a new object is of not much use.\n",
        "    True\n",
        "    ```\n",
        "\n",
        "* `int('١٢٣٤٥٦٧٨٩')` returns `123456789` in Python 3. In Python, Decimal characters include digit characters, and all characters that can be used to form decimal-radix numbers, e.g. U+0660, ARABIC-INDIC DIGIT ZERO. Here's an [interesting story](https://chris.improbable.org/2014/8/25/adventures-in-unicode-digits/) related to this behavior of Python.\n",
        "\n",
        "* You can separate numeric literals with underscores (for better readability) from Python 3 onwards.\n",
        "\n",
        "     ```py\n",
        "     >>> six_million = 6_000_000\n",
        "     >>> six_million\n",
        "     6000000\n",
        "     >>> hex_address = 0xF00D_CAFE\n",
        "     >>> hex_address\n",
        "     4027435774\n",
        "     ```\n",
        "\n",
        "* `'abc'.count('') == 4`. Here's an approximate implementation of `count` method, which would make the things more clear\n",
        "  ```py\n",
        "  def count(s, sub):\n",
        "      result = 0\n",
        "      for i in range(len(s) + 1 - len(sub)):\n",
        "          result += (s[i:i + len(sub)] == sub)\n",
        "      return result\n",
        "  ```\n",
        "  The behavior is due to the matching of empty substring(`''`) with slices of length 0 in the original string.\n",
        "\n"
      ]
    },
    {
      "cell_type": "markdown",
      "metadata": {
        "id": "kQ4XSfYQzRqV"
      },
      "source": [
        "### ▶ First things first! *\n",
        "For some reason, the Python 3.8's \"Walrus\" operator (`:=`) has become quite popular. Let's check it out,\n",
        "\n",
        "1\\.\n",
        "\n"
      ]
    },
    {
      "cell_type": "markdown",
      "metadata": {
        "id": "pBbfmZfszRqV"
      },
      "source": [
        "```py\n",
        "# Python version 3.8+\n",
        "\n",
        ">>> a = \"wtf_walrus\"\n",
        ">>> a\n",
        "```\n",
        "```py\n",
        "'wtf_walrus'\n",
        "\n",
        "```\n"
      ]
    },
    {
      "cell_type": "markdown",
      "metadata": {
        "id": "z5cb_nvhzRqV"
      },
      "source": [
        "```py\n",
        ">>> a := \"wtf_walrus\"\n",
        "```\n",
        "```py\n",
        "File \"<stdin>\", line 1\n",
        "    a := \"wtf_walrus\"\n",
        "      ^\n",
        "SyntaxError: invalid syntax\n",
        "\n",
        "```\n"
      ]
    },
    {
      "cell_type": "markdown",
      "metadata": {
        "id": "rl_yR7XGzRqV"
      },
      "source": [
        "```py\n",
        ">>> (a := \"wtf_walrus\") # This works though\n",
        "```\n",
        "```py\n",
        "'wtf_walrus'\n",
        "```\n"
      ]
    },
    {
      "cell_type": "markdown",
      "metadata": {
        "id": "WSvqshQCzRqV"
      },
      "source": [
        "```py\n",
        ">>> a\n",
        "```\n",
        "```py\n",
        "'wtf_walrus'\n",
        "```\n"
      ]
    },
    {
      "cell_type": "markdown",
      "metadata": {
        "id": "z0M6dMBQzRqV"
      },
      "source": [
        "\n",
        "2 \\.\n",
        "\n"
      ]
    },
    {
      "cell_type": "markdown",
      "metadata": {
        "id": "BZviAKRYzRqW"
      },
      "source": [
        "```py\n",
        "# Python version 3.8+\n",
        "\n",
        ">>> a = 6, 9\n",
        ">>> a\n",
        "```\n",
        "```py\n",
        "(6, 9)\n",
        "\n",
        "```\n"
      ]
    },
    {
      "cell_type": "markdown",
      "metadata": {
        "id": "4cdhUoLDzRqW"
      },
      "source": [
        "```py\n",
        ">>> (a := 6, 9)\n",
        "```\n",
        "```py\n",
        "(6, 9)\n",
        "```\n"
      ]
    },
    {
      "cell_type": "markdown",
      "metadata": {
        "id": "Qma2XOlCzRqW"
      },
      "source": [
        "```py\n",
        ">>> a\n",
        "```\n",
        "```py\n",
        "6\n",
        "\n",
        "```\n"
      ]
    },
    {
      "cell_type": "markdown",
      "metadata": {
        "id": "HYu_vbV_zRqW"
      },
      "source": [
        "```py\n",
        ">>> a, b = 6, 9 # Typical unpacking\n",
        ">>> a, b\n",
        "```\n",
        "```py\n",
        "(6, 9)\n",
        "```\n"
      ]
    },
    {
      "cell_type": "markdown",
      "metadata": {
        "id": "SfkrqRS7zRqW"
      },
      "source": [
        "```py\n",
        ">>> (a, b = 16, 19) # Oops\n",
        "```\n",
        "```py\n",
        "  File \"<stdin>\", line 1\n",
        "    (a, b = 6, 9)\n",
        "          ^\n",
        "SyntaxError: invalid syntax\n",
        "\n",
        "```\n"
      ]
    },
    {
      "cell_type": "markdown",
      "metadata": {
        "id": "HRvUWGImzRqW"
      },
      "source": [
        "```py\n",
        ">>> (a, b := 16, 19) # This prints out a weird 3-tuple\n",
        "```\n",
        "```py\n",
        "(6, 16, 19)\n",
        "\n",
        "```\n"
      ]
    },
    {
      "cell_type": "markdown",
      "metadata": {
        "id": "suuABoVzzRqX"
      },
      "source": [
        "```py\n",
        ">>> a # a is still unchanged?\n",
        "```\n",
        "```py\n",
        "6\n",
        "\n",
        "```\n"
      ]
    },
    {
      "cell_type": "markdown",
      "metadata": {
        "id": "5RTCTy4gzRqX"
      },
      "source": [
        "```py\n",
        ">>> b\n",
        "```\n",
        "```py\n",
        "16\n",
        "```\n"
      ]
    },
    {
      "cell_type": "markdown",
      "metadata": {
        "id": "C3GUmLpTzRqX"
      },
      "source": [
        "\n",
        "\n",
        "\n"
      ]
    },
    {
      "cell_type": "markdown",
      "metadata": {
        "id": "RKM9L2_CzRqX"
      },
      "source": [
        "#### 💡 Explanation\n",
        "\n",
        "**Quick walrus operator refresher**\n",
        "\n",
        "The Walrus operator (`:=`) was introduced in Python 3.8, it can be useful in situations where you'd want to assign values to variables within an expression.\n",
        "\n"
      ]
    },
    {
      "cell_type": "markdown",
      "metadata": {
        "id": "7LkqASLazRqX"
      },
      "source": [
        "```py\n",
        "def some_func():\n",
        "        # Assume some expensive computation here\n",
        "        # time.sleep(1000)\n",
        "        return 5\n",
        "\n",
        "# So instead of,\n",
        "if some_func():\n",
        "        print(some_func()) # Which is bad practice since computation is happening twice\n",
        "\n",
        "# or\n",
        "a = some_func()\n",
        "if a:\n",
        "    print(a)\n",
        "\n",
        "# Now you can concisely write\n",
        "if a := some_func():\n",
        "        print(a)\n",
        "```\n",
        "```py\n",
        "```\n"
      ]
    },
    {
      "cell_type": "markdown",
      "metadata": {
        "id": "Ti7Aak6JzRqX"
      },
      "source": [
        "\n",
        "**Output (> 3.8):**\n",
        "\n"
      ]
    },
    {
      "cell_type": "markdown",
      "metadata": {
        "id": "6Iue6gx5zRqX"
      },
      "source": [
        "```py\n",
        "5\n",
        "5\n",
        "5\n",
        "```\n",
        "```py\n",
        "```\n"
      ]
    },
    {
      "cell_type": "markdown",
      "metadata": {
        "id": "hVaox6QWzRqY"
      },
      "source": [
        "\n",
        "This saved one line of code, and implicitly prevented invoking `some_func` twice.\n",
        "\n",
        "- Unparenthesized \"assignment expression\" (use of walrus operator), is restricted at the top level, hence the `SyntaxError` in the `a := \"wtf_walrus\"` statement of the first snippet. Parenthesizing it worked as expected and assigned `a`.  \n",
        "\n",
        "- As usual, parenthesizing of an expression containing `=` operator is not allowed. Hence the syntax error in `(a, b = 6, 9)`. \n",
        "\n",
        "- The syntax of the Walrus operator is of the form `NAME:= expr`, where `NAME` is a valid identifier, and `expr` is a valid expression. Hence, iterable packing and unpacking are not supported which means, \n",
        "\n",
        "  - `(a := 6, 9)` is equivalent to `((a := 6), 9)` and ultimately `(a, 9) ` (where `a`'s value is 6')\n",
        "\n"
      ]
    },
    {
      "cell_type": "markdown",
      "metadata": {
        "id": "N6lxkP1UzRqY"
      },
      "source": [
        "```py\n",
        "    >>> (a := 6, 9) == ((a := 6), 9)\n",
        "```\n",
        "```py\n",
        "    True\n",
        "```\n"
      ]
    },
    {
      "cell_type": "markdown",
      "metadata": {
        "id": "JFrCghQAzRqY"
      },
      "source": [
        "```py\n",
        "    >>> x = (a := 696, 9)\n",
        "    >>> x\n",
        "```\n",
        "```py\n",
        "    (696, 9)\n",
        "```\n"
      ]
    },
    {
      "cell_type": "markdown",
      "metadata": {
        "id": "wj-IOxc-zRqY"
      },
      "source": [
        "```py\n",
        "    >>> x[0] is a # Both reference same memory location\n",
        "```\n",
        "```py\n",
        "    True\n",
        "```\n"
      ]
    },
    {
      "cell_type": "markdown",
      "metadata": {
        "id": "5pc61qLNzRqY"
      },
      "source": [
        "\n",
        "  - Similarly, `(a, b := 16, 19)` is equivalent to `(a, (b := 16), 19)` which is nothing but a 3-tuple. \n",
        "\n"
      ]
    },
    {
      "cell_type": "markdown",
      "metadata": {
        "id": "nKahX3bWzRqZ"
      },
      "source": [
        "### ▶ Stubborn `del` operation\n"
      ]
    },
    {
      "cell_type": "markdown",
      "metadata": {
        "id": "LT6UynxNzRqZ"
      },
      "source": [
        "```py\n",
        "class SomeClass:\n",
        "    def __del__(self):\n",
        "        print(\"Deleted!\")\n",
        "```\n",
        "```py\n",
        "```\n"
      ]
    },
    {
      "cell_type": "markdown",
      "metadata": {
        "id": "iszG_NSezRqZ"
      },
      "source": [
        "\n",
        "**Output:**\n",
        "1\\.\n"
      ]
    },
    {
      "cell_type": "markdown",
      "metadata": {
        "id": "T8wWR8TvzRqZ"
      },
      "source": [
        "```py\n",
        ">>> x = SomeClass()\n",
        ">>> y = x\n",
        ">>> del x # this should print \"Deleted!\"\n",
        ">>> del y\n",
        "```\n",
        "```py\n",
        "Deleted!\n",
        "```\n"
      ]
    },
    {
      "cell_type": "markdown",
      "metadata": {
        "id": "GttmBKqrzRqZ"
      },
      "source": [
        "\n",
        "Phew, deleted at last. You might have guessed what saved `__del__` from being called in our first attempt to delete `x`. Let's add more twists to the example.\n",
        "\n",
        "2\\.\n"
      ]
    },
    {
      "cell_type": "markdown",
      "metadata": {
        "id": "bS2SgoADzRqZ"
      },
      "source": [
        "```py\n",
        ">>> x = SomeClass()\n",
        ">>> y = x\n",
        ">>> del x\n",
        ">>> y # check if y exists\n",
        "```\n",
        "```py\n",
        "<__main__.SomeClass instance at 0x7f98a1a67fc8>\n",
        "```\n"
      ]
    },
    {
      "cell_type": "markdown",
      "metadata": {
        "id": "oWOBspcozRqZ"
      },
      "source": [
        "```py\n",
        ">>> del y # Like previously, this should print \"Deleted!\"\n",
        ">>> globals() # oh, it didn't. Let's check all our global variables and confirm\n",
        "```\n",
        "```py\n",
        "Deleted!\n",
        "{'__builtins__': <module '__builtin__' (built-in)>, 'SomeClass': <class __main__.SomeClass at 0x7f98a1a5f668>, '__package__': None, '__name__': '__main__', '__doc__': None}\n",
        "```\n"
      ]
    },
    {
      "cell_type": "markdown",
      "metadata": {
        "id": "QCIGRzE0zRqh"
      },
      "source": [
        "\n",
        "Okay, now it's deleted :confused:\n",
        "\n"
      ]
    },
    {
      "cell_type": "markdown",
      "metadata": {
        "id": "k9Gvmww_zRqi"
      },
      "source": [
        "#### 💡 Explanation:\n",
        "+ `del x` doesn’t directly call `x.__del__()`.\n",
        "+ When `del x` is encountered, Python deletes the name `x` from current scope and decrements by 1 the reference count of the object `x` referenced. `__del__()` is called only when the object's reference count reaches zero.\n",
        "+ In the second output snippet, `__del__()` was not called because the previous statement (`>>> y`) in the interactive interpreter created another reference to the same object (specifically, the `_` magic variable which references the result value of the last non `None` expression on the REPL), thus preventing the reference count from reaching zero when `del y` was encountered.\n",
        "+ Calling `globals` (or really, executing anything that will have a non `None` result) caused `_` to reference the new result, dropping the existing reference. Now the reference count reached 0 and we can see \"Deleted!\" being printed (finally!).\n",
        "\n"
      ]
    },
    {
      "cell_type": "markdown",
      "metadata": {
        "id": "4mjb29FdzRqi"
      },
      "source": [
        "### ▶ Wild imports *\n"
      ]
    },
    {
      "cell_type": "markdown",
      "metadata": {
        "id": "GIX7TuoszRqi"
      },
      "source": [
        "```py\n",
        "# File: module.py\n",
        "\n",
        "def some_weird_name_func_():\n",
        "    print(\"works!\")\n",
        "\n",
        "def _another_weird_name_func():\n",
        "    print(\"works!\")\n",
        "\n",
        "```\n",
        "```py\n",
        "```\n"
      ]
    },
    {
      "cell_type": "markdown",
      "metadata": {
        "id": "a9ax_toFzRqi"
      },
      "source": [
        "\n",
        "**Output**\n",
        "\n"
      ]
    },
    {
      "cell_type": "markdown",
      "metadata": {
        "id": "-CjnPIcnzRqi"
      },
      "source": [
        "```py\n",
        ">>> from module import *\n",
        ">>> some_weird_name_func_()\n",
        "```\n",
        "```py\n",
        "\"works!\"\n",
        "```\n"
      ]
    },
    {
      "cell_type": "markdown",
      "metadata": {
        "id": "eJiRhdESzRqi"
      },
      "source": [
        "```py\n",
        ">>> _another_weird_name_func()\n",
        "```\n",
        "```py\n",
        "Traceback (most recent call last):\n",
        "  File \"<stdin>\", line 1, in <module>\n",
        "NameError: name '_another_weird_name_func' is not defined\n",
        "```\n"
      ]
    },
    {
      "cell_type": "markdown",
      "metadata": {
        "id": "M_S9Wlh1zRqi"
      },
      "source": [
        "\n"
      ]
    },
    {
      "cell_type": "markdown",
      "metadata": {
        "id": "y2ycSMl1zRqi"
      },
      "source": [
        "#### 💡 Explanation:\n",
        "\n",
        "- It is often advisable to not use wildcard imports. The first obvious reason for this is, in wildcard imports, the names with a leading underscore don't get imported. This may lead to errors during runtime.\n",
        "- Had we used `from ... import a, b, c` syntax, the above `NameError` wouldn't have occurred.\n"
      ]
    },
    {
      "cell_type": "markdown",
      "metadata": {
        "id": "iiukYd7SzRqj"
      },
      "source": [
        "```py\n",
        "    >>> from module import some_weird_name_func_, _another_weird_name_func\n",
        "    >>> _another_weird_name_func()\n",
        "```\n",
        "```py\n",
        "    works!\n",
        "```\n"
      ]
    },
    {
      "cell_type": "markdown",
      "metadata": {
        "id": "9fma81GizRqj"
      },
      "source": [
        "- If you really want to use wildcard imports, then you'd have to define the list `__all__` in your module that will contain a list of public objects that'll be available when we do wildcard imports.\n"
      ]
    },
    {
      "cell_type": "markdown",
      "metadata": {
        "id": "snKIq1AWzRqj"
      },
      "source": [
        "```py\n",
        "    __all__ = ['_another_weird_name_func']\n",
        "\n",
        "    def some_weird_name_func_():\n",
        "        print(\"works!\")\n",
        "\n",
        "    def _another_weird_name_func():\n",
        "        print(\"works!\")\n",
        "```\n",
        "```py\n",
        "```\n"
      ]
    },
    {
      "cell_type": "markdown",
      "metadata": {
        "id": "N2hJgGe4zRqj"
      },
      "source": [
        "    **Output**\n",
        "\n"
      ]
    },
    {
      "cell_type": "markdown",
      "metadata": {
        "id": "xQma-qsSzRqj"
      },
      "source": [
        "```py\n",
        "    >>> _another_weird_name_func()\n",
        "```\n",
        "```py\n",
        "    \"works!\"\n",
        "```\n"
      ]
    },
    {
      "cell_type": "markdown",
      "metadata": {
        "id": "QEwmVhqvzRqj"
      },
      "source": [
        "```py\n",
        "    >>> some_weird_name_func_()\n",
        "```\n",
        "```py\n",
        "    Traceback (most recent call last):\n",
        "      File \"<stdin>\", line 1, in <module>\n",
        "    NameError: name 'some_weird_name_func_' is not defined\n",
        "```\n"
      ]
    },
    {
      "cell_type": "markdown",
      "metadata": {
        "id": "1vtAMeZMzRqj"
      },
      "source": [
        "\n"
      ]
    },
    {
      "cell_type": "markdown",
      "metadata": {
        "id": "RdUgJUmyzRqj"
      },
      "source": [
        "# Contributing\n",
        "\n",
        "A few ways in which you can contribute to wtfpython,\n",
        "\n",
        "- Suggesting new examples\n",
        "- Helping with translation (See [issues labeled translation](https://github.com/satwikkansal/wtfpython/issues?q=is%3Aissue+is%3Aopen+label%3Atranslation))\n",
        "- Minor corrections like pointing out outdated snippets, typos, formatting errors, etc.\n",
        "- Identifying gaps (things like inadequate explanation, redundant examples, etc.)\n",
        "- Any creative suggestions to make this project more fun and useful\n",
        "\n",
        "Please see [CONTRIBUTING.md](/CONTRIBUTING.md) for more details. Feel free to create a new [issue](https://github.com/satwikkansal/wtfpython/issues/new) to discuss things.\n",
        "\n",
        "PS: Please don't reach out with backlinking requests, no links will be added unless they're highly relevant to the project.\n",
        "\n",
        "# Acknowledgements\n",
        "\n",
        "The idea and design for this collection were initially inspired by Denys Dovhan's awesome project [wtfjs](https://github.com/denysdovhan/wtfjs). The overwhelming support by Pythonistas gave it the shape it is in right now.\n",
        "\n",
        "#### Some nice Links!\n",
        "* https://www.youtube.com/watch?v=sH4XF6pKKmk\n",
        "* https://www.reddit.com/r/Python/comments/3cu6ej/what_are_some_wtf_things_about_python\n",
        "* https://sopython.com/wiki/Common_Gotchas_In_Python\n",
        "* https://stackoverflow.com/questions/530530/python-2-x-gotchas-and-landmines\n",
        "* https://stackoverflow.com/questions/1011431/common-pitfalls-in-python\n",
        "* https://www.python.org/doc/humor/\n",
        "* https://github.com/cosmologicon/pywat#the-undocumented-converse-implication-operator\n",
        "* https://www.codementor.io/satwikkansal/python-practices-for-efficient-code-performance-memory-and-usability-aze6oiq65\n",
        "* https://github.com/wemake-services/wemake-python-styleguide/search?q=wtfpython&type=Issues\n",
        "* WFTPython discussion threads on [Hacker News](https://news.ycombinator.com/item?id=21862073) and [Reddit](https://www.reddit.com/r/programming/comments/edsh3q/what_the_fck_python_30_exploring_and/).\n",
        "\n",
        "# 🎓 License\n",
        "\n",
        "[![WTFPL 2.0][license-image]][license-url]\n",
        "\n",
        "&copy; [Satwik Kansal](https://satwikkansal.xyz)\n",
        "\n",
        "[license-url]: http://www.wtfpl.net\n",
        "[license-image]: https://img.shields.io/badge/License-WTFPL%202.0-lightgrey.svg?style=flat-square\n",
        "\n"
      ]
    }
  ],
  "metadata": {
    "colab": {
      "name": "wtf.ipynb",
      "provenance": [],
      "include_colab_link": true
    }
  },
  "nbformat": 4,
  "nbformat_minor": 0
}